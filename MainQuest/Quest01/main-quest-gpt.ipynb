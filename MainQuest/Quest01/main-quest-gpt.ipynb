{
 "cells": [
  {
   "cell_type": "code",
   "execution_count": 1,
   "id": "0fc94427",
   "metadata": {},
   "outputs": [],
   "source": [
    "import os\n",
    "import re\n",
    "import numpy as np\n",
    "import pandas as pd\n",
    "\n",
    "import matplotlib.pyplot as plt\n",
    "\n",
    "import tensorflow as tf\n",
    "import tensorflow_datasets as tfds\n",
    "from tensorflow.keras.callbacks import EarlyStopping"
   ]
  },
  {
   "cell_type": "markdown",
   "id": "30c68cd5",
   "metadata": {},
   "source": [
    "### GPT 모델 구현"
   ]
  },
  {
   "cell_type": "code",
   "execution_count": 2,
   "id": "aa541015",
   "metadata": {},
   "outputs": [],
   "source": [
    "\"\"\"PositionalEncoding -> EmbeddingLayer\n",
    "\n",
    "token 임베딩과 positional 임베딩을 함께 진행하는 층 구현\n",
    "\n",
    "\"\"\"\n",
    "\n",
    "class EmbeddingLayer(tf.keras.layers.Layer):\n",
    "    def  __init__(self, vocab_size, d_model, max_position):\n",
    "        \"\"\"\n",
    "        Args:\n",
    "            vocab_size: 토큰 수\n",
    "            d_model: 임베딩 차원\n",
    "            max_position: 최대 시퀀스 길이\n",
    "        \"\"\"\n",
    "        super(EmbeddingLayer, self).__init__()\n",
    "        ## 토큰 임베딩\n",
    "        self.token_embedding = tf.keras.layers.Embedding(\n",
    "            input_dim=vocab_size, \n",
    "            output_dim=d_model\n",
    "        )\n",
    "        ## 포지셔널 임베딩\n",
    "        self.position_embedding = tf.keras.layers.Embedding(\n",
    "            input_dim=max_position, \n",
    "            output_dim=d_model\n",
    "        )\n",
    "    \n",
    "    def call(self, x):\n",
    "        ## token embedding\n",
    "        token_embeddings = self.token_embedding(x)\n",
    "        \n",
    "        ## positional embedding\n",
    "        seq_length = tf.shape(x)[1] # 시퀀스 길이\n",
    "        positions = tf.range(start=0, limit=seq_length, delta=1) # 토큰 위치 데이터 형성\n",
    "        positions = tf.expand_dims(positions, axis=0) # 배치 단위로 누적해서 차원 늘리기\n",
    "        \n",
    "        positional_embeddings = self.position_embedding(positions)\n",
    "        \n",
    "        return token_embeddings, positional_embeddings"
   ]
  },
  {
   "cell_type": "code",
   "execution_count": 3,
   "id": "c4425833",
   "metadata": {},
   "outputs": [],
   "source": [
    "## 스케일드 닷 프로덕트 어텐션 함수\n",
    "def scaled_dot_product_attention(query, key, value, mask):\n",
    "    ## 어텐션 가중치는 Q와 K의 닷 프로덕트\n",
    "    matmul_qk = tf.matmul(query, key, transpose_b=True)\n",
    "\n",
    "    ## 가중치를 정규화\n",
    "    depth = tf.cast(tf.shape(key)[-1], tf.float32)\n",
    "    logits = matmul_qk / tf.math.sqrt(depth)\n",
    "\n",
    "    ## 패딩에 마스크 추가\n",
    "    if mask is not None:\n",
    "        logits += (mask * -1e9)\n",
    "\n",
    "    ## softmax적용\n",
    "    attention_weights = tf.nn.softmax(logits, axis=-1)\n",
    "\n",
    "    ## 최종 어텐션은 가중치와 V의 닷 프로덕트\n",
    "    output = tf.matmul(attention_weights, value)\n",
    "    \n",
    "    return output"
   ]
  },
  {
   "cell_type": "code",
   "execution_count": 4,
   "id": "f297da3d",
   "metadata": {},
   "outputs": [],
   "source": [
    "## MultiHeadAttention 구현\n",
    "class MultiHeadAttention(tf.keras.layers.Layer):\n",
    "    def __init__(self, d_model, num_heads, name=\"multi_head_attention\"):\n",
    "        super(MultiHeadAttention, self).__init__(name=name)\n",
    "        self.num_heads = num_heads ## multi heads 수\n",
    "        self.d_model = d_model ## embedding layer 수\n",
    "\n",
    "        assert d_model % self.num_heads == 0\n",
    "\n",
    "        self.depth = d_model // self.num_heads\n",
    "\n",
    "        self.query_dense = tf.keras.layers.Dense(units=d_model)\n",
    "        self.key_dense = tf.keras.layers.Dense(units=d_model)\n",
    "        self.value_dense = tf.keras.layers.Dense(units=d_model)\n",
    "\n",
    "        self.dense = tf.keras.layers.Dense(units=d_model)\n",
    "\n",
    "    def split_heads(self, inputs, batch_size):\n",
    "        inputs = tf.reshape(\n",
    "            inputs, shape=(batch_size, -1, self.num_heads, self.depth)\n",
    "            )\n",
    "        return tf.transpose(inputs, perm=[0, 2, 1, 3])\n",
    "\n",
    "    def call(self, inputs):\n",
    "        query, key, value, mask = inputs['query'], inputs['key'], inputs[\n",
    "            'value'], inputs['mask']\n",
    "        batch_size = tf.shape(query)[0]\n",
    "\n",
    "        # Q, K, V에 각각 Dense를 적용합니다\n",
    "        query = self.query_dense(query)  \n",
    "        key = self.key_dense(key)        \n",
    "        value = self.value_dense(value)  \n",
    "\n",
    "        # 병렬 연산을 위한 머리를 여러 개 만듭니다\n",
    "        query = self.split_heads(query, batch_size)  \n",
    "        key = self.split_heads(key, batch_size)      \n",
    "        value = self.split_heads(value, batch_size) \n",
    "\n",
    "        # 스케일드 닷 프로덕트 어텐션 함수\n",
    "        scaled_attention = scaled_dot_product_attention(query, key, value, mask)\n",
    "        scaled_attention = tf.transpose(scaled_attention, perm=[0, 2, 1, 3])\n",
    "\n",
    "        # 어텐션 연산 후에 각 결과를 다시 연결(concatenate)합니다\n",
    "        concat_attention = tf.reshape(scaled_attention,\n",
    "                                      (batch_size, -1, self.d_model))\n",
    "\n",
    "        # 최종 결과에도 Dense를 한 번 더 적용합니다\n",
    "        outputs = self.dense(concat_attention)\n",
    "\n",
    "        return outputs"
   ]
  },
  {
   "cell_type": "code",
   "execution_count": 5,
   "id": "8db80332",
   "metadata": {},
   "outputs": [],
   "source": [
    "## Padding Masking\n",
    "def create_padding_mask(x):\n",
    "    mask = tf.cast(tf.math.equal(x, 0), tf.float32)\n",
    "    \n",
    "    # (batch_size, 1, 1, sequence length)\n",
    "    return mask[:, tf.newaxis, tf.newaxis, :]\n",
    "\n",
    "## Look-ahead masking\n",
    "def create_look_ahead_mask(x):\n",
    "    seq_len = tf.shape(x)[1]\n",
    "    look_ahead_mask = 1 - tf.linalg.band_part(tf.ones((seq_len, seq_len)), -1, 0)\n",
    "    padding_mask = create_padding_mask(x)\n",
    "    \n",
    "    return tf.maximum(look_ahead_mask, padding_mask)"
   ]
  },
  {
   "cell_type": "code",
   "execution_count": 6,
   "id": "8633e85f",
   "metadata": {},
   "outputs": [
    {
     "data": {
      "text/plain": [
       "'encoder & encoder layer\\n  \\n인코더는 gpt에서 사용하지 않으므로 제거합니다.   \\n\\n'"
      ]
     },
     "execution_count": 6,
     "metadata": {},
     "output_type": "execute_result"
    }
   ],
   "source": [
    "\"\"\"encoder & encoder layer\n",
    "  \n",
    "인코더는 gpt에서 사용하지 않으므로 제거합니다.   \n",
    "\n",
    "\"\"\"  "
   ]
  },
  {
   "cell_type": "code",
   "execution_count": 7,
   "id": "5f9ad404",
   "metadata": {},
   "outputs": [],
   "source": [
    "\"\"\"decoder layer\n",
    "\n",
    "인코더-디코더 어텐션 층을 사용하지 않으므로 제거합니다. \n",
    "\n",
    "또한 masked multi-head self-attention에서의 결과 값을 잔차연결한 후 층 정규화를 진행합니다. \n",
    "이후의 결과 값을 바로 dense 층에 연결합니다. \n",
    "dense 층의 결과를 다시 잔차연결해주고 층 정규화를 진행합니다. \n",
    "\n",
    "\"\"\"\n",
    "\n",
    "## 디코더 하나의 레이어를 함수로 구현.\n",
    "## 이 하나의 레이어 안에는 세 개의 서브 레이어가 존재합니다.\n",
    "def decoder_layer(units, d_model, num_heads, dropout, name=\"decoder_layer\"):\n",
    "    inputs = tf.keras.Input(shape=(None, d_model), name=\"inputs\")\n",
    "    \n",
    "    ## Look ahead mask 사용\n",
    "    look_ahead_mask = tf.keras.Input(\n",
    "        shape=(1, None, None), name=\"look_ahead_mask\")\n",
    "\n",
    "    ## 첫 번째 서브 레이어 : 멀티 헤드 어텐션 수행 (셀프 어텐션)\n",
    "    attention1 = MultiHeadAttention(\n",
    "        d_model, num_heads, name=\"attention_1\")(inputs={\n",
    "        'query': inputs,\n",
    "        'key': inputs,\n",
    "        'value': inputs,\n",
    "        'mask': look_ahead_mask\n",
    "    })\n",
    "\n",
    "    ## 멀티 헤드 어텐션의 결과는 LayerNormalization이라는 훈련을 돕는 테크닉을 수행\n",
    "    attention1 = tf.keras.layers.LayerNormalization(\n",
    "        epsilon=1e-6)(attention1 + inputs) ## 잔차연결\n",
    "\n",
    "    ##### 변경사항: 어텐션1로 바로 연결. #####\n",
    "    ## 두 번째 서브 레이어 : 2개의 완전연결층\n",
    "    outputs = tf.keras.layers.Dense(units=units, activation='relu')(attention1)\n",
    "    outputs = tf.keras.layers.Dense(units=d_model)(outputs)\n",
    "\n",
    "    ## 완전연결층의 결과는 Dropout과 LayerNormalization 수행\n",
    "    outputs = tf.keras.layers.Dropout(rate=dropout)(outputs)\n",
    "    outputs = tf.keras.layers.LayerNormalization(\n",
    "        epsilon=1e-6)(outputs + attention1)\n",
    "\n",
    "    return tf.keras.Model(\n",
    "        inputs=[inputs, look_ahead_mask],\n",
    "        outputs=outputs,\n",
    "        name=name)"
   ]
  },
  {
   "cell_type": "code",
   "execution_count": 95,
   "id": "42d6c332",
   "metadata": {},
   "outputs": [],
   "source": [
    "\"\"\"decoder\n",
    "\n",
    "인코더로부터의 입력을 받는 부분을 제거합니다. \n",
    "포지셔널 인코딩을 포지셔널 임베딩으로 변경합니다. \n",
    "\n",
    "\"\"\"\n",
    "## Decoder\n",
    "def decoder(vocab_size,\n",
    "            max_position, \n",
    "            num_layers,\n",
    "            units,\n",
    "            d_model,\n",
    "            num_heads,\n",
    "            dropout,\n",
    "            name='decoder'):\n",
    "    \n",
    "    inputs = tf.keras.Input(shape=(None,), name='inputs')\n",
    "    \n",
    "    ## look ahead mask 사용\n",
    "    look_ahead_mask = tf.keras.Input(\n",
    "        shape=(1, None, None), name='look_ahead_mask')\n",
    "  \n",
    "    ## 토큰 임베딩 레이어 & 포지셔널 임베딩 레이어\n",
    "    token_embeddings, positional_embeddings = EmbeddingLayer(vocab_size, d_model, max_position)(inputs)\n",
    "    embeddings = token_embeddings + positional_embeddings\n",
    "    embeddings *= tf.math.sqrt(tf.cast(d_model, tf.float32))\n",
    "\n",
    "    ## Dropout이라는 훈련을 돕는 테크닉을 수행\n",
    "    outputs = tf.keras.layers.Dropout(rate=dropout)(embeddings)\n",
    "\n",
    "    for i in range(num_layers):\n",
    "        outputs = decoder_layer(\n",
    "            units=units,\n",
    "            d_model=d_model,\n",
    "            num_heads=num_heads,\n",
    "            dropout=dropout,\n",
    "            name='decoder_layer_{}'.format(i),\n",
    "        )(inputs=[outputs, look_ahead_mask])\n",
    "        \n",
    "    return tf.keras.Model(\n",
    "        inputs=[inputs, look_ahead_mask],\n",
    "        outputs=outputs,\n",
    "        name=name)"
   ]
  },
  {
   "cell_type": "markdown",
   "id": "7b26513e",
   "metadata": {},
   "source": [
    "## Step 1. 데이터 수집하기"
   ]
  },
  {
   "cell_type": "code",
   "execution_count": 9,
   "id": "496ea1f6",
   "metadata": {
    "scrolled": true
   },
   "outputs": [
    {
     "data": {
      "text/html": [
       "<div>\n",
       "<style scoped>\n",
       "    .dataframe tbody tr th:only-of-type {\n",
       "        vertical-align: middle;\n",
       "    }\n",
       "\n",
       "    .dataframe tbody tr th {\n",
       "        vertical-align: top;\n",
       "    }\n",
       "\n",
       "    .dataframe thead th {\n",
       "        text-align: right;\n",
       "    }\n",
       "</style>\n",
       "<table border=\"1\" class=\"dataframe\">\n",
       "  <thead>\n",
       "    <tr style=\"text-align: right;\">\n",
       "      <th></th>\n",
       "      <th>Q</th>\n",
       "      <th>A</th>\n",
       "    </tr>\n",
       "  </thead>\n",
       "  <tbody>\n",
       "    <tr>\n",
       "      <th>0</th>\n",
       "      <td>12시 땡!</td>\n",
       "      <td>하루가 또 가네요.</td>\n",
       "    </tr>\n",
       "    <tr>\n",
       "      <th>1</th>\n",
       "      <td>1지망 학교 떨어졌어</td>\n",
       "      <td>위로해 드립니다.</td>\n",
       "    </tr>\n",
       "    <tr>\n",
       "      <th>2</th>\n",
       "      <td>3박4일 놀러가고 싶다</td>\n",
       "      <td>여행은 언제나 좋죠.</td>\n",
       "    </tr>\n",
       "    <tr>\n",
       "      <th>3</th>\n",
       "      <td>3박4일 정도 놀러가고 싶다</td>\n",
       "      <td>여행은 언제나 좋죠.</td>\n",
       "    </tr>\n",
       "    <tr>\n",
       "      <th>4</th>\n",
       "      <td>PPL 심하네</td>\n",
       "      <td>눈살이 찌푸려지죠.</td>\n",
       "    </tr>\n",
       "  </tbody>\n",
       "</table>\n",
       "</div>"
      ],
      "text/plain": [
       "                 Q            A\n",
       "0           12시 땡!   하루가 또 가네요.\n",
       "1      1지망 학교 떨어졌어    위로해 드립니다.\n",
       "2     3박4일 놀러가고 싶다  여행은 언제나 좋죠.\n",
       "3  3박4일 정도 놀러가고 싶다  여행은 언제나 좋죠.\n",
       "4          PPL 심하네   눈살이 찌푸려지죠."
      ]
     },
     "execution_count": 9,
     "metadata": {},
     "output_type": "execute_result"
    }
   ],
   "source": [
    "data = pd.read_csv(\"~/data/ChatbotData .csv\")\n",
    "data = data[[\"Q\", \"A\"]]\n",
    "data.head()"
   ]
  },
  {
   "cell_type": "code",
   "execution_count": 10,
   "id": "4749a843",
   "metadata": {},
   "outputs": [
    {
     "name": "stdout",
     "output_type": "stream",
     "text": [
      "총 데이터 수 : 11823\n"
     ]
    }
   ],
   "source": [
    "print(\"총 데이터 수 :\", len(data))"
   ]
  },
  {
   "cell_type": "code",
   "execution_count": 11,
   "id": "0fb4a93a",
   "metadata": {},
   "outputs": [
    {
     "data": {
      "text/plain": [
       "Q    0\n",
       "A    0\n",
       "dtype: int64"
      ]
     },
     "execution_count": 11,
     "metadata": {},
     "output_type": "execute_result"
    }
   ],
   "source": [
    "## 결측치 확인\n",
    "data.isna().sum()"
   ]
  },
  {
   "cell_type": "code",
   "execution_count": 12,
   "id": "314409f9",
   "metadata": {},
   "outputs": [
    {
     "data": {
      "text/html": [
       "<div>\n",
       "<style scoped>\n",
       "    .dataframe tbody tr th:only-of-type {\n",
       "        vertical-align: middle;\n",
       "    }\n",
       "\n",
       "    .dataframe tbody tr th {\n",
       "        vertical-align: top;\n",
       "    }\n",
       "\n",
       "    .dataframe thead th {\n",
       "        text-align: right;\n",
       "    }\n",
       "</style>\n",
       "<table border=\"1\" class=\"dataframe\">\n",
       "  <thead>\n",
       "    <tr style=\"text-align: right;\">\n",
       "      <th></th>\n",
       "      <th>Q</th>\n",
       "      <th>A</th>\n",
       "    </tr>\n",
       "  </thead>\n",
       "  <tbody>\n",
       "    <tr>\n",
       "      <th>5527</th>\n",
       "      <td>결혼이나 하지 왜 자꾸 나한테 화 내냐구!</td>\n",
       "      <td>힘들겠네요.</td>\n",
       "    </tr>\n",
       "    <tr>\n",
       "      <th>5537</th>\n",
       "      <td>고백하고 후회하면 어떡하지</td>\n",
       "      <td>후회는 후회를 낳을뿐이에요. 용기 내세요.</td>\n",
       "    </tr>\n",
       "    <tr>\n",
       "      <th>5542</th>\n",
       "      <td>공부는 내 체질이 아닌 것 같아</td>\n",
       "      <td>확신이 없나봐요.</td>\n",
       "    </tr>\n",
       "    <tr>\n",
       "      <th>5704</th>\n",
       "      <td>기숙사 괜찮을까</td>\n",
       "      <td>혼자 사는 것보다 불편하겠죠.</td>\n",
       "    </tr>\n",
       "    <tr>\n",
       "      <th>5774</th>\n",
       "      <td>나는 좋은데 ….</td>\n",
       "      <td>현실의 벽에 부딪혔나봐요.</td>\n",
       "    </tr>\n",
       "    <tr>\n",
       "      <th>...</th>\n",
       "      <td>...</td>\n",
       "      <td>...</td>\n",
       "    </tr>\n",
       "    <tr>\n",
       "      <th>8764</th>\n",
       "      <td>환승 가능?</td>\n",
       "      <td>환승은 30분 안에</td>\n",
       "    </tr>\n",
       "    <tr>\n",
       "      <th>8780</th>\n",
       "      <td>회사 사람들이 아직도 불편해</td>\n",
       "      <td>회사에는 동료가 있을 뿐이에요.</td>\n",
       "    </tr>\n",
       "    <tr>\n",
       "      <th>8782</th>\n",
       "      <td>회사에는 왜 친구 같은 사람이 없을까</td>\n",
       "      <td>회사는 친구 사귀는 곳이 아니에요.</td>\n",
       "    </tr>\n",
       "    <tr>\n",
       "      <th>8789</th>\n",
       "      <td>후련하달까</td>\n",
       "      <td>후련하니 다행이에요.</td>\n",
       "    </tr>\n",
       "    <tr>\n",
       "      <th>9541</th>\n",
       "      <td>내일 만나자고 해볼까?</td>\n",
       "      <td>멋지게 데이트 신청 해보세요.</td>\n",
       "    </tr>\n",
       "  </tbody>\n",
       "</table>\n",
       "<p>73 rows × 2 columns</p>\n",
       "</div>"
      ],
      "text/plain": [
       "                            Q                        A\n",
       "5527  결혼이나 하지 왜 자꾸 나한테 화 내냐구!                   힘들겠네요.\n",
       "5537           고백하고 후회하면 어떡하지  후회는 후회를 낳을뿐이에요. 용기 내세요.\n",
       "5542        공부는 내 체질이 아닌 것 같아                확신이 없나봐요.\n",
       "5704                 기숙사 괜찮을까         혼자 사는 것보다 불편하겠죠.\n",
       "5774                나는 좋은데 ….           현실의 벽에 부딪혔나봐요.\n",
       "...                       ...                      ...\n",
       "8764                   환승 가능?               환승은 30분 안에\n",
       "8780          회사 사람들이 아직도 불편해        회사에는 동료가 있을 뿐이에요.\n",
       "8782     회사에는 왜 친구 같은 사람이 없을까      회사는 친구 사귀는 곳이 아니에요.\n",
       "8789                    후련하달까              후련하니 다행이에요.\n",
       "9541             내일 만나자고 해볼까?         멋지게 데이트 신청 해보세요.\n",
       "\n",
       "[73 rows x 2 columns]"
      ]
     },
     "execution_count": 12,
     "metadata": {},
     "output_type": "execute_result"
    }
   ],
   "source": [
    "## 중복값 확인\n",
    "data[data.duplicated()]"
   ]
  },
  {
   "cell_type": "markdown",
   "id": "96e200b9",
   "metadata": {},
   "source": [
    "## Step 2. 데이터 전처리하기"
   ]
  },
  {
   "cell_type": "code",
   "execution_count": 13,
   "id": "e17596a2",
   "metadata": {},
   "outputs": [],
   "source": [
    "# 전처리 함수\n",
    "def preprocess_sentence(sentence):\n",
    "    # 입력받은 sentence의 영어는 소문자로 변경하고 양쪽 공백을 제거\n",
    "    sentence = sentence.lower()\n",
    "    sentence = sentence.strip()\n",
    "\n",
    "    # 단어와 구두점(punctuation) 사이의 거리를 만듭니다.\n",
    "    # 예를 들어서 \"I am a student.\" => \"I am a student .\"와 같이\n",
    "    # student와 온점 사이에 거리를 만듭니다.\n",
    "    sentence = re.sub(r\"([?.!,])\", r\" \\1 \", sentence)\n",
    "    sentence = re.sub(r'[\" \"]+', \" \", sentence)\n",
    "\n",
    "    # (a-z, A-Z, 0-9, \".\", \"?\", \"!\", \",\", 가-힣)를 제외한 모든 문자를 공백인 ' '로 대체합니다.\n",
    "    sentence = re.sub(r'[^a-zA-Z0-9.,?!가-힣]', ' ', sentence)\n",
    "    sentence = sentence.strip()\n",
    "    return sentence"
   ]
  },
  {
   "cell_type": "code",
   "execution_count": 14,
   "id": "17de54e6",
   "metadata": {},
   "outputs": [],
   "source": [
    "questions = data[\"Q\"].apply(preprocess_sentence).tolist()\n",
    "answers = data[\"A\"].apply(preprocess_sentence).tolist()"
   ]
  },
  {
   "cell_type": "code",
   "execution_count": 15,
   "id": "aa89bcc3",
   "metadata": {},
   "outputs": [
    {
     "name": "stdout",
     "output_type": "stream",
     "text": [
      "전처리 후의 22번째 질문 샘플: 가스비 장난 아님\n",
      "전처리 후의 22번째 답변 샘플: 다음 달에는 더 절약해봐요 .\n"
     ]
    }
   ],
   "source": [
    "print('전처리 후의 22번째 질문 샘플: {}'.format(questions[21]))\n",
    "print('전처리 후의 22번째 답변 샘플: {}'.format(answers[21]))"
   ]
  },
  {
   "cell_type": "markdown",
   "id": "9f51b401",
   "metadata": {},
   "source": [
    "## Step 3. SubwordTextEncoder 사용하기"
   ]
  },
  {
   "cell_type": "markdown",
   "id": "e1528f7f",
   "metadata": {},
   "source": [
    "#### 1. 단어장(Vocabulary) 만들기"
   ]
  },
  {
   "cell_type": "code",
   "execution_count": 16,
   "id": "3d20f866",
   "metadata": {},
   "outputs": [],
   "source": [
    "# 질문과 답변 데이터셋에 대해서 Vocabulary 생성\n",
    "tokenizer = tfds.deprecated.text.SubwordTextEncoder.build_from_corpus(\n",
    "    questions + answers, target_vocab_size=2**13\n",
    ")"
   ]
  },
  {
   "cell_type": "code",
   "execution_count": 17,
   "id": "87e9e4cd",
   "metadata": {},
   "outputs": [],
   "source": [
    "\"\"\"DELIM_TOKEN 토큰 추가\n",
    "\"\"\"\n",
    "\n",
    "# 시작 토큰과 종료 토큰에 고유한 정수를 부여합니다.\n",
    "START_TOKEN, END_TOKEN = [tokenizer.vocab_size], [tokenizer.vocab_size + 1]\n",
    "DELIM_TOKEN = [tokenizer.vocab_size + 2]"
   ]
  },
  {
   "cell_type": "code",
   "execution_count": 18,
   "id": "71307972",
   "metadata": {},
   "outputs": [
    {
     "name": "stdout",
     "output_type": "stream",
     "text": [
      "vocab size : [8164]\n",
      "START_TOKEN의 번호 : [8164]\n",
      "END_TOKEN의 번호 : [8165]\n",
      "DELIM_TOKEN의 번호 : [8166]\n"
     ]
    }
   ],
   "source": [
    "print('vocab size :', [tokenizer.vocab_size])\n",
    "print('START_TOKEN의 번호 :' ,[tokenizer.vocab_size])\n",
    "print('END_TOKEN의 번호 :' ,[tokenizer.vocab_size + 1])\n",
    "print('DELIM_TOKEN의 번호 :' ,[tokenizer.vocab_size + 2])"
   ]
  },
  {
   "cell_type": "code",
   "execution_count": 19,
   "id": "1f900a6f",
   "metadata": {},
   "outputs": [
    {
     "name": "stdout",
     "output_type": "stream",
     "text": [
      "8167\n"
     ]
    }
   ],
   "source": [
    "# 시작 토큰과 종료 토큰을 고려하여 +2를 하여 단어장의 크기를 산정합니다.\n",
    "VOCAB_SIZE = tokenizer.vocab_size + 3\n",
    "print(VOCAB_SIZE)"
   ]
  },
  {
   "cell_type": "markdown",
   "id": "f9ac5193",
   "metadata": {},
   "source": [
    "#### 2. 각 단어를 고유한 정수로 인코딩(Integer encoding) & 패딩(Padding)"
   ]
  },
  {
   "cell_type": "code",
   "execution_count": 20,
   "id": "745942f9",
   "metadata": {},
   "outputs": [
    {
     "name": "stdout",
     "output_type": "stream",
     "text": [
      "정수 인코딩 후의 21번째 질문 샘플: [5758, 610, 2487, 4159]\n",
      "정수 인코딩 후의 21번째 답변 샘플: [2355, 7504, 7, 6268, 97, 1]\n"
     ]
    }
   ],
   "source": [
    "# 임의의 22번째 샘플에 대해서 정수 인코딩 작업을 수행.\n",
    "# 각 토큰을 고유한 정수로 변환\n",
    "print('정수 인코딩 후의 21번째 질문 샘플: {}'.format(tokenizer.encode(questions[21])))\n",
    "print('정수 인코딩 후의 21번째 답변 샘플: {}'.format(tokenizer.encode(answers[21])))"
   ]
  },
  {
   "cell_type": "code",
   "execution_count": 21,
   "id": "6ba6bf0a",
   "metadata": {
    "scrolled": true
   },
   "outputs": [
    {
     "name": "stdout",
     "output_type": "stream",
     "text": [
      "20\n"
     ]
    }
   ],
   "source": [
    "# 샘플의 최대 허용 길이 또는 패딩 후의 최종 길이\n",
    "MAX_LENGTH = 20 ## 15 <- 40\n",
    "print(MAX_LENGTH)"
   ]
  },
  {
   "attachments": {
    "image-2.png": {
     "image/png": "[encoded data removed]"
    },
    "image.png": {
     "image/png": "[encoded data removed]"
    }
   },
   "cell_type": "markdown",
   "id": "b9c5908a",
   "metadata": {},
   "source": [
    "## 2. 모델의 입력 형태에 맞게 전처리를 수행하였다. \n",
    "#### Delimiter token 추가 \n",
    "![image.png](attachment:image.png)  \n",
    "#### input output 재구성\n",
    "![image-2.png](attachment:image-2.png)  "
   ]
  },
  {
   "cell_type": "code",
   "execution_count": 22,
   "id": "fb51c13e",
   "metadata": {},
   "outputs": [],
   "source": [
    "\"\"\"Delimiter token 추가\n",
    "\n",
    "두 문장 사이에 DELIM_TOKEN을 추가한다. \n",
    "\n",
    "\"\"\"\n",
    "# 정수 인코딩, 최대 길이를 초과하는 샘플 제거, 패딩\n",
    "def tokenize_and_filter(inputs, outputs):\n",
    "    tokenized_inputs = []\n",
    "\n",
    "    # 정수 인코딩 과정에서 시작 토큰과 종료 토큰을 추가\n",
    "    for (sentence1, sentence2) in zip(inputs, outputs):\n",
    "        sentence = START_TOKEN + tokenizer.encode(sentence1) + DELIM_TOKEN + tokenizer.encode(sentence2) + END_TOKEN\n",
    "\n",
    "        # 최대 길이 40 이하인 경우에만 데이터셋으로 허용\n",
    "        if len(sentence) <= MAX_LENGTH:\n",
    "            tokenized_inputs.append(sentence)\n",
    "\n",
    "    # 최대 길이 20으로 모든 데이터셋을 패딩\n",
    "    tokenized_inputs = tf.keras.preprocessing.sequence.pad_sequences(\n",
    "        tokenized_inputs, maxlen=MAX_LENGTH, padding='post'\n",
    "    )\n",
    "\n",
    "    return tokenized_inputs"
   ]
  },
  {
   "cell_type": "code",
   "execution_count": 23,
   "id": "3bdfdff9",
   "metadata": {},
   "outputs": [
    {
     "name": "stdout",
     "output_type": "stream",
     "text": [
      "단어장의 크기 : 8167\n",
      "필터링 후의 질문 샘플 개수: 10960\n"
     ]
    }
   ],
   "source": [
    "input_values = tokenize_and_filter(questions, answers)\n",
    "print('단어장의 크기 :',(VOCAB_SIZE))\n",
    "print('필터링 후의 질문 샘플 개수: {}'.format(len(input_values)))"
   ]
  },
  {
   "cell_type": "markdown",
   "id": "780980e7",
   "metadata": {},
   "source": [
    "#### 3. 데이터 셋 "
   ]
  },
  {
   "cell_type": "code",
   "execution_count": 24,
   "id": "64e0306c",
   "metadata": {},
   "outputs": [],
   "source": [
    "BATCH_SIZE = 64\n",
    "BUFFER_SIZE = 20000\n",
    "\n",
    "# 디코더는 이전의 target을 다음의 input으로 사용합니다.\n",
    "# 이에 따라 outputs에서는 START_TOKEN을 제거하겠습니다.\n",
    "dataset = tf.data.Dataset.from_tensor_slices((\n",
    "    {\n",
    "        'inputs': input_values[:, :-1],\n",
    "    },\n",
    "    {\n",
    "        'outputs': input_values[:, 1:],\n",
    "    }\n",
    "))\n",
    "\n",
    "## 데이터가 디스크에서 한 번만 로드되도록 하여 성능을 향상\n",
    "dataset = dataset.cache()\n",
    "\n",
    "## BUFFER_SIZE만큼 데이터를 섞음\n",
    "dataset = dataset.shuffle(BUFFER_SIZE)\n",
    "\n",
    "## BATCH_SIZE만큼의 샘플로 묶음\n",
    "dataset = dataset.batch(BATCH_SIZE)\n",
    "\n",
    "## 모델이 학습을 하는 동안 다음 배치를 미리 준비\n",
    "dataset = dataset.prefetch(tf.data.experimental.AUTOTUNE)"
   ]
  },
  {
   "cell_type": "markdown",
   "id": "22cb675e",
   "metadata": {},
   "source": [
    "## Step 4. 모델 정의 및 학습"
   ]
  },
  {
   "attachments": {
    "image-2.png": {
     "image/png": "[encoded data removed]"
    },
    "image.png": {
     "image/png": "[encoded data removed]"
    }
   },
   "cell_type": "markdown",
   "id": "e9eb21b2",
   "metadata": {},
   "source": [
    "## 4. GPT 모델을 정상적으로 구성하였다. (model.summary, model.fit 결과 캡쳐 첨부)\n",
    "\n",
    "#### model.summary  \n",
    "![image-2.png](attachment:image-2.png)     \n",
    "#### model.fit\n",
    "![image.png](attachment:image.png)   "
   ]
  },
  {
   "cell_type": "markdown",
   "id": "b522e7a9",
   "metadata": {},
   "source": [
    "#### 모델 생성"
   ]
  },
  {
   "cell_type": "code",
   "execution_count": 96,
   "id": "1c0c614e",
   "metadata": {},
   "outputs": [],
   "source": [
    "\"\"\"transformer -> gpt\n",
    "\n",
    "gpt에서는 인코더를 사용하지 않으므로 관련된 코드들을 제거합니다. \n",
    "\n",
    "1. 인코더 input 제거  \n",
    "2. 인코더 패딩을 위한 마스크 제거  \n",
    "3. 인코더 제거  \n",
    "\n",
    "디코더 아웃풋을 출력한다. pre train과 fine tuning을 구분하기 위해서 입니다. \n",
    "\n",
    "논문 식(2)의 마지막 수식을 추가합니다. softmax 사용\n",
    "\n",
    "\"\"\"\n",
    "def gpt(\n",
    "    vocab_size,\n",
    "    max_position,\n",
    "    num_layers,\n",
    "    units,\n",
    "    d_model,\n",
    "    num_heads,\n",
    "    dropout,\n",
    "    name=\"gpt\"\n",
    "   ):\n",
    "    \n",
    "    inputs = tf.keras.Input(shape=(None,), name=\"inputs\") \n",
    "\n",
    "    ## 디코더에서 미래의 토큰을 마스크 하기 위해서 사용합니다.\n",
    "    ## 내부적으로 패딩 마스크도 포함되어져 있습니다.\n",
    "    look_ahead_mask = tf.keras.layers.Lambda(\n",
    "        create_look_ahead_mask,\n",
    "        output_shape=(1, None, None),\n",
    "        name='look_ahead_mask'\n",
    "        )(inputs)\n",
    "\n",
    "    ## 디코더\n",
    "    outputs = decoder(\n",
    "      vocab_size=vocab_size,\n",
    "      max_position=max_position,\n",
    "      num_layers=num_layers,\n",
    "      units=units,\n",
    "      d_model=d_model,\n",
    "      num_heads=num_heads,\n",
    "      dropout=dropout,\n",
    "    )(inputs=[inputs,look_ahead_mask])\n",
    "    \n",
    "    ## softmax outputs\n",
    "    outputs = tf.keras.layers.Softmax(name=\"outputs\")(outputs)\n",
    "\n",
    "    return tf.keras.Model(inputs=inputs, outputs=outputs, name=name)"
   ]
  },
  {
   "cell_type": "markdown",
   "id": "6f4cf0d9",
   "metadata": {},
   "source": [
    "#### 손실 함수 "
   ]
  },
  {
   "cell_type": "code",
   "execution_count": 97,
   "id": "f36027ec",
   "metadata": {},
   "outputs": [],
   "source": [
    "def loss_function1(y_true, y_pred):\n",
    "    y_true = tf.reshape(y_true, shape=(-1, MAX_LENGTH - 1))\n",
    "  \n",
    "    loss = tf.keras.losses.SparseCategoricalCrossentropy(\n",
    "        from_logits=True, reduction='none')(y_true, y_pred)\n",
    "\n",
    "    mask = tf.cast(tf.not_equal(y_true, 0), tf.float32)\n",
    "    loss = tf.multiply(loss, mask)\n",
    "    \n",
    "    return tf.reduce_mean(loss)"
   ]
  },
  {
   "cell_type": "markdown",
   "id": "44e5f0b7",
   "metadata": {},
   "source": [
    "#### 커스텀 된 학습률(Learning rate)"
   ]
  },
  {
   "cell_type": "code",
   "execution_count": 98,
   "id": "c378bfb9",
   "metadata": {},
   "outputs": [],
   "source": [
    "class CustomSchedule(tf.keras.optimizers.schedules.LearningRateSchedule):\n",
    "    def __init__(self, d_model, warmup_steps=4000):\n",
    "        super(CustomSchedule, self).__init__()\n",
    "        self.d_model = d_model\n",
    "        self.d_model = tf.cast(self.d_model, tf.float32)\n",
    "        \n",
    "        self.warmup_steps = warmup_steps\n",
    "    \n",
    "    def __call__(self, step):\n",
    "        arg1 = tf.math.rsqrt(step)\n",
    "        arg2 = step * (self.warmup_steps**-1.5)\n",
    "\n",
    "        return tf.math.rsqrt(self.d_model) * tf.math.minimum(arg1, arg2)"
   ]
  },
  {
   "cell_type": "markdown",
   "id": "ba443b5d",
   "metadata": {},
   "source": [
    "#### pre-trained 모델 생성"
   ]
  },
  {
   "cell_type": "code",
   "execution_count": 99,
   "id": "385d2532",
   "metadata": {},
   "outputs": [],
   "source": [
    "tf.keras.backend.clear_session()\n",
    "\n",
    "## 하이퍼파라미터\n",
    "NUM_LAYERS = 12 # 인코더와 디코더의 층의 개수\n",
    "D_MODEL = 512 # 인코더와 디코더 내부의 입, 출력의 고정 차원\n",
    "NUM_HEADS = 8 # 멀티 헤드 어텐션에서의 헤드 수 \n",
    "UNITS = 2048 # 피드 포워드 신경망의 은닉층의 크기\n",
    "DROPOUT = 0.15 # 드롭아웃의 비율\n",
    "MAX_POSITION = 30"
   ]
  },
  {
   "cell_type": "code",
   "execution_count": 100,
   "id": "fc518c60",
   "metadata": {},
   "outputs": [
    {
     "name": "stdout",
     "output_type": "stream",
     "text": [
      "Model: \"pretrained_gpt\"\n",
      "__________________________________________________________________________________________________\n",
      "Layer (type)                    Output Shape         Param #     Connected to                     \n",
      "==================================================================================================\n",
      "inputs (InputLayer)             [(None, None)]       0                                            \n",
      "__________________________________________________________________________________________________\n",
      "look_ahead_mask (Lambda)        (None, 1, None, None 0           inputs[0][0]                     \n",
      "__________________________________________________________________________________________________\n",
      "decoder (Functional)            (None, None, 512)    42025472    inputs[0][0]                     \n",
      "                                                                 look_ahead_mask[0][0]            \n",
      "__________________________________________________________________________________________________\n",
      "outputs (Softmax)               (None, None, 512)    0           decoder[0][0]                    \n",
      "==================================================================================================\n",
      "Total params: 42,025,472\n",
      "Trainable params: 42,025,472\n",
      "Non-trainable params: 0\n",
      "__________________________________________________________________________________________________\n"
     ]
    }
   ],
   "source": [
    "## pre trained model\n",
    "pretrained_model = gpt(    \n",
    "    vocab_size=VOCAB_SIZE,\n",
    "    max_position=MAX_POSITION, \n",
    "    num_layers=NUM_LAYERS,\n",
    "    units=UNITS,\n",
    "    d_model=D_MODEL,\n",
    "    num_heads=NUM_HEADS,\n",
    "    dropout=DROPOUT, \n",
    "    name=\"pretrained_gpt\"\n",
    ")\n",
    "\n",
    "pretrained_model.summary()"
   ]
  },
  {
   "cell_type": "markdown",
   "id": "5ca5ec9a",
   "metadata": {},
   "source": [
    "#### pre trained model 모델 컴파일"
   ]
  },
  {
   "cell_type": "code",
   "execution_count": 101,
   "id": "98bc1556",
   "metadata": {},
   "outputs": [],
   "source": [
    "learning_rate = CustomSchedule(D_MODEL)\n",
    "optimizer = tf.keras.optimizers.Adam(\n",
    "    learning_rate, beta_1=0.9, beta_2=0.98, epsilon=1e-9)\n",
    "\n",
    "def accuracy(y_true, y_pred):\n",
    "    y_true = tf.reshape(y_true, shape=(-1, MAX_LENGTH - 1))\n",
    "    return tf.keras.metrics.sparse_categorical_accuracy(y_true, y_pred)\n",
    "\n",
    "pretrained_model.compile(optimizer=optimizer, loss=loss_function1, metrics=[accuracy])"
   ]
  },
  {
   "cell_type": "markdown",
   "id": "accc7754",
   "metadata": {},
   "source": [
    "#### pre trained model 훈련하기"
   ]
  },
  {
   "cell_type": "code",
   "execution_count": 102,
   "id": "7ae4535e",
   "metadata": {
    "scrolled": false
   },
   "outputs": [
    {
     "name": "stdout",
     "output_type": "stream",
     "text": [
      "Epoch 1/10\n",
      "172/172 [==============================] - 31s 109ms/step - loss: nan - accuracy: 0.3347\n",
      "Epoch 2/10\n",
      "172/172 [==============================] - 19s 110ms/step - loss: nan - accuracy: 0.3367\n",
      "Epoch 3/10\n",
      "172/172 [==============================] - 19s 111ms/step - loss: nan - accuracy: 0.3367\n",
      "Epoch 4/10\n",
      "172/172 [==============================] - 19s 111ms/step - loss: nan - accuracy: 0.3367\n",
      "Epoch 5/10\n",
      "172/172 [==============================] - 19s 110ms/step - loss: nan - accuracy: 0.3367\n",
      "Epoch 6/10\n",
      "172/172 [==============================] - 19s 111ms/step - loss: nan - accuracy: 0.3367\n",
      "Epoch 7/10\n",
      "172/172 [==============================] - 19s 111ms/step - loss: nan - accuracy: 0.3367\n",
      "Epoch 8/10\n",
      "172/172 [==============================] - 19s 111ms/step - loss: nan - accuracy: 0.3367\n",
      "Epoch 9/10\n",
      "172/172 [==============================] - 19s 111ms/step - loss: nan - accuracy: 0.3367\n",
      "Epoch 10/10\n",
      "172/172 [==============================] - 19s 110ms/step - loss: nan - accuracy: 0.3367\n"
     ]
    }
   ],
   "source": [
    "pretrained_history = pretrained_model.fit(\n",
    "    dataset, \n",
    "    epochs=10, \n",
    "    verbose=1, \n",
    ")"
   ]
  },
  {
   "cell_type": "markdown",
   "id": "2286b69e",
   "metadata": {},
   "source": [
    "#### fine tuning 모델 생성"
   ]
  },
  {
   "cell_type": "code",
   "execution_count": null,
   "id": "53f00ba1",
   "metadata": {},
   "outputs": [],
   "source": [
    "## fine tuning model\n",
    "def fine_tune(pretrained_model):\n",
    "    # 사전 훈련된 모델의 가중치 동결 (필요에 따라)\n",
    "    pretrained_model.trainable = True  # 모델 가중치 고정 (선택사항)\n",
    "\n",
    "    # 사전 훈련된 모델 위에 새로운 Linear Layer를 쌓음\n",
    "    inputs = pretrained_model.input\n",
    "    x = pretrained_model.output\n",
    "    outputs = tf.keras.layers.Dense(units=VOCAB_SIZE, name=\"outputs\")(x)  \n",
    "\n",
    "    return tf.keras.Model(inputs=inputs, outputs=outputs)\n",
    "\n",
    "finetuning_model = fine_tune(pretrained_model)\n",
    "finetuning_model.summary()"
   ]
  },
  {
   "cell_type": "markdown",
   "id": "375191d5",
   "metadata": {},
   "source": [
    "## Step 5. 모델 평가하기"
   ]
  },
  {
   "attachments": {
    "image.png": {
     "image/png": "[encoded data removed]"
    }
   },
   "cell_type": "markdown",
   "id": "db93a4f8",
   "metadata": {},
   "source": [
    "## 5. 입력에 따른 출력이 생성되었다. \n",
    "![image.png](attachment:image.png)  "
   ]
  },
  {
   "cell_type": "code",
   "execution_count": 103,
   "id": "19fc13eb",
   "metadata": {},
   "outputs": [],
   "source": [
    "def decoder_inference(sentence):\n",
    "    sentence = preprocess_sentence(sentence)\n",
    "\n",
    "    ## 입력된 문장을 정수 인코딩 후, 시작 토큰과 종료 토큰을 앞뒤로 추가.\n",
    "    ## ex) Where have you been? → [[8331   86   30    5 1059    7 8332]]\n",
    "    sentence = tf.expand_dims(\n",
    "        START_TOKEN + tokenizer.encode(sentence) + END_TOKEN, axis=0)\n",
    "\n",
    "    ## 디코더의 현재까지의 예측한 출력 시퀀스가 지속적으로 저장되는 변수.\n",
    "    ## 처음에는 예측한 내용이 없음으로 시작 토큰만 별도 저장. ex) 8331\n",
    "    output_sequence = tf.expand_dims(START_TOKEN, 0)\n",
    "\n",
    "    ## 디코더의 인퍼런스 단계\n",
    "    for i in range(MAX_LENGTH):\n",
    "        ## 디코더는 최대 MAX_LENGTH의 길이만큼 다음 단어 예측을 반복합니다.\n",
    "        predictions = pretrained_model(inputs=[output_sequence], training=False)\n",
    "        predictions = predictions[:, -1:, :]\n",
    "\n",
    "        ## 현재 예측한 단어의 정수\n",
    "        predicted_id = tf.cast(tf.argmax(predictions, axis=-1), tf.int32)\n",
    "\n",
    "        ## 만약 현재 예측한 단어가 종료 토큰이라면 for문을 종료\n",
    "        if tf.equal(predicted_id, END_TOKEN[0]):\n",
    "            break\n",
    "\n",
    "        ## 예측한 단어들은 지속적으로 output_sequence에 추가됩니다.\n",
    "        ## 이 output_sequence는 다시 디코더의 입력이 됩니다.\n",
    "        output_sequence = tf.concat([output_sequence, predicted_id], axis=-1)\n",
    "\n",
    "    return tf.squeeze(output_sequence, axis=0)"
   ]
  },
  {
   "cell_type": "code",
   "execution_count": 104,
   "id": "5d54bb5a",
   "metadata": {},
   "outputs": [],
   "source": [
    "def sentence_generation(sentence):\n",
    "    ## 입력 문장에 대해서 디코더를 동작 시켜 예측된 정수 시퀀스를 리턴받습니다.\n",
    "    prediction = decoder_inference(sentence)\n",
    "\n",
    "    ## 정수 시퀀스를 다시 텍스트 시퀀스로 변환합니다.\n",
    "    predicted_sentence = tokenizer.decode(\n",
    "        [i for i in prediction if i < tokenizer.vocab_size])\n",
    "\n",
    "    print('입력 : {}'.format(sentence))\n",
    "    print('출력 : {}'.format(predicted_sentence))\n",
    "\n",
    "    return predicted_sentence"
   ]
  },
  {
   "cell_type": "code",
   "execution_count": 105,
   "id": "afd3bcbf",
   "metadata": {},
   "outputs": [
    {
     "name": "stdout",
     "output_type": "stream",
     "text": [
      "입력 : Where have you been?\n",
      "출력 : \n"
     ]
    },
    {
     "data": {
      "text/plain": [
       "''"
      ]
     },
     "execution_count": 105,
     "metadata": {},
     "output_type": "execute_result"
    }
   ],
   "source": [
    "## 영어는 답변을 못한다. \n",
    "sentence_generation('Where have you been?')"
   ]
  },
  {
   "cell_type": "code",
   "execution_count": 106,
   "id": "112801e0",
   "metadata": {},
   "outputs": [
    {
     "name": "stdout",
     "output_type": "stream",
     "text": [
      "입력 : 컴퓨터가 망가졌어\n",
      "출력 : \n"
     ]
    },
    {
     "data": {
      "text/plain": [
       "''"
      ]
     },
     "execution_count": 106,
     "metadata": {},
     "output_type": "execute_result"
    }
   ],
   "source": [
    "sentence_generation('컴퓨터가 망가졌어')"
   ]
  },
  {
   "cell_type": "code",
   "execution_count": 107,
   "id": "b23e6f36",
   "metadata": {},
   "outputs": [
    {
     "name": "stdout",
     "output_type": "stream",
     "text": [
      "입력 : 머리가 복잡해\n",
      "출력 : \n"
     ]
    },
    {
     "data": {
      "text/plain": [
       "''"
      ]
     },
     "execution_count": 107,
     "metadata": {},
     "output_type": "execute_result"
    }
   ],
   "source": [
    "sentence_generation('머리가 복잡해')"
   ]
  },
  {
   "cell_type": "code",
   "execution_count": 108,
   "id": "b804007e",
   "metadata": {},
   "outputs": [
    {
     "name": "stdout",
     "output_type": "stream",
     "text": [
      "입력 : 배가 아파\n",
      "출력 : \n"
     ]
    },
    {
     "data": {
      "text/plain": [
       "''"
      ]
     },
     "execution_count": 108,
     "metadata": {},
     "output_type": "execute_result"
    }
   ],
   "source": [
    "sentence_generation('배가 아파')"
   ]
  },
  {
   "cell_type": "code",
   "execution_count": 109,
   "id": "53fdcbe1",
   "metadata": {},
   "outputs": [
    {
     "name": "stdout",
     "output_type": "stream",
     "text": [
      "입력 : 물건이 망가졌어\n",
      "출력 : \n"
     ]
    },
    {
     "data": {
      "text/plain": [
       "''"
      ]
     },
     "execution_count": 109,
     "metadata": {},
     "output_type": "execute_result"
    }
   ],
   "source": [
    "sentence_generation('물건이 망가졌어')"
   ]
  },
  {
   "cell_type": "code",
   "execution_count": 110,
   "id": "dfd66846",
   "metadata": {},
   "outputs": [
    {
     "name": "stdout",
     "output_type": "stream",
     "text": [
      "입력 : 나랑 놀아줘\n",
      "출력 : \n"
     ]
    },
    {
     "data": {
      "text/plain": [
       "''"
      ]
     },
     "execution_count": 110,
     "metadata": {},
     "output_type": "execute_result"
    }
   ],
   "source": [
    "sentence_generation('나랑 놀아줘')"
   ]
  },
  {
   "cell_type": "code",
   "execution_count": 111,
   "id": "2674c7e6",
   "metadata": {
    "scrolled": true
   },
   "outputs": [
    {
     "name": "stdout",
     "output_type": "stream",
     "text": [
      "입력 : 컴퓨터가 망가졌어\n",
      "출력 : \n"
     ]
    },
    {
     "data": {
      "text/plain": [
       "''"
      ]
     },
     "execution_count": 111,
     "metadata": {},
     "output_type": "execute_result"
    }
   ],
   "source": [
    "sentence_generation('컴퓨터가 망가졌어')"
   ]
  }
 ],
 "metadata": {
  "kernelspec": {
   "display_name": "Python 3 (ipykernel)",
   "language": "python",
   "name": "python3"
  },
  "language_info": {
   "codemirror_mode": {
    "name": "ipython",
    "version": 3
   },
   "file_extension": ".py",
   "mimetype": "text/x-python",
   "name": "python",
   "nbconvert_exporter": "python",
   "pygments_lexer": "ipython3",
   "version": "3.9.7"
  }
 },
 "nbformat": 4,
 "nbformat_minor": 5
}
