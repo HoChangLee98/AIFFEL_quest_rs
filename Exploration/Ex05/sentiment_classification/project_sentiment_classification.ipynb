{
 "cells": [
  {
   "cell_type": "code",
   "execution_count": 165,
   "id": "f5fb2fd1",
   "metadata": {},
   "outputs": [],
   "source": [
    "import pandas as pd\n",
    "import konlpy\n",
    "import gensim\n",
    "\n",
    "from konlpy.tag import Mecab\n",
    "import numpy as np\n",
    "from collections import Counter\n",
    "\n",
    "import keras\n",
    "import tensorflow as tf"
   ]
  },
  {
   "cell_type": "markdown",
   "id": "4d6c2960",
   "metadata": {},
   "source": [
    "### 1. 데이터 준비와 확인"
   ]
  },
  {
   "cell_type": "code",
   "execution_count": 166,
   "id": "2166c572",
   "metadata": {},
   "outputs": [
    {
     "name": "stdout",
     "output_type": "stream",
     "text": [
      "train :  (150000, 3)\n",
      "test  :  (50000, 3)\n"
     ]
    }
   ],
   "source": [
    "train_data = pd.read_table('~/aiffel/sentiment_classification/data/ratings_train.txt')\n",
    "test_data = pd.read_table('~/aiffel/sentiment_classification/data/ratings_test.txt')\n",
    "\n",
    "print(\"train : \", train_data.shape)\n",
    "print(\"test  : \", test_data.shape)"
   ]
  },
  {
   "cell_type": "markdown",
   "id": "7b675491",
   "metadata": {},
   "source": [
    "### 2. 데이터로더 구성"
   ]
  },
  {
   "cell_type": "code",
   "execution_count": 167,
   "id": "dc271951",
   "metadata": {},
   "outputs": [],
   "source": [
    "tokenizer = Mecab()\n",
    "stopwords = ['의','가','이','은','들','는','좀','잘','걍','과','도','를','으로','자','에','와','한','하다']\n",
    "\n",
    "def load_data(train_data, test_data, num_words=10000):\n",
    "    '''중복 제거, 결측값 제거, 토큰화, 불용어 제거, 사전 생성, 인덱싱하는 함수\n",
    "    Args:\n",
    "        train_data(pd.DataFrame): train data set\n",
    "        test_data(pd.DataFrame): test data set\n",
    "        num_words(int): 단어 수, default=10000\n",
    "    '''\n",
    "    ## 중복 제거\n",
    "    train_data = train_data.drop_duplicates(subset=[\"document\"])\n",
    "    test_data = test_data.drop_duplicates(subset=[\"document\"])\n",
    "    \n",
    "    ## 결측값 제거\n",
    "    train_data = train_data.dropna(how=\"any\")\n",
    "    test_data = test_data.dropna(how=\"any\")\n",
    "    \n",
    "    ## 토큰화 & 불용어 제거\n",
    "    X_train = []\n",
    "    for sentence in train_data['document']:\n",
    "        temp_X = tokenizer.morphs(sentence) # 토큰화\n",
    "        temp_X = [word for word in temp_X if not word in stopwords] # 불용어 제거\n",
    "        X_train.append(temp_X)\n",
    "\n",
    "    X_test = []\n",
    "    for sentence in test_data['document']:\n",
    "        temp_X = tokenizer.morphs(sentence) # 토큰화\n",
    "        temp_X = [word for word in temp_X if not word in stopwords] # 불용어 제거\n",
    "        X_test.append(temp_X)\n",
    "    \n",
    "    ## 사전 word_to_index 구성 <- train 데이터로만 진행!\n",
    "    words = np.concatenate(X_train).tolist()\n",
    "    counter = Counter(words)\n",
    "    counter = counter.most_common(num_words-4)\n",
    "    vocab = ['<PAD>', '<BOS>', '<UNK>', '<UNUSED>'] + [key for key, _ in counter] ## <PAD>, <BOS>, <UNK>, <UNUSED>를 위한 인덱스 \n",
    "    word_to_index = {word:index for index, word in enumerate(vocab)}\n",
    "    \n",
    "    ## 텍스트 스트링을 사전 인덱스 스트링으로 변환\n",
    "    ## 오류 코드 ##\n",
    "#     def wordlist_to_indexlist(wordlist):\n",
    "#         return [word_to_index[word] if word in word_to_index else word_to_index['<UNK>'] for word in wordlist]\n",
    "    \n",
    "#     X_train = list(map(wordlist_to_indexlist, X_train))\n",
    "#     X_test = list(map(wordlist_to_indexlist, X_test))\n",
    "\n",
    "    ## 오류 수정 ##\n",
    "    def train_wordlist_to_indexlist(wordlist):\n",
    "        return [word_to_index[word] if word in word_to_index else word_to_index['<UNUSED>'] for word in wordlist]\n",
    "    \n",
    "    def test_wordlist_to_indexlist(wordlist):\n",
    "        return [word_to_index[word] if word in word_to_index else word_to_index['<UNK>'] for word in wordlist]\n",
    "\n",
    "    X_train = list(map(train_wordlist_to_indexlist, X_train))\n",
    "    X_test = list(map(test_wordlist_to_indexlist, X_test))\n",
    "\n",
    "    return X_train, np.array(list(train_data['label'])), X_test, np.array(list(test_data['label'])), word_to_index"
   ]
  },
  {
   "cell_type": "code",
   "execution_count": 168,
   "id": "09813205",
   "metadata": {},
   "outputs": [],
   "source": [
    "X_train, y_train, X_test, y_test, word_to_index = load_data(train_data, test_data)"
   ]
  },
  {
   "cell_type": "code",
   "execution_count": 169,
   "id": "87b33cb0",
   "metadata": {
    "scrolled": true
   },
   "outputs": [
    {
     "name": "stdout",
     "output_type": "stream",
     "text": [
      "X train :  146182\n",
      "X test  :  49157\n"
     ]
    }
   ],
   "source": [
    "print(\"X train : \", len(X_train))\n",
    "print(\"X test  : \", len(X_test))"
   ]
  },
  {
   "cell_type": "markdown",
   "id": "1ea656ff",
   "metadata": {},
   "source": [
    "### 사전 word_to_index 추가 전처리"
   ]
  },
  {
   "cell_type": "code",
   "execution_count": 170,
   "id": "0daa6137",
   "metadata": {},
   "outputs": [],
   "source": [
    "index_to_word = {index:word for word, index in word_to_index.items()}"
   ]
  },
  {
   "cell_type": "code",
   "execution_count": 171,
   "id": "67c3e88e",
   "metadata": {},
   "outputs": [
    {
     "data": {
      "text/plain": [
       "10000"
      ]
     },
     "execution_count": 171,
     "metadata": {},
     "output_type": "execute_result"
    }
   ],
   "source": [
    "len(word_to_index)"
   ]
  },
  {
   "cell_type": "code",
   "execution_count": 172,
   "id": "587328c9",
   "metadata": {},
   "outputs": [],
   "source": [
    "# word_to_index"
   ]
  },
  {
   "cell_type": "code",
   "execution_count": 173,
   "id": "97a12001",
   "metadata": {},
   "outputs": [
    {
     "data": {
      "text/plain": [
       "[32, 74, 919, 4, 4, 39, 228, 20, 33, 748]"
      ]
     },
     "execution_count": 173,
     "metadata": {},
     "output_type": "execute_result"
    }
   ],
   "source": [
    "X_train[0]"
   ]
  },
  {
   "cell_type": "code",
   "execution_count": 174,
   "id": "0f818ce8",
   "metadata": {},
   "outputs": [],
   "source": [
    "# 문장 1개를 활용할 딕셔너리와 함께 주면, 단어 인덱스 리스트 벡터로 변환해 주는 함수입니다. \n",
    "# 단, 모든 문장은 <BOS>로 시작하는 것으로 합니다. \n",
    "def get_encoded_sentence(sentence, word_to_index):\n",
    "    return [word_to_index['<BOS>']]+[word_to_index[word] if word in word_to_index else word_to_index['<UNK>'] for word in sentence.split()]\n",
    "\n",
    "# 여러 개의 문장 리스트를 한꺼번에 단어 인덱스 리스트 벡터로 encode해 주는 함수입니다. \n",
    "def get_encoded_sentences(sentences, word_to_index):\n",
    "    return [get_encoded_sentence(sentence, word_to_index) for sentence in sentences]\n",
    "\n",
    "# 숫자 벡터로 encode된 문장을 원래대로 decode하는 함수입니다. \n",
    "def get_decoded_sentence(encoded_sentence, index_to_word):\n",
    "    return ' '.join(index_to_word[index] if index in index_to_word else '<UNK>' for index in encoded_sentence[1:])  #[1:]를 통해 <BOS>를 제외\n",
    "\n",
    "# 여러 개의 숫자 벡터로 encode된 문장을 한꺼번에 원래대로 decode하는 함수입니다. \n",
    "def get_decoded_sentences(encoded_sentences, index_to_word):\n",
    "    return [get_decoded_sentence(encoded_sentence, index_to_word) for encoded_sentence in encoded_sentences]"
   ]
  },
  {
   "cell_type": "code",
   "execution_count": 175,
   "id": "45c14f8b",
   "metadata": {},
   "outputs": [],
   "source": [
    "# get_decoded_sentences(X_train, index_to_word)"
   ]
  },
  {
   "cell_type": "code",
   "execution_count": 176,
   "id": "334ecbc7",
   "metadata": {},
   "outputs": [],
   "source": [
    "# get_decoded_sentences(X_test, index_to_word)"
   ]
  },
  {
   "cell_type": "markdown",
   "id": "3f33f653",
   "metadata": {},
   "source": [
    "### 오류 수정 과정\n",
    "train set에서 decoding을 해보니 '재 `<UNK>`'와 같이 `<UNK>`가 사용되었다. \n",
    "따라서 사전을 구성할 때 수정해서 '재 `<UNUSED>`'로 나오도록 해야겠다. \n",
    "\n",
    "train set에는 `<UNUSED>`가 test set에는 `<UNK>`가 나오도록 수정하였다."
   ]
  },
  {
   "cell_type": "markdown",
   "id": "dfeca8ad",
   "metadata": {},
   "source": [
    "### 3. 모델 구성을 위한 데이터 분석 및 가공"
   ]
  },
  {
   "cell_type": "code",
   "execution_count": 177,
   "id": "6d33a496",
   "metadata": {},
   "outputs": [
    {
     "name": "stdout",
     "output_type": "stream",
     "text": [
      "문장길이 평균 :  15.96940191154864\n",
      "문장길이 최대 :  116\n",
      "문장길이 표준편차 :  12.843571191092\n",
      "pad_sequences maxlen :  41\n",
      "전체 문장의 93.0%가 maxlen 설정값 이내에 포함됩니다. \n"
     ]
    }
   ],
   "source": [
    "total_data_text = list(X_train) + list(X_test)\n",
    "# 텍스트데이터 문장길이의 리스트를 생성한 후\n",
    "num_tokens = [len(tokens) for tokens in total_data_text]\n",
    "num_tokens = np.array(num_tokens)\n",
    "# 문장길이의 평균값, 최대값, 표준편차를 계산해 본다. \n",
    "print('문장길이 평균 : ', np.mean(num_tokens))\n",
    "print('문장길이 최대 : ', np.max(num_tokens))\n",
    "print('문장길이 표준편차 : ', np.std(num_tokens))\n",
    "\n",
    "# 예를들어, 최대 길이를 (평균 + 2*표준편차)로 한다면,  \n",
    "max_tokens = np.mean(num_tokens) + 2 * np.std(num_tokens)\n",
    "maxlen = int(max_tokens)\n",
    "print('pad_sequences maxlen : ', maxlen)\n",
    "print(f'전체 문장의 {np.round(np.sum(num_tokens < max_tokens) / len(num_tokens), 2)*100}%가 maxlen 설정값 이내에 포함됩니다. ')"
   ]
  },
  {
   "cell_type": "code",
   "execution_count": 178,
   "id": "efb7f19b",
   "metadata": {},
   "outputs": [],
   "source": [
    "X_train = keras.preprocessing.sequence.pad_sequences(\n",
    "    X_train,\n",
    "    value=word_to_index[\"<PAD>\"],\n",
    "    padding='pre', # post에 비해 높은 성능을 내는 pre를 사용\n",
    "    maxlen=maxlen\n",
    ")\n",
    "\n",
    "X_test = keras.preprocessing.sequence.pad_sequences(\n",
    "    X_test,\n",
    "    value=word_to_index[\"<PAD>\"],\n",
    "    padding='pre', # post에 비해 높은 성능을 내는 pre를 사용\n",
    "    maxlen=maxlen\n",
    ")"
   ]
  },
  {
   "cell_type": "code",
   "execution_count": 179,
   "id": "1e2cede8",
   "metadata": {
    "scrolled": true
   },
   "outputs": [
    {
     "name": "stdout",
     "output_type": "stream",
     "text": [
      "1번째 문장 길이:  41\n",
      "2번째 문장 길이:  41\n"
     ]
    }
   ],
   "source": [
    "print('1번째 문장 길이: ', len(X_train[0]))\n",
    "print('2번째 문장 길이: ', len(X_train[1]))"
   ]
  },
  {
   "cell_type": "markdown",
   "id": "98e86cac",
   "metadata": {},
   "source": [
    "### 4. 모델 구성 및 validation set 구성\n",
    "1. lstm(32) -> dense(8)\n",
    "2. lstm(32) with bidirectional -> dense(8)\n",
    "3. gru(32) -> dense(8)"
   ]
  },
  {
   "cell_type": "code",
   "execution_count": 180,
   "id": "c10004b0",
   "metadata": {},
   "outputs": [
    {
     "name": "stdout",
     "output_type": "stream",
     "text": [
      "(136182, 41)\n",
      "(136182,)\n"
     ]
    }
   ],
   "source": [
    "# validation set 10000건 분리\n",
    "X_val = X_train[:10000]   \n",
    "y_val = y_train[:10000]\n",
    "\n",
    "# validation set을 제외한 나머지 15000건\n",
    "partial_X_train = X_train[10000:]  \n",
    "partial_y_train = y_train[10000:]\n",
    "\n",
    "print(partial_X_train.shape)\n",
    "print(partial_y_train.shape)"
   ]
  },
  {
   "cell_type": "code",
   "execution_count": 181,
   "id": "74c6e7b1",
   "metadata": {},
   "outputs": [],
   "source": [
    "vocab_size = 10000    # 어휘 사전의 크기입니다(10,000개의 단어)\n",
    "word_vector_dim = 30  # 워드 벡터의 차원 수 (변경 가능한 하이퍼파라미터)"
   ]
  },
  {
   "cell_type": "markdown",
   "id": "f3143604",
   "metadata": {},
   "source": [
    "1. word_vector_dim 16 -> 30으로 수정"
   ]
  },
  {
   "cell_type": "code",
   "execution_count": 182,
   "id": "0cda1ef4",
   "metadata": {},
   "outputs": [],
   "source": [
    "# model1 : lstm(32) -> dense(8)\n",
    "inputs = keras.Input(shape=(41, ))\n",
    "x = keras.layers.Embedding(vocab_size, word_vector_dim, input_shape=(None,))(inputs)\n",
    "x = keras.layers.LSTM(32)(x)\n",
    "x = keras.layers.Dense(8, activation=\"relu\")(x)\n",
    "outputs = keras.layers.Dense(1, activation=\"sigmoid\")(x)\n",
    "model1 = keras.Model(inputs, outputs)\n",
    "\n",
    "# model2 : lstm(32) with bi -> dense(8)\n",
    "inputs = keras.Input(shape=(41, ))\n",
    "x = keras.layers.Embedding(vocab_size, word_vector_dim, input_shape=(None,))(inputs)\n",
    "x = keras.layers.Bidirectional(keras.layers.LSTM(32))(x)\n",
    "x = keras.layers.Dense(8, activation=\"relu\")(x)\n",
    "outputs = keras.layers.Dense(1, activation=\"sigmoid\")(x)\n",
    "model2 = keras.Model(inputs, outputs)\n",
    "\n",
    "# model3 : gru(32) -> dense(8)\n",
    "inputs = keras.Input(shape=(41, ))\n",
    "x = keras.layers.Embedding(vocab_size, word_vector_dim, input_shape=(None,))(inputs)\n",
    "x = keras.layers.GRU(32)(x)\n",
    "x = keras.layers.Dense(8, activation=\"relu\")(x)\n",
    "outputs = keras.layers.Dense(1, activation=\"sigmoid\")(x)\n",
    "model3 = keras.Model(inputs, outputs)"
   ]
  },
  {
   "cell_type": "code",
   "execution_count": 183,
   "id": "e339d87e",
   "metadata": {},
   "outputs": [
    {
     "name": "stdout",
     "output_type": "stream",
     "text": [
      "Model: \"model_18\"\n",
      "_________________________________________________________________\n",
      "Layer (type)                 Output Shape              Param #   \n",
      "=================================================================\n",
      "input_20 (InputLayer)        [(None, 41)]              0         \n",
      "_________________________________________________________________\n",
      "embedding_19 (Embedding)     (None, 41, 30)            300000    \n",
      "_________________________________________________________________\n",
      "lstm_6 (LSTM)                (None, 32)                8064      \n",
      "_________________________________________________________________\n",
      "dense_42 (Dense)             (None, 8)                 264       \n",
      "_________________________________________________________________\n",
      "dense_43 (Dense)             (None, 1)                 9         \n",
      "=================================================================\n",
      "Total params: 308,337\n",
      "Trainable params: 308,337\n",
      "Non-trainable params: 0\n",
      "_________________________________________________________________\n"
     ]
    }
   ],
   "source": [
    "model1.summary()"
   ]
  },
  {
   "cell_type": "code",
   "execution_count": 184,
   "id": "0bfb1b8c",
   "metadata": {},
   "outputs": [
    {
     "name": "stdout",
     "output_type": "stream",
     "text": [
      "Model: \"model_19\"\n",
      "_________________________________________________________________\n",
      "Layer (type)                 Output Shape              Param #   \n",
      "=================================================================\n",
      "input_21 (InputLayer)        [(None, 41)]              0         \n",
      "_________________________________________________________________\n",
      "embedding_20 (Embedding)     (None, 41, 30)            300000    \n",
      "_________________________________________________________________\n",
      "bidirectional_2 (Bidirection (None, 64)                16128     \n",
      "_________________________________________________________________\n",
      "dense_44 (Dense)             (None, 8)                 520       \n",
      "_________________________________________________________________\n",
      "dense_45 (Dense)             (None, 1)                 9         \n",
      "=================================================================\n",
      "Total params: 316,657\n",
      "Trainable params: 316,657\n",
      "Non-trainable params: 0\n",
      "_________________________________________________________________\n"
     ]
    }
   ],
   "source": [
    "model2.summary()"
   ]
  },
  {
   "cell_type": "code",
   "execution_count": 185,
   "id": "d0adcf88",
   "metadata": {},
   "outputs": [
    {
     "name": "stdout",
     "output_type": "stream",
     "text": [
      "Model: \"model_20\"\n",
      "_________________________________________________________________\n",
      "Layer (type)                 Output Shape              Param #   \n",
      "=================================================================\n",
      "input_22 (InputLayer)        [(None, 41)]              0         \n",
      "_________________________________________________________________\n",
      "embedding_21 (Embedding)     (None, 41, 30)            300000    \n",
      "_________________________________________________________________\n",
      "gru_12 (GRU)                 (None, 32)                6144      \n",
      "_________________________________________________________________\n",
      "dense_46 (Dense)             (None, 8)                 264       \n",
      "_________________________________________________________________\n",
      "dense_47 (Dense)             (None, 1)                 9         \n",
      "=================================================================\n",
      "Total params: 306,417\n",
      "Trainable params: 306,417\n",
      "Non-trainable params: 0\n",
      "_________________________________________________________________\n"
     ]
    }
   ],
   "source": [
    "model3.summary()"
   ]
  },
  {
   "cell_type": "markdown",
   "id": "e2cc46c5",
   "metadata": {},
   "source": [
    "### 5. 모델 훈련 개시 & 6. Loss, Accuracy 그래프 시각화"
   ]
  },
  {
   "cell_type": "code",
   "execution_count": 186,
   "id": "83c9caf9",
   "metadata": {},
   "outputs": [],
   "source": [
    "epochs=20"
   ]
  },
  {
   "cell_type": "code",
   "execution_count": 187,
   "id": "887ed53f",
   "metadata": {},
   "outputs": [
    {
     "name": "stdout",
     "output_type": "stream",
     "text": [
      "Epoch 1/20\n",
      "266/266 [==============================] - 3s 7ms/step - loss: 0.4514 - accuracy: 0.7908 - val_loss: 0.3460 - val_accuracy: 0.8496\n",
      "Epoch 2/20\n",
      "266/266 [==============================] - 1s 5ms/step - loss: 0.3270 - accuracy: 0.8610 - val_loss: 0.3385 - val_accuracy: 0.8535\n",
      "Epoch 3/20\n",
      "266/266 [==============================] - 1s 5ms/step - loss: 0.3030 - accuracy: 0.8722 - val_loss: 0.3287 - val_accuracy: 0.8565\n",
      "Epoch 4/20\n",
      "266/266 [==============================] - 1s 5ms/step - loss: 0.2839 - accuracy: 0.8814 - val_loss: 0.3296 - val_accuracy: 0.8575\n",
      "Epoch 5/20\n",
      "266/266 [==============================] - 1s 5ms/step - loss: 0.2656 - accuracy: 0.8895 - val_loss: 0.3294 - val_accuracy: 0.8601\n",
      "Epoch 6/20\n",
      "266/266 [==============================] - 1s 5ms/step - loss: 0.2477 - accuracy: 0.8981 - val_loss: 0.3367 - val_accuracy: 0.8580\n",
      "Epoch 7/20\n",
      "266/266 [==============================] - 1s 5ms/step - loss: 0.2305 - accuracy: 0.9050 - val_loss: 0.3582 - val_accuracy: 0.8576\n",
      "Epoch 8/20\n",
      "266/266 [==============================] - 1s 5ms/step - loss: 0.2144 - accuracy: 0.9133 - val_loss: 0.3586 - val_accuracy: 0.8547\n",
      "Epoch 9/20\n",
      "266/266 [==============================] - 1s 5ms/step - loss: 0.1994 - accuracy: 0.9205 - val_loss: 0.3815 - val_accuracy: 0.8552\n",
      "Epoch 10/20\n",
      "266/266 [==============================] - 1s 5ms/step - loss: 0.1859 - accuracy: 0.9265 - val_loss: 0.4331 - val_accuracy: 0.8500\n",
      "Epoch 11/20\n",
      "266/266 [==============================] - 1s 5ms/step - loss: 0.1742 - accuracy: 0.9315 - val_loss: 0.4107 - val_accuracy: 0.8478\n",
      "Epoch 12/20\n",
      "266/266 [==============================] - 1s 5ms/step - loss: 0.1643 - accuracy: 0.9363 - val_loss: 0.4594 - val_accuracy: 0.8458\n",
      "Epoch 13/20\n",
      "266/266 [==============================] - 1s 5ms/step - loss: 0.1534 - accuracy: 0.9408 - val_loss: 0.4636 - val_accuracy: 0.8445\n",
      "Epoch 14/20\n",
      "266/266 [==============================] - 1s 5ms/step - loss: 0.1451 - accuracy: 0.9444 - val_loss: 0.5126 - val_accuracy: 0.8458\n",
      "Epoch 15/20\n",
      "266/266 [==============================] - 1s 5ms/step - loss: 0.1367 - accuracy: 0.9478 - val_loss: 0.5209 - val_accuracy: 0.8456\n",
      "Epoch 16/20\n",
      "266/266 [==============================] - 1s 5ms/step - loss: 0.1304 - accuracy: 0.9505 - val_loss: 0.5597 - val_accuracy: 0.8434\n",
      "Epoch 17/20\n",
      "266/266 [==============================] - 1s 5ms/step - loss: 0.1221 - accuracy: 0.9539 - val_loss: 0.6205 - val_accuracy: 0.8434\n",
      "Epoch 18/20\n",
      "266/266 [==============================] - 1s 5ms/step - loss: 0.1183 - accuracy: 0.9553 - val_loss: 0.6145 - val_accuracy: 0.8429\n",
      "Epoch 19/20\n",
      "266/266 [==============================] - 1s 5ms/step - loss: 0.1108 - accuracy: 0.9577 - val_loss: 0.6796 - val_accuracy: 0.8442\n",
      "Epoch 20/20\n",
      "266/266 [==============================] - 1s 5ms/step - loss: 0.1049 - accuracy: 0.9602 - val_loss: 0.7104 - val_accuracy: 0.8414\n"
     ]
    }
   ],
   "source": [
    "model1.compile(optimizer='adam',\n",
    "              loss='binary_crossentropy',\n",
    "              metrics=['accuracy'])\n",
    "              \n",
    "history1 = model1.fit(partial_X_train,\n",
    "                    partial_y_train,\n",
    "                    epochs=epochs,\n",
    "                    batch_size=512,\n",
    "                    validation_data=(X_val, y_val),\n",
    "                    verbose=1)"
   ]
  },
  {
   "cell_type": "code",
   "execution_count": 188,
   "id": "2944dcca",
   "metadata": {},
   "outputs": [
    {
     "name": "stdout",
     "output_type": "stream",
     "text": [
      "1537/1537 - 3s - loss: 0.7480 - accuracy: 0.8400\n",
      "[0.7480402588844299, 0.8399617671966553]\n"
     ]
    }
   ],
   "source": [
    "results1 = model1.evaluate(X_test,  y_test, verbose=2)\n",
    "\n",
    "print(results1)"
   ]
  },
  {
   "cell_type": "code",
   "execution_count": 189,
   "id": "4a1b51d4",
   "metadata": {},
   "outputs": [],
   "source": [
    "import matplotlib.pyplot as plt\n",
    "\n",
    "def result_visualization(history):\n",
    "    history_dict = history.history\n",
    "    acc = history_dict['accuracy']\n",
    "    val_acc = history_dict['val_accuracy']\n",
    "    loss = history_dict['loss']\n",
    "    val_loss = history_dict['val_loss']\n",
    "\n",
    "    epochs = range(1, len(acc) + 1)\n",
    "    \n",
    "    plt.figure(figsize=(12,6))\n",
    "    plt.subplot(1,2,1)\n",
    "    # \"bo\"는 \"파란색 점\"입니다\n",
    "    plt.plot(epochs, loss, 'bo', label='Training loss')\n",
    "    # b는 \"파란 실선\"입니다\n",
    "    plt.plot(epochs, val_loss, 'b', label='Validation loss')\n",
    "    plt.title('Training and validation loss')\n",
    "    plt.xlabel('Epochs')\n",
    "    plt.ylabel('Loss')\n",
    "    plt.legend()\n",
    "    \n",
    "    plt.subplot(1,2,2)\n",
    "    plt.plot(epochs, acc, 'bo', label='Training acc')\n",
    "    plt.plot(epochs, val_acc, 'b', label='Validation acc')\n",
    "    plt.title('Training and validation accuracy')\n",
    "    plt.xlabel('Epochs')\n",
    "    plt.ylabel('Accuracy')\n",
    "    plt.legend()\n",
    "\n",
    "    plt.show()"
   ]
  },
  {
   "cell_type": "code",
   "execution_count": 190,
   "id": "3a62af84",
   "metadata": {},
   "outputs": [
    {
     "data": {
      "image/png": "[encoded data removed]",
      "text/plain": [
       "<Figure size 864x432 with 2 Axes>"
      ]
     },
     "metadata": {
      "needs_background": "light"
     },
     "output_type": "display_data"
    }
   ],
   "source": [
    "result_visualization(history1)"
   ]
  },
  {
   "cell_type": "code",
   "execution_count": 191,
   "id": "3fd8b39a",
   "metadata": {},
   "outputs": [
    {
     "name": "stdout",
     "output_type": "stream",
     "text": [
      "Epoch 1/20\n",
      "266/266 [==============================] - 5s 10ms/step - loss: 0.4429 - accuracy: 0.7940 - val_loss: 0.3592 - val_accuracy: 0.8374\n",
      "Epoch 2/20\n",
      "266/266 [==============================] - 2s 7ms/step - loss: 0.3313 - accuracy: 0.8582 - val_loss: 0.3386 - val_accuracy: 0.8514\n",
      "Epoch 3/20\n",
      "266/266 [==============================] - 2s 8ms/step - loss: 0.3104 - accuracy: 0.8683 - val_loss: 0.3344 - val_accuracy: 0.8555\n",
      "Epoch 4/20\n",
      "266/266 [==============================] - 2s 7ms/step - loss: 0.2935 - accuracy: 0.8769 - val_loss: 0.3332 - val_accuracy: 0.8576\n",
      "Epoch 5/20\n",
      "266/266 [==============================] - 2s 7ms/step - loss: 0.2761 - accuracy: 0.8850 - val_loss: 0.3358 - val_accuracy: 0.8584\n",
      "Epoch 6/20\n",
      "266/266 [==============================] - 2s 7ms/step - loss: 0.2557 - accuracy: 0.8936 - val_loss: 0.3462 - val_accuracy: 0.8587\n",
      "Epoch 7/20\n",
      "266/266 [==============================] - 2s 7ms/step - loss: 0.2388 - accuracy: 0.9009 - val_loss: 0.3618 - val_accuracy: 0.8571\n",
      "Epoch 8/20\n",
      "266/266 [==============================] - 2s 8ms/step - loss: 0.2219 - accuracy: 0.9083 - val_loss: 0.3591 - val_accuracy: 0.8545\n",
      "Epoch 9/20\n",
      "266/266 [==============================] - 2s 7ms/step - loss: 0.2074 - accuracy: 0.9151 - val_loss: 0.3916 - val_accuracy: 0.8536\n",
      "Epoch 10/20\n",
      "266/266 [==============================] - 2s 8ms/step - loss: 0.1940 - accuracy: 0.9210 - val_loss: 0.4011 - val_accuracy: 0.8526\n",
      "Epoch 11/20\n",
      "266/266 [==============================] - 2s 8ms/step - loss: 0.1823 - accuracy: 0.9259 - val_loss: 0.4299 - val_accuracy: 0.8513\n",
      "Epoch 12/20\n",
      "266/266 [==============================] - 2s 7ms/step - loss: 0.1711 - accuracy: 0.9313 - val_loss: 0.4583 - val_accuracy: 0.8479\n",
      "Epoch 13/20\n",
      "266/266 [==============================] - 2s 7ms/step - loss: 0.1605 - accuracy: 0.9365 - val_loss: 0.4357 - val_accuracy: 0.8450\n",
      "Epoch 14/20\n",
      "266/266 [==============================] - 2s 7ms/step - loss: 0.1510 - accuracy: 0.9404 - val_loss: 0.5000 - val_accuracy: 0.8417\n",
      "Epoch 15/20\n",
      "266/266 [==============================] - 2s 7ms/step - loss: 0.1424 - accuracy: 0.9447 - val_loss: 0.5059 - val_accuracy: 0.8445\n",
      "Epoch 16/20\n",
      "266/266 [==============================] - 2s 7ms/step - loss: 0.1335 - accuracy: 0.9490 - val_loss: 0.5595 - val_accuracy: 0.8404\n",
      "Epoch 17/20\n",
      "266/266 [==============================] - 2s 7ms/step - loss: 0.1278 - accuracy: 0.9507 - val_loss: 0.5598 - val_accuracy: 0.8399\n",
      "Epoch 18/20\n",
      "266/266 [==============================] - 2s 8ms/step - loss: 0.1207 - accuracy: 0.9537 - val_loss: 0.6004 - val_accuracy: 0.8402\n",
      "Epoch 19/20\n",
      "266/266 [==============================] - 2s 7ms/step - loss: 0.1146 - accuracy: 0.9562 - val_loss: 0.6176 - val_accuracy: 0.8403\n",
      "Epoch 20/20\n",
      "266/266 [==============================] - 2s 7ms/step - loss: 0.1116 - accuracy: 0.9569 - val_loss: 0.6575 - val_accuracy: 0.8441\n"
     ]
    }
   ],
   "source": [
    "model2.compile(optimizer='adam',\n",
    "              loss='binary_crossentropy',\n",
    "              metrics=['accuracy'])\n",
    "              \n",
    "history2 = model2.fit(partial_X_train,\n",
    "                    partial_y_train,\n",
    "                    epochs=epochs,\n",
    "                    batch_size=512,\n",
    "                    validation_data=(X_val, y_val),\n",
    "                    verbose=1)"
   ]
  },
  {
   "cell_type": "code",
   "execution_count": 192,
   "id": "5a77e01a",
   "metadata": {},
   "outputs": [
    {
     "name": "stdout",
     "output_type": "stream",
     "text": [
      "1537/1537 - 4s - loss: 0.6480 - accuracy: 0.8404\n",
      "[0.6480146050453186, 0.8403889536857605]\n"
     ]
    }
   ],
   "source": [
    "results2 = model2.evaluate(X_test,  y_test, verbose=2)\n",
    "\n",
    "print(results2)"
   ]
  },
  {
   "cell_type": "code",
   "execution_count": 193,
   "id": "de6bffba",
   "metadata": {},
   "outputs": [
    {
     "data": {
      "image/png": "[encoded data removed]",
      "text/plain": [
       "<Figure size 864x432 with 2 Axes>"
      ]
     },
     "metadata": {
      "needs_background": "light"
     },
     "output_type": "display_data"
    }
   ],
   "source": [
    "result_visualization(history2)"
   ]
  },
  {
   "cell_type": "code",
   "execution_count": 194,
   "id": "2bd19d55",
   "metadata": {},
   "outputs": [
    {
     "name": "stdout",
     "output_type": "stream",
     "text": [
      "Epoch 1/20\n",
      "266/266 [==============================] - 3s 7ms/step - loss: 0.4565 - accuracy: 0.7806 - val_loss: 0.3479 - val_accuracy: 0.8506\n",
      "Epoch 2/20\n",
      "266/266 [==============================] - 1s 5ms/step - loss: 0.3350 - accuracy: 0.8576 - val_loss: 0.3434 - val_accuracy: 0.8513\n",
      "Epoch 3/20\n",
      "266/266 [==============================] - 1s 5ms/step - loss: 0.3172 - accuracy: 0.8681 - val_loss: 0.3437 - val_accuracy: 0.8511\n",
      "Epoch 4/20\n",
      "266/266 [==============================] - 1s 5ms/step - loss: 0.3040 - accuracy: 0.8742 - val_loss: 0.3375 - val_accuracy: 0.8523\n",
      "Epoch 5/20\n",
      "266/266 [==============================] - 1s 5ms/step - loss: 0.2912 - accuracy: 0.8799 - val_loss: 0.3286 - val_accuracy: 0.8562\n",
      "Epoch 6/20\n",
      "266/266 [==============================] - 1s 5ms/step - loss: 0.2747 - accuracy: 0.8874 - val_loss: 0.3277 - val_accuracy: 0.8573\n",
      "Epoch 7/20\n",
      "266/266 [==============================] - 1s 5ms/step - loss: 0.2578 - accuracy: 0.8952 - val_loss: 0.3330 - val_accuracy: 0.8590\n",
      "Epoch 8/20\n",
      "266/266 [==============================] - 1s 5ms/step - loss: 0.2424 - accuracy: 0.9020 - val_loss: 0.3380 - val_accuracy: 0.8557\n",
      "Epoch 9/20\n",
      "266/266 [==============================] - 1s 5ms/step - loss: 0.2291 - accuracy: 0.9077 - val_loss: 0.3542 - val_accuracy: 0.8552\n",
      "Epoch 10/20\n",
      "266/266 [==============================] - 1s 5ms/step - loss: 0.2172 - accuracy: 0.9134 - val_loss: 0.3777 - val_accuracy: 0.8538\n",
      "Epoch 11/20\n",
      "266/266 [==============================] - 1s 5ms/step - loss: 0.2065 - accuracy: 0.9181 - val_loss: 0.3830 - val_accuracy: 0.8544\n",
      "Epoch 12/20\n",
      "266/266 [==============================] - 1s 5ms/step - loss: 0.1973 - accuracy: 0.9218 - val_loss: 0.3854 - val_accuracy: 0.8492\n",
      "Epoch 13/20\n",
      "266/266 [==============================] - 1s 5ms/step - loss: 0.1878 - accuracy: 0.9259 - val_loss: 0.4004 - val_accuracy: 0.8478\n",
      "Epoch 14/20\n",
      "266/266 [==============================] - 1s 5ms/step - loss: 0.1799 - accuracy: 0.9294 - val_loss: 0.4269 - val_accuracy: 0.8506\n",
      "Epoch 15/20\n",
      "266/266 [==============================] - 1s 5ms/step - loss: 0.1716 - accuracy: 0.9330 - val_loss: 0.4666 - val_accuracy: 0.8512\n",
      "Epoch 16/20\n",
      "266/266 [==============================] - 1s 5ms/step - loss: 0.1644 - accuracy: 0.9357 - val_loss: 0.4756 - val_accuracy: 0.8480\n",
      "Epoch 17/20\n",
      "266/266 [==============================] - 1s 5ms/step - loss: 0.1594 - accuracy: 0.9379 - val_loss: 0.4864 - val_accuracy: 0.8488\n",
      "Epoch 18/20\n",
      "266/266 [==============================] - 1s 5ms/step - loss: 0.1507 - accuracy: 0.9419 - val_loss: 0.5093 - val_accuracy: 0.8463\n",
      "Epoch 19/20\n",
      "266/266 [==============================] - 1s 5ms/step - loss: 0.1430 - accuracy: 0.9445 - val_loss: 0.5345 - val_accuracy: 0.8431\n",
      "Epoch 20/20\n",
      "266/266 [==============================] - 1s 5ms/step - loss: 0.1370 - accuracy: 0.9472 - val_loss: 0.5601 - val_accuracy: 0.8444\n"
     ]
    }
   ],
   "source": [
    "model3.compile(optimizer='adam',\n",
    "              loss='binary_crossentropy',\n",
    "              metrics=['accuracy'])\n",
    "              \n",
    "history3 = model3.fit(partial_X_train,\n",
    "                    partial_y_train,\n",
    "                    epochs=epochs,\n",
    "                    batch_size=512,\n",
    "                    validation_data=(X_val, y_val),\n",
    "                    verbose=1)"
   ]
  },
  {
   "cell_type": "code",
   "execution_count": 195,
   "id": "ee586169",
   "metadata": {},
   "outputs": [
    {
     "name": "stdout",
     "output_type": "stream",
     "text": [
      "1537/1537 - 3s - loss: 0.5775 - accuracy: 0.8389\n",
      "[0.5775049924850464, 0.8388835787773132]\n"
     ]
    }
   ],
   "source": [
    "results3 = model3.evaluate(X_test,  y_test, verbose=2)\n",
    "\n",
    "print(results3)"
   ]
  },
  {
   "cell_type": "code",
   "execution_count": 196,
   "id": "2da67c4e",
   "metadata": {},
   "outputs": [
    {
     "data": {
      "image/png": "[encoded data removed]",
      "text/plain": [
       "<Figure size 864x432 with 2 Axes>"
      ]
     },
     "metadata": {
      "needs_background": "light"
     },
     "output_type": "display_data"
    }
   ],
   "source": [
    "result_visualization(history3)"
   ]
  },
  {
   "cell_type": "markdown",
   "id": "f2127fd4",
   "metadata": {},
   "source": [
    "### 7. 학습된 Embedding 레이어 분석"
   ]
  },
  {
   "cell_type": "code",
   "execution_count": 197,
   "id": "edb963af",
   "metadata": {},
   "outputs": [
    {
     "name": "stdout",
     "output_type": "stream",
     "text": [
      "(10000, 30)\n"
     ]
    }
   ],
   "source": [
    "embedding_layer = model3.layers[1]\n",
    "weights = embedding_layer.get_weights()[0]\n",
    "print(weights.shape)    # shape: (vocab_size, embedding_dim)"
   ]
  },
  {
   "cell_type": "markdown",
   "id": "c36882fd",
   "metadata": {},
   "source": [
    "### 8. 한국어 Word2Vec 임베딩 활용하여 성능 개선"
   ]
  },
  {
   "cell_type": "code",
   "execution_count": 198,
   "id": "974260c1",
   "metadata": {},
   "outputs": [],
   "source": [
    "import os\n",
    "from gensim.models.keyedvectors import Word2VecKeyedVectors\n",
    "from tensorflow.keras.initializers import Constant"
   ]
  },
  {
   "cell_type": "code",
   "execution_count": 199,
   "id": "42a4c586",
   "metadata": {},
   "outputs": [],
   "source": [
    "word2vec_file_path = os.getenv('HOME')+'/data/word2vec_ko.model'\n",
    "word_vectors = Word2VecKeyedVectors.load(word2vec_file_path)"
   ]
  },
  {
   "cell_type": "code",
   "execution_count": 200,
   "id": "d83fcda7",
   "metadata": {},
   "outputs": [],
   "source": [
    "vocab_size = 10000    # 어휘 사전의 크기입니다(10,000개의 단어)\n",
    "word_vector_dim = 100  # 워드 벡터의 차원 수 (변경 가능한 하이퍼파라미터)\n",
    "embedding_matrix = np.random.rand(vocab_size, word_vector_dim)\n",
    "\n",
    "# embedding_matrix에 Word2Vec 워드 벡터를 단어 하나씩마다 차례차례 카피한다.\n",
    "for i in range(4, vocab_size):\n",
    "    if index_to_word[i] in word_vectors.wv:\n",
    "        embedding_matrix[i] = word_vectors.wv[index_to_word[i]]"
   ]
  },
  {
   "cell_type": "code",
   "execution_count": 202,
   "id": "9d4b8604",
   "metadata": {},
   "outputs": [],
   "source": [
    "# model4 : embedding -> gru(32) -> dense(8)\n",
    "inputs = keras.Input(shape=(41, ))\n",
    "x = keras.layers.Embedding(\n",
    "    vocab_size, \n",
    "    word_vector_dim, \n",
    "    embeddings_initializer=Constant(embedding_matrix),  # 카피한 임베딩을 여기서 활용\n",
    "    input_length=maxlen, \n",
    "    trainable=True\n",
    ")(inputs)\n",
    "x = keras.layers.GRU(64, return_sequences=True)(x)\n",
    "x = keras.layers.GRU(64, return_sequences=False)(x)\n",
    "x = keras.layers.Dense(32, activation=\"relu\")(x)\n",
    "x = keras.layers.Dense(8, activation=\"relu\")(x)\n",
    "x = keras.layers.Dropout(0.2)(x)\n",
    "outputs = keras.layers.Dense(1, activation=\"sigmoid\")(x)\n",
    "model4 = keras.Model(inputs, outputs)"
   ]
  },
  {
   "cell_type": "code",
   "execution_count": 203,
   "id": "e8a1505d",
   "metadata": {},
   "outputs": [
    {
     "name": "stdout",
     "output_type": "stream",
     "text": [
      "Model: \"model_21\"\n",
      "_________________________________________________________________\n",
      "Layer (type)                 Output Shape              Param #   \n",
      "=================================================================\n",
      "input_24 (InputLayer)        [(None, 41)]              0         \n",
      "_________________________________________________________________\n",
      "embedding_23 (Embedding)     (None, 41, 100)           1000000   \n",
      "_________________________________________________________________\n",
      "gru_13 (GRU)                 (None, 41, 64)            31872     \n",
      "_________________________________________________________________\n",
      "gru_14 (GRU)                 (None, 64)                24960     \n",
      "_________________________________________________________________\n",
      "dense_48 (Dense)             (None, 32)                2080      \n",
      "_________________________________________________________________\n",
      "dense_49 (Dense)             (None, 8)                 264       \n",
      "_________________________________________________________________\n",
      "dropout_5 (Dropout)          (None, 8)                 0         \n",
      "_________________________________________________________________\n",
      "dense_50 (Dense)             (None, 1)                 9         \n",
      "=================================================================\n",
      "Total params: 1,059,185\n",
      "Trainable params: 1,059,185\n",
      "Non-trainable params: 0\n",
      "_________________________________________________________________\n"
     ]
    }
   ],
   "source": [
    "model4.summary()"
   ]
  },
  {
   "cell_type": "code",
   "execution_count": 205,
   "id": "64165dac",
   "metadata": {},
   "outputs": [
    {
     "name": "stdout",
     "output_type": "stream",
     "text": [
      "Epoch 1/20\n",
      "266/266 [==============================] - 6s 12ms/step - loss: 0.4840 - accuracy: 0.7682 - val_loss: 0.3728 - val_accuracy: 0.8254\n",
      "Epoch 2/20\n",
      "266/266 [==============================] - 3s 9ms/step - loss: 0.3620 - accuracy: 0.8467 - val_loss: 0.3299 - val_accuracy: 0.8543\n",
      "Epoch 3/20\n",
      "266/266 [==============================] - 2s 9ms/step - loss: 0.3191 - accuracy: 0.8685 - val_loss: 0.3130 - val_accuracy: 0.8615\n",
      "Epoch 4/20\n",
      "266/266 [==============================] - 2s 9ms/step - loss: 0.2954 - accuracy: 0.8800 - val_loss: 0.3070 - val_accuracy: 0.8642\n",
      "Epoch 5/20\n",
      "266/266 [==============================] - 3s 9ms/step - loss: 0.2758 - accuracy: 0.8895 - val_loss: 0.3068 - val_accuracy: 0.8659\n",
      "Epoch 6/20\n",
      "266/266 [==============================] - 3s 9ms/step - loss: 0.2584 - accuracy: 0.8981 - val_loss: 0.3100 - val_accuracy: 0.8639\n",
      "Epoch 7/20\n",
      "266/266 [==============================] - 3s 10ms/step - loss: 0.2426 - accuracy: 0.9049 - val_loss: 0.3204 - val_accuracy: 0.8595\n",
      "Epoch 8/20\n",
      "266/266 [==============================] - 2s 9ms/step - loss: 0.2280 - accuracy: 0.9126 - val_loss: 0.3225 - val_accuracy: 0.8633\n",
      "Epoch 9/20\n",
      "266/266 [==============================] - 2s 9ms/step - loss: 0.2132 - accuracy: 0.9189 - val_loss: 0.3399 - val_accuracy: 0.8632\n",
      "Epoch 10/20\n",
      "266/266 [==============================] - 2s 9ms/step - loss: 0.1969 - accuracy: 0.9258 - val_loss: 0.3489 - val_accuracy: 0.8609\n",
      "Epoch 11/20\n",
      "266/266 [==============================] - 2s 9ms/step - loss: 0.1830 - accuracy: 0.9323 - val_loss: 0.3754 - val_accuracy: 0.8623\n",
      "Epoch 12/20\n",
      "266/266 [==============================] - 2s 9ms/step - loss: 0.1667 - accuracy: 0.9389 - val_loss: 0.4031 - val_accuracy: 0.8644\n",
      "Epoch 13/20\n",
      "266/266 [==============================] - 2s 9ms/step - loss: 0.1527 - accuracy: 0.9449 - val_loss: 0.4405 - val_accuracy: 0.8614\n",
      "Epoch 14/20\n",
      "266/266 [==============================] - 2s 9ms/step - loss: 0.1365 - accuracy: 0.9516 - val_loss: 0.4696 - val_accuracy: 0.8597\n",
      "Epoch 15/20\n",
      "266/266 [==============================] - 2s 9ms/step - loss: 0.1251 - accuracy: 0.9562 - val_loss: 0.4942 - val_accuracy: 0.8585\n",
      "Epoch 16/20\n",
      "266/266 [==============================] - 2s 9ms/step - loss: 0.1135 - accuracy: 0.9603 - val_loss: 0.5727 - val_accuracy: 0.8587\n",
      "Epoch 17/20\n",
      "266/266 [==============================] - 2s 9ms/step - loss: 0.1040 - accuracy: 0.9639 - val_loss: 0.5509 - val_accuracy: 0.8566\n",
      "Epoch 18/20\n",
      "266/266 [==============================] - 2s 9ms/step - loss: 0.0959 - accuracy: 0.9664 - val_loss: 0.6278 - val_accuracy: 0.8555\n",
      "Epoch 19/20\n",
      "266/266 [==============================] - 2s 9ms/step - loss: 0.0840 - accuracy: 0.9707 - val_loss: 0.6726 - val_accuracy: 0.8536\n",
      "Epoch 20/20\n",
      "266/266 [==============================] - 2s 9ms/step - loss: 0.0782 - accuracy: 0.9727 - val_loss: 0.7032 - val_accuracy: 0.8550\n"
     ]
    }
   ],
   "source": [
    "# 학습의 진행\n",
    "model4.compile(optimizer='adam',\n",
    "              loss='binary_crossentropy',\n",
    "              metrics=['accuracy'])\n",
    "              \n",
    "epochs=20  # 몇 epoch를 훈련하면 좋을지 결과를 보면서 바꾸어 봅시다. \n",
    "\n",
    "history4 = model4.fit(partial_X_train,\n",
    "                    partial_y_train,\n",
    "                    epochs=epochs,\n",
    "                    batch_size=512,\n",
    "                    validation_data=(X_val, y_val),\n",
    "                    verbose=1)"
   ]
  },
  {
   "cell_type": "code",
   "execution_count": 206,
   "id": "2e53697a",
   "metadata": {},
   "outputs": [
    {
     "name": "stdout",
     "output_type": "stream",
     "text": [
      "1537/1537 - 4s - loss: 0.7646 - accuracy: 0.8504\n",
      "[0.7646042704582214, 0.8503977060317993]\n"
     ]
    }
   ],
   "source": [
    "# 테스트셋을 통한 모델 평가\n",
    "results4 = model4.evaluate(X_test, y_test, verbose=2)\n",
    "\n",
    "print(results4)"
   ]
  },
  {
   "cell_type": "code",
   "execution_count": 207,
   "id": "8e7681f2",
   "metadata": {},
   "outputs": [
    {
     "data": {
      "image/png": "[encoded data removed]",
      "text/plain": [
       "<Figure size 864x432 with 2 Axes>"
      ]
     },
     "metadata": {
      "needs_background": "light"
     },
     "output_type": "display_data"
    }
   ],
   "source": [
    "result_visualization(history4)"
   ]
  },
  {
   "cell_type": "markdown",
   "id": "7e09a164",
   "metadata": {},
   "source": [
    "### 회고\n",
    "자연어 처리의 여러 모델을 사용해볼 수 있어 좋았다. \n",
    "여러가지 전처리를 추가하는 실험을 진행하면 성능이 더 오를까??"
   ]
  },
  {
   "cell_type": "code",
   "execution_count": null,
   "id": "ae8282ce",
   "metadata": {},
   "outputs": [],
   "source": []
  }
 ],
 "metadata": {
  "kernelspec": {
   "display_name": "Python 3 (ipykernel)",
   "language": "python",
   "name": "python3"
  },
  "language_info": {
   "codemirror_mode": {
    "name": "ipython",
    "version": 3
   },
   "file_extension": ".py",
   "mimetype": "text/x-python",
   "name": "python",
   "nbconvert_exporter": "python",
   "pygments_lexer": "ipython3",
   "version": "3.9.7"
  }
 },
 "nbformat": 4,
 "nbformat_minor": 5
}
