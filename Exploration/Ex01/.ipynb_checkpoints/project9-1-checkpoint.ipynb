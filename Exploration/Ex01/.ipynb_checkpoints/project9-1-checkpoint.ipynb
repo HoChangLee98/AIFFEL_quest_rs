{
 "cells": [
  {
   "cell_type": "code",
   "execution_count": 52,
   "id": "ee42c5d9",
   "metadata": {},
   "outputs": [],
   "source": [
    "from sklearn.datasets import load_diabetes\n",
    "import numpy as np\n",
    "from sklearn.model_selection import train_test_split\n",
    "import matplotlib.pyplot as plt"
   ]
  },
  {
   "cell_type": "markdown",
   "id": "dd109b06",
   "metadata": {},
   "source": [
    "### 데이터 가져오기"
   ]
  },
  {
   "cell_type": "code",
   "execution_count": 2,
   "id": "e27bd346",
   "metadata": {},
   "outputs": [],
   "source": [
    "df_X = load_diabetes()[\"data\"]\n",
    "df_y = load_diabetes()[\"target\"]"
   ]
  },
  {
   "cell_type": "markdown",
   "id": "b5e95e9e",
   "metadata": {},
   "source": [
    "### 모델에 입력할 데이터"
   ]
  },
  {
   "cell_type": "code",
   "execution_count": 3,
   "id": "ea2e7877",
   "metadata": {},
   "outputs": [],
   "source": [
    "df_X = np.array(df_X)\n",
    "df_y = np.array(df_y)"
   ]
  },
  {
   "cell_type": "markdown",
   "id": "d7eca8a3",
   "metadata": {},
   "source": [
    "### train 데이터와 test 데이터로 분리하기"
   ]
  },
  {
   "cell_type": "code",
   "execution_count": 4,
   "id": "c5feb27f",
   "metadata": {},
   "outputs": [],
   "source": [
    "X_train, X_test, y_train, y_test = train_test_split(\n",
    "    df_X, \n",
    "    df_y, \n",
    "    test_size=0.2, \n",
    "    random_state=0\n",
    ")"
   ]
  },
  {
   "cell_type": "code",
   "execution_count": 5,
   "id": "ad68fd8b",
   "metadata": {},
   "outputs": [
    {
     "name": "stdout",
     "output_type": "stream",
     "text": [
      "(353, 10) (353,)\n",
      "(89, 10) (89,)\n"
     ]
    }
   ],
   "source": [
    "print(X_train.shape, y_train.shape)\n",
    "print(X_test.shape, y_test.shape)"
   ]
  },
  {
   "cell_type": "markdown",
   "id": "1d85291a",
   "metadata": {},
   "source": [
    "### 모델 준비하기"
   ]
  },
  {
   "cell_type": "code",
   "execution_count": 9,
   "id": "d40a6278",
   "metadata": {},
   "outputs": [],
   "source": [
    "W = np.random.rand(10)\n",
    "b = np.random.rand()"
   ]
  },
  {
   "cell_type": "code",
   "execution_count": 14,
   "id": "5919ef6b",
   "metadata": {},
   "outputs": [
    {
     "name": "stdout",
     "output_type": "stream",
     "text": [
      "W  [0.2773258  0.41464982 0.88457904 0.06374213 0.18446533 0.70278672\n",
      " 0.16458667 0.18162958 0.19958656 0.14758311]\n",
      "b  0.8833909258160704\n"
     ]
    }
   ],
   "source": [
    "print(\"W \", W)\n",
    "print(\"b \", b)"
   ]
  },
  {
   "cell_type": "code",
   "execution_count": 22,
   "id": "36b3deb4",
   "metadata": {},
   "outputs": [],
   "source": [
    "def my_model(X, W, b): \n",
    "    predictions = 0\n",
    "    predictions = X @ W\n",
    "    predictions += b\n",
    "    return predictions\n",
    "\n",
    "def ori_model(X, W, b):\n",
    "    predictions = 0\n",
    "    for i in range(10):\n",
    "        predictions += X[:, i] * W[i]\n",
    "    predictions += b\n",
    "    return predictions"
   ]
  },
  {
   "cell_type": "markdown",
   "id": "c4df5db4",
   "metadata": {},
   "source": [
    "### 손실함수 loss 정의하기"
   ]
  },
  {
   "cell_type": "code",
   "execution_count": 23,
   "id": "76c16811",
   "metadata": {},
   "outputs": [],
   "source": [
    "def MSE(y, y_pred):\n",
    "    mse = ((y - y_pred) ** 2).mean()\n",
    "    return mse"
   ]
  },
  {
   "cell_type": "code",
   "execution_count": 24,
   "id": "3cc8bee3",
   "metadata": {},
   "outputs": [],
   "source": [
    "def loss(X, W, b, y, model):\n",
    "    predictions = model(X, W, b)\n",
    "    loss_value = MSE(predictions, y)\n",
    "    return loss_value"
   ]
  },
  {
   "cell_type": "markdown",
   "id": "a79cf09e",
   "metadata": {},
   "source": [
    "### 기울기를 구하는 gradient 함수 구현하기"
   ]
  },
  {
   "cell_type": "code",
   "execution_count": 69,
   "id": "b6ced2b2",
   "metadata": {},
   "outputs": [],
   "source": [
    "def gradient(X, W, b, y, model):\n",
    "    N = len(y)\n",
    "    y_pred = model(X, W, b)\n",
    "    dW = 1/N * 2 * X.T.dot(y_pred - y)\n",
    "    \n",
    "    db = 2 * (y_pred - y).mean()\n",
    "    return dW, db"
   ]
  },
  {
   "cell_type": "code",
   "execution_count": 70,
   "id": "5771e925",
   "metadata": {},
   "outputs": [
    {
     "name": "stdout",
     "output_type": "stream",
     "text": [
      "## my model\n",
      "   dW: [-0.24974358 -0.5388855   0.1901913   0.19418892  0.17787706  0.26173397\n",
      "  0.06081192 -0.116408   -0.05873917  0.09444552]\n",
      "   db: -306.1659112317071\n",
      "## original model\n",
      "   dW: [-0.24974358 -0.5388855   0.1901913   0.19418892  0.17787706  0.26173397\n",
      "  0.06081192 -0.116408   -0.05873917  0.09444552]\n",
      "   db: -306.1659112317071\n"
     ]
    }
   ],
   "source": [
    "dW, db = gradient(X_train, W, b, y_train, my_model)\n",
    "print(\"## my model\")\n",
    "print(\"   dW:\", dW)\n",
    "print(\"   db:\", db)\n",
    "dW, db = gradient(X_train, W, b, y_train, ori_model)\n",
    "print(\"## original model\")\n",
    "print(\"   dW:\", dW)\n",
    "print(\"   db:\", db)"
   ]
  },
  {
   "cell_type": "markdown",
   "id": "3fcacaaf",
   "metadata": {},
   "source": [
    "### 하이퍼 파라미터인 학습률 설정하기 &  모델 학습하기"
   ]
  },
  {
   "cell_type": "code",
   "execution_count": 89,
   "id": "52b4158b",
   "metadata": {},
   "outputs": [
    {
     "name": "stdout",
     "output_type": "stream",
     "text": [
      "Iteration 100 : Loss 5370.0880\n",
      "Iteration 200 : Loss 4827.1803\n",
      "Iteration 300 : Loss 4431.1782\n",
      "Iteration 400 : Loss 4137.7357\n",
      "Iteration 500 : Loss 3916.3851\n",
      "Iteration 600 : Loss 3746.1445\n",
      "Iteration 700 : Loss 3612.5209\n",
      "Iteration 800 : Loss 3505.4638\n",
      "Iteration 900 : Loss 3417.9688\n",
      "Iteration 1000 : Loss 3345.1234\n",
      "Iteration 1100 : Loss 3283.4547\n",
      "Iteration 1200 : Loss 3230.4834\n",
      "Iteration 1300 : Loss 3184.4188\n",
      "Iteration 1400 : Loss 3143.9491\n",
      "Iteration 1500 : Loss 3108.0978\n",
      "Iteration 1600 : Loss 3076.1250\n",
      "Iteration 1700 : Loss 3047.4594\n",
      "Iteration 1800 : Loss 3021.6505\n",
      "Iteration 1900 : Loss 2998.3367\n",
      "Iteration 2000 : Loss 2977.2213\n",
      "Iteration 2100 : Loss 2958.0573\n",
      "Iteration 2200 : Loss 2940.6354\n",
      "Iteration 2300 : Loss 2924.7759\n",
      "Iteration 2400 : Loss 2910.3228\n",
      "Iteration 2500 : Loss 2897.1392\n",
      "Iteration 2600 : Loss 2885.1044\n",
      "Iteration 2700 : Loss 2874.1107\n",
      "Iteration 2800 : Loss 2864.0622\n",
      "Iteration 2900 : Loss 2854.8726\n",
      "Iteration 3000 : Loss 2846.4645\n",
      "Iteration 3100 : Loss 2838.7678\n",
      "Iteration 3200 : Loss 2831.7193\n",
      "Iteration 3300 : Loss 2825.2617\n",
      "Iteration 3400 : Loss 2819.3431\n",
      "Iteration 3500 : Loss 2813.9163\n",
      "Iteration 3600 : Loss 2808.9387\n",
      "Iteration 3700 : Loss 2804.3712\n",
      "Iteration 3800 : Loss 2800.1785\n",
      "Iteration 3900 : Loss 2796.3283\n",
      "Iteration 4000 : Loss 2792.7914\n",
      "Iteration 4100 : Loss 2789.5410\n",
      "Iteration 4200 : Loss 2786.5528\n",
      "Iteration 4300 : Loss 2783.8045\n",
      "Iteration 4400 : Loss 2781.2760\n",
      "Iteration 4500 : Loss 2778.9487\n",
      "Iteration 4600 : Loss 2776.8059\n",
      "Iteration 4700 : Loss 2774.8320\n",
      "Iteration 4800 : Loss 2773.0130\n",
      "Iteration 4900 : Loss 2771.3362\n",
      "Iteration 5000 : Loss 2769.7897\n",
      "Iteration 5100 : Loss 2768.3628\n",
      "Iteration 5200 : Loss 2767.0457\n",
      "Iteration 5300 : Loss 2765.8295\n",
      "Iteration 5400 : Loss 2764.7058\n",
      "Iteration 5500 : Loss 2763.6673\n",
      "Iteration 5600 : Loss 2762.7070\n",
      "Iteration 5700 : Loss 2761.8186\n",
      "Iteration 5800 : Loss 2760.9964\n",
      "Iteration 5900 : Loss 2760.2350\n",
      "Iteration 6000 : Loss 2759.5297\n",
      "Iteration 6100 : Loss 2758.8759\n",
      "Iteration 6200 : Loss 2758.2696\n",
      "Iteration 6300 : Loss 2757.7070\n",
      "Iteration 6400 : Loss 2757.1848\n",
      "Iteration 6500 : Loss 2756.6997\n",
      "Iteration 6600 : Loss 2756.2489\n",
      "Iteration 6700 : Loss 2755.8297\n",
      "Iteration 6800 : Loss 2755.4397\n",
      "Iteration 6900 : Loss 2755.0766\n",
      "Iteration 7000 : Loss 2754.7384\n",
      "Iteration 7100 : Loss 2754.4231\n",
      "Iteration 7200 : Loss 2754.1291\n",
      "Iteration 7300 : Loss 2753.8547\n",
      "Iteration 7400 : Loss 2753.5985\n",
      "Iteration 7500 : Loss 2753.3590\n",
      "Iteration 7600 : Loss 2753.1351\n",
      "Iteration 7700 : Loss 2752.9255\n",
      "Iteration 7800 : Loss 2752.7293\n",
      "Iteration 7900 : Loss 2752.5454\n",
      "Iteration 8000 : Loss 2752.3730\n",
      "Iteration 8100 : Loss 2752.2111\n",
      "Iteration 8200 : Loss 2752.0591\n",
      "Iteration 8300 : Loss 2751.9162\n",
      "Iteration 8400 : Loss 2751.7818\n",
      "Iteration 8500 : Loss 2751.6553\n",
      "Iteration 8600 : Loss 2751.5360\n",
      "Iteration 8700 : Loss 2751.4236\n",
      "Iteration 8800 : Loss 2751.3175\n",
      "Iteration 8900 : Loss 2751.2172\n",
      "Iteration 9000 : Loss 2751.1224\n",
      "Iteration 9100 : Loss 2751.0327\n",
      "Iteration 9200 : Loss 2750.9477\n",
      "Iteration 9300 : Loss 2750.8671\n",
      "Iteration 9400 : Loss 2750.7907\n",
      "Iteration 9500 : Loss 2750.7181\n",
      "Iteration 9600 : Loss 2750.6490\n",
      "Iteration 9700 : Loss 2750.5833\n",
      "Iteration 9800 : Loss 2750.5207\n",
      "Iteration 9900 : Loss 2750.4610\n",
      "Iteration 10000 : Loss 2750.4041\n"
     ]
    }
   ],
   "source": [
    "lr = 0.1\n",
    "losses = []\n",
    "W = np.random.rand(10)\n",
    "b = np.random.rand()\n",
    "\n",
    "for i in range(1, 10001):\n",
    "    dW, db = gradient(X_train, W, b, y_train, my_model)\n",
    "    W -= lr * dW\n",
    "    b -= lr * db\n",
    "    loss_value = loss(X_train, W, b, y_train, my_model)\n",
    "    losses.append(loss_value)\n",
    "    if i % 100 == 0:\n",
    "        print('Iteration %d : Loss %0.4f' % (i, loss_value))"
   ]
  },
  {
   "cell_type": "markdown",
   "id": "caa3f143",
   "metadata": {},
   "source": [
    "### test 데이터에 대한 성능 확인하기"
   ]
  },
  {
   "cell_type": "code",
   "execution_count": 118,
   "id": "2bd71a80",
   "metadata": {},
   "outputs": [
    {
     "data": {
      "text/plain": [
       "3451.1255718375355"
      ]
     },
     "execution_count": 118,
     "metadata": {},
     "output_type": "execute_result"
    }
   ],
   "source": [
    "prediction = my_model(X_test, W, b)\n",
    "mse = loss(X_test, W, b, y_test, my_model)\n",
    "mse"
   ]
  },
  {
   "cell_type": "markdown",
   "id": "e4dc6cf0",
   "metadata": {},
   "source": [
    "### 정답 데이터와 예측한 데이터 시각화하기"
   ]
  },
  {
   "cell_type": "code",
   "execution_count": 117,
   "id": "d1357a05",
   "metadata": {},
   "outputs": [
    {
     "data": {
      "image/png": "[encoded data removed]",
      "text/plain": [
       "<Figure size 432x288 with 1 Axes>"
      ]
     },
     "metadata": {
      "needs_background": "light"
     },
     "output_type": "display_data"
    }
   ],
   "source": [
    "plt.scatter(X_test[:, 0], y_test, label=\"True\")\n",
    "plt.scatter(X_test[:, 0], prediction, label=\"Pred\")\n",
    "plt.legend()\n",
    "plt.show()"
   ]
  }
 ],
 "metadata": {
  "kernelspec": {
   "display_name": "Python 3 (ipykernel)",
   "language": "python",
   "name": "python3"
  },
  "language_info": {
   "codemirror_mode": {
    "name": "ipython",
    "version": 3
   },
   "file_extension": ".py",
   "mimetype": "text/x-python",
   "name": "python",
   "nbconvert_exporter": "python",
   "pygments_lexer": "ipython3",
   "version": "3.9.7"
  }
 },
 "nbformat": 4,
 "nbformat_minor": 5
}
