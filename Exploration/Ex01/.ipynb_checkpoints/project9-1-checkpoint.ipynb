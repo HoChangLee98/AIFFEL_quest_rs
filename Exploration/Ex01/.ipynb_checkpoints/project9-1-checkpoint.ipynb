{
 "cells": [
  {
   "cell_type": "code",
   "execution_count": 1,
   "id": "dd332b45",
   "metadata": {},
   "outputs": [],
   "source": [
    "from sklearn.datasets import load_diabetes\n",
    "import numpy as np\n",
    "from sklearn.model_selection import train_test_split\n",
    "import matplotlib.pyplot as plt"
   ]
  },
  {
   "cell_type": "markdown",
   "id": "fd820493",
   "metadata": {},
   "source": [
    "### 데이터 가져오기"
   ]
  },
  {
   "cell_type": "code",
   "execution_count": 2,
   "id": "dee26935",
   "metadata": {},
   "outputs": [],
   "source": [
    "df_X = load_diabetes()[\"data\"]\n",
    "df_y = load_diabetes()[\"target\"]"
   ]
  },
  {
   "cell_type": "markdown",
   "id": "b87d7b3b",
   "metadata": {},
   "source": [
    "### 모델에 입력할 데이터"
   ]
  },
  {
   "cell_type": "code",
   "execution_count": 3,
   "id": "a2acf135",
   "metadata": {},
   "outputs": [],
   "source": [
    "df_X = np.array(df_X)\n",
    "df_y = np.array(df_y)"
   ]
  },
  {
   "cell_type": "markdown",
   "id": "d243fec3",
   "metadata": {},
   "source": [
    "### train 데이터와 test 데이터로 분리하기"
   ]
  },
  {
   "cell_type": "code",
   "execution_count": 4,
   "id": "c634dcd7",
   "metadata": {},
   "outputs": [],
   "source": [
    "X_train, X_test, y_train, y_test = train_test_split(\n",
    "    df_X, \n",
    "    df_y, \n",
    "    test_size=0.2, \n",
    "    random_state=0\n",
    ")"
   ]
  },
  {
   "cell_type": "code",
   "execution_count": 5,
   "id": "52c68c63",
   "metadata": {},
   "outputs": [
    {
     "name": "stdout",
     "output_type": "stream",
     "text": [
      "(353, 10) (353,)\n",
      "(89, 10) (89,)\n"
     ]
    }
   ],
   "source": [
    "print(X_train.shape, y_train.shape)\n",
    "print(X_test.shape, y_test.shape)"
   ]
  },
  {
   "cell_type": "markdown",
   "id": "062465ca",
   "metadata": {},
   "source": [
    "### 모델 준비하기"
   ]
  },
  {
   "cell_type": "code",
   "execution_count": 6,
   "id": "55e860b2",
   "metadata": {},
   "outputs": [],
   "source": [
    "W = np.random.rand(10)\n",
    "b = np.random.rand()"
   ]
  },
  {
   "cell_type": "code",
   "execution_count": 7,
   "id": "f22f9988",
   "metadata": {},
   "outputs": [
    {
     "name": "stdout",
     "output_type": "stream",
     "text": [
      "W  [0.39373771 0.73250311 0.15371369 0.84044121 0.74451047 0.48609896\n",
      " 0.39327609 0.36291273 0.9727848  0.40103725]\n",
      "b  0.7387880697297565\n"
     ]
    }
   ],
   "source": [
    "print(\"W \", W)\n",
    "print(\"b \", b)"
   ]
  },
  {
   "cell_type": "code",
   "execution_count": 8,
   "id": "57382a0d",
   "metadata": {},
   "outputs": [],
   "source": [
    "def my_model(X, W, b): \n",
    "    predictions = 0\n",
    "    predictions = X @ W\n",
    "    predictions += b\n",
    "    return predictions\n",
    "\n",
    "def ori_model(X, W, b):\n",
    "    predictions = 0\n",
    "    for i in range(10):\n",
    "        predictions += X[:, i] * W[i]\n",
    "    predictions += b\n",
    "    return predictions"
   ]
  },
  {
   "cell_type": "markdown",
   "id": "6320f0ea",
   "metadata": {},
   "source": [
    "### 손실함수 loss 정의하기"
   ]
  },
  {
   "cell_type": "code",
   "execution_count": 9,
   "id": "18144b16",
   "metadata": {},
   "outputs": [],
   "source": [
    "def MSE(y, y_pred):\n",
    "    mse = ((y - y_pred) ** 2).mean()\n",
    "    return mse"
   ]
  },
  {
   "cell_type": "code",
   "execution_count": 10,
   "id": "8dc9d1f9",
   "metadata": {},
   "outputs": [],
   "source": [
    "def loss(X, W, b, y, model):\n",
    "    predictions = model(X, W, b)\n",
    "    loss_value = MSE(predictions, y)\n",
    "    return loss_value"
   ]
  },
  {
   "cell_type": "markdown",
   "id": "929acf26",
   "metadata": {},
   "source": [
    "### 기울기를 구하는 gradient 함수 구현하기"
   ]
  },
  {
   "cell_type": "code",
   "execution_count": 11,
   "id": "df773fe7",
   "metadata": {},
   "outputs": [],
   "source": [
    "def gradient(X, W, b, y, model):\n",
    "    N = len(y)\n",
    "    y_pred = model(X, W, b)\n",
    "    dW = 1/N * 2 * X.T.dot(y_pred - y)\n",
    "    \n",
    "    db = 2 * (y_pred - y).mean()\n",
    "    return dW, db"
   ]
  },
  {
   "cell_type": "code",
   "execution_count": 12,
   "id": "e98e04b7",
   "metadata": {},
   "outputs": [
    {
     "name": "stdout",
     "output_type": "stream",
     "text": [
      "## my model\n",
      "   dW: [-1.66750346 -0.83671259 -4.474751   -3.05377058 -1.38680857 -0.90855541\n",
      "  3.23583871 -3.48799603 -4.5067943  -2.88310294]\n",
      "   db: -301.73447558888694\n",
      "## original model\n",
      "   dW: [-1.66750346 -0.83671259 -4.474751   -3.05377058 -1.38680857 -0.90855541\n",
      "  3.23583871 -3.48799603 -4.5067943  -2.88310294]\n",
      "   db: -301.73447558888694\n"
     ]
    }
   ],
   "source": [
    "dW, db = gradient(X_train, W, b, y_train, my_model)\n",
    "print(\"## my model\")\n",
    "print(\"   dW:\", dW)\n",
    "print(\"   db:\", db)\n",
    "dW, db = gradient(X_train, W, b, y_train, ori_model)\n",
    "print(\"## original model\")\n",
    "print(\"   dW:\", dW)\n",
    "print(\"   db:\", db)"
   ]
  },
  {
   "cell_type": "markdown",
   "id": "130f6de8",
   "metadata": {},
   "source": [
    "### 하이퍼 파라미터인 학습률 설정하기 &  모델 학습하기"
   ]
  },
  {
   "cell_type": "code",
   "execution_count": 29,
   "id": "ed6d6570",
   "metadata": {},
   "outputs": [
    {
     "name": "stdout",
     "output_type": "stream",
     "text": [
      "Iteration 1000 : Loss 2769.7219\n",
      "Iteration 2000 : Loss 2750.3870\n",
      "Iteration 3000 : Loss 2749.0046\n",
      "Iteration 4000 : Loss 2748.2867\n",
      "Iteration 5000 : Loss 2747.6636\n",
      "Iteration 6000 : Loss 2747.0880\n",
      "Iteration 7000 : Loss 2746.5494\n",
      "Iteration 8000 : Loss 2746.0420\n",
      "Iteration 9000 : Loss 2745.5619\n",
      "Iteration 10000 : Loss 2745.1061\n"
     ]
    }
   ],
   "source": [
    "lr = 0.5\n",
    "losses = []\n",
    "W = np.random.rand(10)\n",
    "b = np.random.rand()\n",
    "\n",
    "for i in range(1, 10001):\n",
    "    dW, db = gradient(X_train, W, b, y_train, my_model)\n",
    "    W -= lr * dW\n",
    "    b -= lr * db\n",
    "    loss_value = loss(X_train, W, b, y_train, my_model)\n",
    "    losses.append(loss_value)\n",
    "    if i % 1000 == 0:\n",
    "        print('Iteration %d : Loss %0.4f' % (i, loss_value))"
   ]
  },
  {
   "cell_type": "markdown",
   "id": "3c7bc79f",
   "metadata": {},
   "source": [
    "### test 데이터에 대한 성능 확인하기"
   ]
  },
  {
   "cell_type": "code",
   "execution_count": 30,
   "id": "26434eb2",
   "metadata": {},
   "outputs": [
    {
     "data": {
      "text/plain": [
       "3459.89886976832"
      ]
     },
     "execution_count": 30,
     "metadata": {},
     "output_type": "execute_result"
    }
   ],
   "source": [
    "prediction = my_model(X_test, W, b)\n",
    "mse = loss(X_test, W, b, y_test, my_model)\n",
    "mse"
   ]
  },
  {
   "cell_type": "markdown",
   "id": "00675a8f",
   "metadata": {},
   "source": [
    "### 정답 데이터와 예측한 데이터 시각화하기"
   ]
  },
  {
   "cell_type": "code",
   "execution_count": 31,
   "id": "fff4ee8d",
   "metadata": {},
   "outputs": [
    {
     "data": {
      "image/png": "[encoded data removed]",
      "text/plain": [
       "<Figure size 432x288 with 1 Axes>"
      ]
     },
     "metadata": {
      "needs_background": "light"
     },
     "output_type": "display_data"
    }
   ],
   "source": [
    "plt.scatter(X_test[:, 0], y_test, label=\"True\")\n",
    "plt.scatter(X_test[:, 0], prediction, label=\"Pred\")\n",
    "plt.legend()\n",
    "plt.show()"
   ]
  },
  {
   "cell_type": "code",
   "execution_count": null,
   "id": "b01e7380",
   "metadata": {},
   "outputs": [],
   "source": []
  }
 ],
 "metadata": {
  "kernelspec": {
   "display_name": "Python 3 (ipykernel)",
   "language": "python",
   "name": "python3"
  },
  "language_info": {
   "codemirror_mode": {
    "name": "ipython",
    "version": 3
   },
   "file_extension": ".py",
   "mimetype": "text/x-python",
   "name": "python",
   "nbconvert_exporter": "python",
   "pygments_lexer": "ipython3",
   "version": "3.9.7"
  }
 },
 "nbformat": 4,
 "nbformat_minor": 5
}
