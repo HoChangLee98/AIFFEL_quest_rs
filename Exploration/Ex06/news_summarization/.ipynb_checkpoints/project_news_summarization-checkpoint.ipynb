{
 "cells": [
  {
   "cell_type": "code",
   "execution_count": 1,
   "id": "e6432f8f",
   "metadata": {},
   "outputs": [
    {
     "name": "stderr",
     "output_type": "stream",
     "text": [
      "[nltk_data] Downloading package stopwords to /aiffel/nltk_data...\n",
      "[nltk_data]   Unzipping corpora/stopwords.zip.\n"
     ]
    },
    {
     "name": "stdout",
     "output_type": "stream",
     "text": [
      "3.6.5\n",
      "2.6.0\n",
      "1.3.3\n",
      "1.2.0\n"
     ]
    }
   ],
   "source": [
    "from importlib.metadata import version\n",
    "import nltk\n",
    "nltk.download('stopwords')\n",
    "from nltk.corpus import stopwords\n",
    "from bs4 import BeautifulSoup \n",
    "\n",
    "import os\n",
    "import re\n",
    "import tensorflow\n",
    "import summa\n",
    "import numpy as np\n",
    "import pandas as pd\n",
    "import matplotlib.pyplot as plt\n",
    "from tensorflow.keras.preprocessing.text import Tokenizer \n",
    "from tensorflow.keras.preprocessing.sequence import pad_sequences\n",
    "import urllib.request\n",
    "\n",
    "import warnings\n",
    "warnings.filterwarnings(\"ignore\", category=UserWarning, module='bs4')\n",
    "\n",
    "\n",
    "print(nltk.__version__)\n",
    "print(tensorflow.__version__)\n",
    "print(pd.__version__)\n",
    "print(version('summa'))"
   ]
  },
  {
   "cell_type": "markdown",
   "id": "6e876a4f",
   "metadata": {},
   "source": [
    "## 1. 데이터 수집하기"
   ]
  },
  {
   "cell_type": "code",
   "execution_count": 2,
   "id": "958b8859",
   "metadata": {},
   "outputs": [],
   "source": [
    "import urllib.request\n",
    "urllib.request.urlretrieve(\"https://raw.githubusercontent.com/sunnysai12345/News_Summary/master/news_summary_more.csv\", filename=\"news_summary_more.csv\")\n",
    "data = pd.read_csv('news_summary_more.csv', encoding='iso-8859-1')"
   ]
  },
  {
   "cell_type": "code",
   "execution_count": 3,
   "id": "a97cda2e",
   "metadata": {},
   "outputs": [
    {
     "data": {
      "text/html": [
       "<div>\n",
       "<style scoped>\n",
       "    .dataframe tbody tr th:only-of-type {\n",
       "        vertical-align: middle;\n",
       "    }\n",
       "\n",
       "    .dataframe tbody tr th {\n",
       "        vertical-align: top;\n",
       "    }\n",
       "\n",
       "    .dataframe thead th {\n",
       "        text-align: right;\n",
       "    }\n",
       "</style>\n",
       "<table border=\"1\" class=\"dataframe\">\n",
       "  <thead>\n",
       "    <tr style=\"text-align: right;\">\n",
       "      <th></th>\n",
       "      <th>headlines</th>\n",
       "      <th>text</th>\n",
       "    </tr>\n",
       "  </thead>\n",
       "  <tbody>\n",
       "    <tr>\n",
       "      <th>24095</th>\n",
       "      <td>Notice to Domino's for not passing GST benefit...</td>\n",
       "      <td>The National Anti-Profiteering Authority has i...</td>\n",
       "    </tr>\n",
       "    <tr>\n",
       "      <th>19029</th>\n",
       "      <td>U2 cancels concert as singer Bono loses his vo...</td>\n",
       "      <td>Grammy-award winning band U2 cancelled their c...</td>\n",
       "    </tr>\n",
       "    <tr>\n",
       "      <th>23773</th>\n",
       "      <td>Brutal: ECB shares video of Cook, Anderson tak...</td>\n",
       "      <td>The England and Wales Cricket Board (ECB) took...</td>\n",
       "    </tr>\n",
       "    <tr>\n",
       "      <th>87744</th>\n",
       "      <td>World's deepest underwater postbox is on Malay...</td>\n",
       "      <td>The deepest underwater postbox in the world is...</td>\n",
       "    </tr>\n",
       "    <tr>\n",
       "      <th>24461</th>\n",
       "      <td>India to get no rest day before Asia Cup ODI v...</td>\n",
       "      <td>Team India will get no rest day before the 50-...</td>\n",
       "    </tr>\n",
       "    <tr>\n",
       "      <th>49856</th>\n",
       "      <td>MP govt to send 30 farmers on a study tour to ...</td>\n",
       "      <td>Madhya Pradesh Horticulture Minister SP Meena ...</td>\n",
       "    </tr>\n",
       "    <tr>\n",
       "      <th>41081</th>\n",
       "      <td>15 CCTVs at exam centre where CBSE paper leake...</td>\n",
       "      <td>As many as 15 CCTVs at the exam centre where t...</td>\n",
       "    </tr>\n",
       "    <tr>\n",
       "      <th>81978</th>\n",
       "      <td>Several female Tesla employees claim harassmen...</td>\n",
       "      <td>According to a report by The Guardian, several...</td>\n",
       "    </tr>\n",
       "    <tr>\n",
       "      <th>62554</th>\n",
       "      <td>Dancing around the trees never excites me: Vid...</td>\n",
       "      <td>Vidya Balan has said that the role of a teenag...</td>\n",
       "    </tr>\n",
       "    <tr>\n",
       "      <th>7497</th>\n",
       "      <td>AAI employees protest against privatisation of...</td>\n",
       "      <td>State-owned Airports Authority of India (AAI) ...</td>\n",
       "    </tr>\n",
       "  </tbody>\n",
       "</table>\n",
       "</div>"
      ],
      "text/plain": [
       "                                               headlines  \\\n",
       "24095  Notice to Domino's for not passing GST benefit...   \n",
       "19029  U2 cancels concert as singer Bono loses his vo...   \n",
       "23773  Brutal: ECB shares video of Cook, Anderson tak...   \n",
       "87744  World's deepest underwater postbox is on Malay...   \n",
       "24461  India to get no rest day before Asia Cup ODI v...   \n",
       "49856  MP govt to send 30 farmers on a study tour to ...   \n",
       "41081  15 CCTVs at exam centre where CBSE paper leake...   \n",
       "81978  Several female Tesla employees claim harassmen...   \n",
       "62554  Dancing around the trees never excites me: Vid...   \n",
       "7497   AAI employees protest against privatisation of...   \n",
       "\n",
       "                                                    text  \n",
       "24095  The National Anti-Profiteering Authority has i...  \n",
       "19029  Grammy-award winning band U2 cancelled their c...  \n",
       "23773  The England and Wales Cricket Board (ECB) took...  \n",
       "87744  The deepest underwater postbox in the world is...  \n",
       "24461  Team India will get no rest day before the 50-...  \n",
       "49856  Madhya Pradesh Horticulture Minister SP Meena ...  \n",
       "41081  As many as 15 CCTVs at the exam centre where t...  \n",
       "81978  According to a report by The Guardian, several...  \n",
       "62554  Vidya Balan has said that the role of a teenag...  \n",
       "7497   State-owned Airports Authority of India (AAI) ...  "
      ]
     },
     "execution_count": 3,
     "metadata": {},
     "output_type": "execute_result"
    }
   ],
   "source": [
    "data.sample(10)"
   ]
  },
  {
   "cell_type": "code",
   "execution_count": 4,
   "id": "f6304ebc",
   "metadata": {},
   "outputs": [
    {
     "name": "stdout",
     "output_type": "stream",
     "text": [
      "데이터 샘플 수 :  98401\n"
     ]
    }
   ],
   "source": [
    "print(\"데이터 샘플 수 : \", len(data))"
   ]
  },
  {
   "cell_type": "markdown",
   "id": "ae40ea08",
   "metadata": {},
   "source": [
    "## 2. 데이터 전처리하기 (추상적 요약)"
   ]
  },
  {
   "cell_type": "markdown",
   "id": "d3e66635",
   "metadata": {},
   "source": [
    "### 중복 및 결측치 제거"
   ]
  },
  {
   "cell_type": "code",
   "execution_count": 5,
   "id": "3fda2b88",
   "metadata": {},
   "outputs": [
    {
     "name": "stdout",
     "output_type": "stream",
     "text": [
      "text 열에서 중복을 배제한 유일한 샘플의 수 : 98360\n",
      "headlines 열에서 중복을 배제한 유일한 샘플의 수 : 98280\n",
      "전체 샘플수 : 98360\n"
     ]
    }
   ],
   "source": [
    "## 중복 샘플\n",
    "print('text 열에서 중복을 배제한 유일한 샘플의 수 :', data['text'].nunique())\n",
    "print('headlines 열에서 중복을 배제한 유일한 샘플의 수 :', data['headlines'].nunique())\n",
    "\n",
    "data = data.drop_duplicates(subset = ['text'])\n",
    "print('전체 샘플수 :', (len(data)))"
   ]
  },
  {
   "cell_type": "code",
   "execution_count": 6,
   "id": "a3023677",
   "metadata": {},
   "outputs": [
    {
     "name": "stdout",
     "output_type": "stream",
     "text": [
      "headlines    0\n",
      "text         0\n",
      "dtype: int64\n"
     ]
    }
   ],
   "source": [
    "## NULL 값 제거 -> NULL 값이 없다..\n",
    "print(data.isnull().sum())"
   ]
  },
  {
   "cell_type": "markdown",
   "id": "3d37d8cb",
   "metadata": {},
   "source": [
    "### 텍스트 정규화"
   ]
  },
  {
   "cell_type": "code",
   "execution_count": 7,
   "id": "92cafaca",
   "metadata": {},
   "outputs": [
    {
     "name": "stdout",
     "output_type": "stream",
     "text": [
      "정규화 사전의 수:  120\n"
     ]
    }
   ],
   "source": [
    "## 텍스트 정규화\n",
    "contractions = {\"ain't\": \"is not\", \"aren't\": \"are not\",\"can't\": \"cannot\", \"'cause\": \"because\", \"could've\": \"could have\", \"couldn't\": \"could not\",\n",
    "                           \"didn't\": \"did not\",  \"doesn't\": \"does not\", \"don't\": \"do not\", \"hadn't\": \"had not\", \"hasn't\": \"has not\", \"haven't\": \"have not\",\n",
    "                           \"he'd\": \"he would\",\"he'll\": \"he will\", \"he's\": \"he is\", \"how'd\": \"how did\", \"how'd'y\": \"how do you\", \"how'll\": \"how will\", \"how's\": \"how is\",\n",
    "                           \"I'd\": \"I would\", \"I'd've\": \"I would have\", \"I'll\": \"I will\", \"I'll've\": \"I will have\",\"I'm\": \"I am\", \"I've\": \"I have\", \"i'd\": \"i would\",\n",
    "                           \"i'd've\": \"i would have\", \"i'll\": \"i will\",  \"i'll've\": \"i will have\",\"i'm\": \"i am\", \"i've\": \"i have\", \"isn't\": \"is not\", \"it'd\": \"it would\",\n",
    "                           \"it'd've\": \"it would have\", \"it'll\": \"it will\", \"it'll've\": \"it will have\",\"it's\": \"it is\", \"let's\": \"let us\", \"ma'am\": \"madam\",\n",
    "                           \"mayn't\": \"may not\", \"might've\": \"might have\",\"mightn't\": \"might not\",\"mightn't've\": \"might not have\", \"must've\": \"must have\",\n",
    "                           \"mustn't\": \"must not\", \"mustn't've\": \"must not have\", \"needn't\": \"need not\", \"needn't've\": \"need not have\",\"o'clock\": \"of the clock\",\n",
    "                           \"oughtn't\": \"ought not\", \"oughtn't've\": \"ought not have\", \"shan't\": \"shall not\", \"sha'n't\": \"shall not\", \"shan't've\": \"shall not have\",\n",
    "                           \"she'd\": \"she would\", \"she'd've\": \"she would have\", \"she'll\": \"she will\", \"she'll've\": \"she will have\", \"she's\": \"she is\",\n",
    "                           \"should've\": \"should have\", \"shouldn't\": \"should not\", \"shouldn't've\": \"should not have\", \"so've\": \"so have\",\"so's\": \"so as\",\n",
    "                           \"this's\": \"this is\",\"that'd\": \"that would\", \"that'd've\": \"that would have\", \"that's\": \"that is\", \"there'd\": \"there would\",\n",
    "                           \"there'd've\": \"there would have\", \"there's\": \"there is\", \"here's\": \"here is\",\"they'd\": \"they would\", \"they'd've\": \"they would have\",\n",
    "                           \"they'll\": \"they will\", \"they'll've\": \"they will have\", \"they're\": \"they are\", \"they've\": \"they have\", \"to've\": \"to have\",\n",
    "                           \"wasn't\": \"was not\", \"we'd\": \"we would\", \"we'd've\": \"we would have\", \"we'll\": \"we will\", \"we'll've\": \"we will have\", \"we're\": \"we are\",\n",
    "                           \"we've\": \"we have\", \"weren't\": \"were not\", \"what'll\": \"what will\", \"what'll've\": \"what will have\", \"what're\": \"what are\",\n",
    "                           \"what's\": \"what is\", \"what've\": \"what have\", \"when's\": \"when is\", \"when've\": \"when have\", \"where'd\": \"where did\", \"where's\": \"where is\",\n",
    "                           \"where've\": \"where have\", \"who'll\": \"who will\", \"who'll've\": \"who will have\", \"who's\": \"who is\", \"who've\": \"who have\",\n",
    "                           \"why's\": \"why is\", \"why've\": \"why have\", \"will've\": \"will have\", \"won't\": \"will not\", \"won't've\": \"will not have\",\n",
    "                           \"would've\": \"would have\", \"wouldn't\": \"would not\", \"wouldn't've\": \"would not have\", \"y'all\": \"you all\",\n",
    "                           \"y'all'd\": \"you all would\",\"y'all'd've\": \"you all would have\",\"y'all're\": \"you all are\",\"y'all've\": \"you all have\",\n",
    "                           \"you'd\": \"you would\", \"you'd've\": \"you would have\", \"you'll\": \"you will\", \"you'll've\": \"you will have\",\n",
    "                           \"you're\": \"you are\", \"you've\": \"you have\"}\n",
    "\n",
    "print(\"정규화 사전의 수: \", len(contractions))"
   ]
  },
  {
   "cell_type": "code",
   "execution_count": 8,
   "id": "5598f9d8",
   "metadata": {
    "scrolled": true
   },
   "outputs": [
    {
     "name": "stdout",
     "output_type": "stream",
     "text": [
      "불용어 개수 : 179\n",
      "['i', 'me', 'my', 'myself', 'we', 'our', 'ours', 'ourselves', 'you', \"you're\", \"you've\", \"you'll\", \"you'd\", 'your', 'yours', 'yourself', 'yourselves', 'he', 'him', 'his', 'himself', 'she', \"she's\", 'her', 'hers', 'herself', 'it', \"it's\", 'its', 'itself', 'they', 'them', 'their', 'theirs', 'themselves', 'what', 'which', 'who', 'whom', 'this', 'that', \"that'll\", 'these', 'those', 'am', 'is', 'are', 'was', 'were', 'be', 'been', 'being', 'have', 'has', 'had', 'having', 'do', 'does', 'did', 'doing', 'a', 'an', 'the', 'and', 'but', 'if', 'or', 'because', 'as', 'until', 'while', 'of', 'at', 'by', 'for', 'with', 'about', 'against', 'between', 'into', 'through', 'during', 'before', 'after', 'above', 'below', 'to', 'from', 'up', 'down', 'in', 'out', 'on', 'off', 'over', 'under', 'again', 'further', 'then', 'once', 'here', 'there', 'when', 'where', 'why', 'how', 'all', 'any', 'both', 'each', 'few', 'more', 'most', 'other', 'some', 'such', 'no', 'nor', 'not', 'only', 'own', 'same', 'so', 'than', 'too', 'very', 's', 't', 'can', 'will', 'just', 'don', \"don't\", 'should', \"should've\", 'now', 'd', 'll', 'm', 'o', 're', 've', 'y', 'ain', 'aren', \"aren't\", 'couldn', \"couldn't\", 'didn', \"didn't\", 'doesn', \"doesn't\", 'hadn', \"hadn't\", 'hasn', \"hasn't\", 'haven', \"haven't\", 'isn', \"isn't\", 'ma', 'mightn', \"mightn't\", 'mustn', \"mustn't\", 'needn', \"needn't\", 'shan', \"shan't\", 'shouldn', \"shouldn't\", 'wasn', \"wasn't\", 'weren', \"weren't\", 'won', \"won't\", 'wouldn', \"wouldn't\"]\n"
     ]
    }
   ],
   "source": [
    "print('불용어 개수 :', len(stopwords.words('english') ))\n",
    "print(stopwords.words('english'))"
   ]
  },
  {
   "cell_type": "markdown",
   "id": "d7fb5b7c",
   "metadata": {},
   "source": [
    "### 전처리 함수 "
   ]
  },
  {
   "cell_type": "code",
   "execution_count": 20,
   "id": "edc68a13",
   "metadata": {},
   "outputs": [],
   "source": [
    "# 데이터 전처리 함수\n",
    "def preprocess_sentence(sentence, remove_stopwords=True):\n",
    "    sentence = sentence.lower() # 텍스트 소문자화\n",
    "    sentence = BeautifulSoup(sentence, \"lxml\").text # <br />, <a href = ...> 등의 html 태그 제거\n",
    "    sentence = re.sub(r'\\([^)]*\\)', '', sentence) # 괄호로 닫힌 문자열 (...) 제거 Ex) my husband (and myself!) for => my husband for\n",
    "    sentence = re.sub('\"','', sentence) # 쌍따옴표 \" 제거\n",
    "    sentence = ' '.join([contractions[t] if t in contractions else t for t in sentence.split(\" \")]) # 약어 정규화\n",
    "    sentence = re.sub(r\"'s\\b\",\"\", sentence) # 소유격 제거. Ex) roland's -> roland\n",
    "    sentence = re.sub(\"[^a-zA-Z]\", \" \", sentence) # 영어 외 문자(숫자, 특수문자 등) 공백으로 변환\n",
    "    sentence = re.sub('[m]{2,}', 'mm', sentence) # m이 3개 이상이면 2개로 변경. Ex) ummmmmmm yeah -> umm yeah\n",
    "      \n",
    "#     # 불용어 제거 (text)\n",
    "#     if remove_stopwords:\n",
    "#         tokens = ' '.join(word for word in sentence.split() if not word in stopwords.words('english') if len(word) > 1)\n",
    "#     # 불용어 미제거 (headline)\n",
    "#     else:\n",
    "#         tokens = ' '.join(word for word in sentence.split() if len(word) > 1)\n",
    "    \n",
    "    # 불용어 제거 filter를 통해 시간 줄이기 -> 시간은 10분 정도로 비슷\n",
    "    def remove_stopwords_function(word, remove_stopwords=remove_stopwords):\n",
    "        if remove_stopwords:\n",
    "            if not word in stopwords.words(\"english\") and len(word) > 1:\n",
    "                return word\n",
    "        else:\n",
    "            if len(word) > 1:\n",
    "                return word\n",
    "            \n",
    "    tokens = ' '.join(filter(lambda word: remove_stopwords_function(word, remove_stopwords), sentence.split()))\n",
    "\n",
    "    return tokens"
   ]
  },
  {
   "cell_type": "code",
   "execution_count": 21,
   "id": "285d4dcb",
   "metadata": {},
   "outputs": [],
   "source": [
    "## text 데이터 전처리 \n",
    "data[\"filtered_text\"] = data[\"text\"].apply(lambda x: preprocess_sentence(x))"
   ]
  },
  {
   "cell_type": "code",
   "execution_count": 22,
   "id": "278c32a3",
   "metadata": {},
   "outputs": [],
   "source": [
    "## headlines 데이터 전처리 \n",
    "data[\"filtered_headlines\"] = data[\"headlines\"].apply(lambda x: preprocess_sentence(x, False))"
   ]
  },
  {
   "cell_type": "code",
   "execution_count": 23,
   "id": "31468705",
   "metadata": {},
   "outputs": [
    {
     "data": {
      "text/html": [
       "<div>\n",
       "<style scoped>\n",
       "    .dataframe tbody tr th:only-of-type {\n",
       "        vertical-align: middle;\n",
       "    }\n",
       "\n",
       "    .dataframe tbody tr th {\n",
       "        vertical-align: top;\n",
       "    }\n",
       "\n",
       "    .dataframe thead th {\n",
       "        text-align: right;\n",
       "    }\n",
       "</style>\n",
       "<table border=\"1\" class=\"dataframe\">\n",
       "  <thead>\n",
       "    <tr style=\"text-align: right;\">\n",
       "      <th></th>\n",
       "      <th>headlines</th>\n",
       "      <th>text</th>\n",
       "      <th>filtered_text</th>\n",
       "      <th>filtered_headlines</th>\n",
       "    </tr>\n",
       "  </thead>\n",
       "  <tbody>\n",
       "    <tr>\n",
       "      <th>0</th>\n",
       "      <td>upGrad learner switches to career in ML &amp; Al w...</td>\n",
       "      <td>Saurav Kant, an alumnus of upGrad and IIIT-B's...</td>\n",
       "      <td>saurav kant alumnus upgrad iiit pg program mac...</td>\n",
       "      <td>upgrad learner switches to career in ml al wit...</td>\n",
       "    </tr>\n",
       "    <tr>\n",
       "      <th>1</th>\n",
       "      <td>Delhi techie wins free food from Swiggy for on...</td>\n",
       "      <td>Kunal Shah's credit card bill payment platform...</td>\n",
       "      <td>kunal shah credit card bill payment platform c...</td>\n",
       "      <td>delhi techie wins free food from swiggy for on...</td>\n",
       "    </tr>\n",
       "    <tr>\n",
       "      <th>2</th>\n",
       "      <td>New Zealand end Rohit Sharma-led India's 12-ma...</td>\n",
       "      <td>New Zealand defeated India by 8 wickets in the...</td>\n",
       "      <td>new zealand defeated india wickets fourth odi ...</td>\n",
       "      <td>new zealand end rohit sharma led india match w...</td>\n",
       "    </tr>\n",
       "    <tr>\n",
       "      <th>3</th>\n",
       "      <td>Aegon life iTerm insurance plan helps customer...</td>\n",
       "      <td>With Aegon Life iTerm Insurance plan, customer...</td>\n",
       "      <td>aegon life iterm insurance plan customers enjo...</td>\n",
       "      <td>aegon life iterm insurance plan helps customer...</td>\n",
       "    </tr>\n",
       "    <tr>\n",
       "      <th>4</th>\n",
       "      <td>Have known Hirani for yrs, what if MeToo claim...</td>\n",
       "      <td>Speaking about the sexual harassment allegatio...</td>\n",
       "      <td>speaking sexual harassment allegations rajkuma...</td>\n",
       "      <td>have known hirani for yrs what if metoo claims...</td>\n",
       "    </tr>\n",
       "  </tbody>\n",
       "</table>\n",
       "</div>"
      ],
      "text/plain": [
       "                                           headlines  \\\n",
       "0  upGrad learner switches to career in ML & Al w...   \n",
       "1  Delhi techie wins free food from Swiggy for on...   \n",
       "2  New Zealand end Rohit Sharma-led India's 12-ma...   \n",
       "3  Aegon life iTerm insurance plan helps customer...   \n",
       "4  Have known Hirani for yrs, what if MeToo claim...   \n",
       "\n",
       "                                                text  \\\n",
       "0  Saurav Kant, an alumnus of upGrad and IIIT-B's...   \n",
       "1  Kunal Shah's credit card bill payment platform...   \n",
       "2  New Zealand defeated India by 8 wickets in the...   \n",
       "3  With Aegon Life iTerm Insurance plan, customer...   \n",
       "4  Speaking about the sexual harassment allegatio...   \n",
       "\n",
       "                                       filtered_text  \\\n",
       "0  saurav kant alumnus upgrad iiit pg program mac...   \n",
       "1  kunal shah credit card bill payment platform c...   \n",
       "2  new zealand defeated india wickets fourth odi ...   \n",
       "3  aegon life iterm insurance plan customers enjo...   \n",
       "4  speaking sexual harassment allegations rajkuma...   \n",
       "\n",
       "                                  filtered_headlines  \n",
       "0  upgrad learner switches to career in ml al wit...  \n",
       "1  delhi techie wins free food from swiggy for on...  \n",
       "2  new zealand end rohit sharma led india match w...  \n",
       "3  aegon life iterm insurance plan helps customer...  \n",
       "4  have known hirani for yrs what if metoo claims...  "
      ]
     },
     "execution_count": 23,
     "metadata": {},
     "output_type": "execute_result"
    }
   ],
   "source": [
    "data.head()"
   ]
  },
  {
   "cell_type": "code",
   "execution_count": 24,
   "id": "f7c96bf7",
   "metadata": {},
   "outputs": [],
   "source": [
    "## 혹시 몰라서 저장!\n",
    "df = data.copy()"
   ]
  },
  {
   "cell_type": "code",
   "execution_count": 25,
   "id": "f1bd64ea",
   "metadata": {},
   "outputs": [
    {
     "name": "stdout",
     "output_type": "stream",
     "text": [
      "전체 샘플수 : 98360\n"
     ]
    }
   ],
   "source": [
    "## 전처리 후 결측값 확인\n",
    "data.replace('', np.nan)\n",
    "print('전체 샘플수 :', (len(data)))"
   ]
  },
  {
   "cell_type": "markdown",
   "id": "ac4e4727",
   "metadata": {},
   "source": [
    "### 길이에 따라 데이터 제거"
   ]
  },
  {
   "cell_type": "code",
   "execution_count": 26,
   "id": "7fa6c0f1",
   "metadata": {},
   "outputs": [
    {
     "name": "stdout",
     "output_type": "stream",
     "text": [
      "텍스트의 최소 길이 : 1\n",
      "텍스트의 최대 길이 : 60\n",
      "텍스트의 평균 길이 : 35.09968483123221\n",
      "headlines의 최소 길이 : 1\n",
      "headlines의 최대 길이 : 16\n",
      "headlines의 평균 길이 : 9.299532330215534\n"
     ]
    },
    {
     "data": {
      "image/png": "[encoded data removed]",
      "text/plain": [
       "<Figure size 432x288 with 2 Axes>"
      ]
     },
     "metadata": {
      "needs_background": "light"
     },
     "output_type": "display_data"
    },
    {
     "data": {
      "image/png": "[encoded data removed]",
      "text/plain": [
       "<Figure size 432x288 with 1 Axes>"
      ]
     },
     "metadata": {
      "needs_background": "light"
     },
     "output_type": "display_data"
    },
    {
     "data": {
      "image/png": "[encoded data removed]",
      "text/plain": [
       "<Figure size 432x288 with 1 Axes>"
      ]
     },
     "metadata": {
      "needs_background": "light"
     },
     "output_type": "display_data"
    }
   ],
   "source": [
    "## 길이 분포 출력\n",
    "text_len = [len(s.split()) for s in data['filtered_text']]\n",
    "headlines_len = [len(s.split()) for s in data['filtered_headlines']]\n",
    "\n",
    "print('텍스트의 최소 길이 : {}'.format(np.min(text_len)))\n",
    "print('텍스트의 최대 길이 : {}'.format(np.max(text_len)))\n",
    "print('텍스트의 평균 길이 : {}'.format(np.mean(text_len)))\n",
    "print('headlines의 최소 길이 : {}'.format(np.min(headlines_len)))\n",
    "print('headlines의 최대 길이 : {}'.format(np.max(headlines_len)))\n",
    "print('headlines의 평균 길이 : {}'.format(np.mean(headlines_len)))\n",
    "\n",
    "plt.subplot(1,2,1)\n",
    "plt.boxplot(text_len)\n",
    "plt.title('Text')\n",
    "plt.subplot(1,2,2)\n",
    "plt.boxplot(headlines_len)\n",
    "plt.title('Headlines')\n",
    "plt.tight_layout()\n",
    "plt.show()\n",
    "\n",
    "plt.title('Text')\n",
    "plt.hist(text_len, bins = 40)\n",
    "plt.xlabel('length of samples')\n",
    "plt.ylabel('number of samples')\n",
    "plt.show()\n",
    "\n",
    "plt.title('Headlines')\n",
    "plt.hist(headlines_len, bins = 40)\n",
    "plt.xlabel('length of samples')\n",
    "plt.ylabel('number of samples')\n",
    "plt.show()"
   ]
  },
  {
   "cell_type": "code",
   "execution_count": 27,
   "id": "bfacc825",
   "metadata": {},
   "outputs": [],
   "source": [
    "text_max_len = 40  ## 60\n",
    "headlines_max_len = 11  ## 16"
   ]
  },
  {
   "cell_type": "code",
   "execution_count": 28,
   "id": "1f6e2d7e",
   "metadata": {},
   "outputs": [],
   "source": [
    "def below_threshold_len(max_len, nested_list):\n",
    "    cnt = 0  \n",
    "    for s in nested_list:\n",
    "        if(len(s.split()) <= max_len):\n",
    "            cnt = cnt + 1\n",
    "    print('전체 샘플 중 길이가 %s 이하인 샘플의 비율: %s'%(max_len, (cnt / len(nested_list))))"
   ]
  },
  {
   "cell_type": "code",
   "execution_count": 29,
   "id": "f7247708",
   "metadata": {},
   "outputs": [
    {
     "name": "stdout",
     "output_type": "stream",
     "text": [
      "전체 샘플 중 길이가 40 이하인 샘플의 비율: 0.9238714924766165\n",
      "전체 샘플 중 길이가 11 이하인 샘플의 비율: 0.9449877999186661\n"
     ]
    }
   ],
   "source": [
    "below_threshold_len(text_max_len, data['filtered_text'])\n",
    "below_threshold_len(headlines_max_len,  data['filtered_headlines'])"
   ]
  },
  {
   "cell_type": "code",
   "execution_count": 30,
   "id": "370326cb",
   "metadata": {},
   "outputs": [],
   "source": [
    "filtered_data = data[\n",
    "    data.apply(lambda x: len(x['filtered_text'].split()) <= text_max_len and len(x['filtered_headlines'].split()) <= headlines_max_len, axis=1)\n",
    "][[\"filtered_text\", \"filtered_headlines\"]]"
   ]
  },
  {
   "cell_type": "code",
   "execution_count": 31,
   "id": "3ebaa24e",
   "metadata": {
    "scrolled": true
   },
   "outputs": [
    {
     "data": {
      "text/html": [
       "<div>\n",
       "<style scoped>\n",
       "    .dataframe tbody tr th:only-of-type {\n",
       "        vertical-align: middle;\n",
       "    }\n",
       "\n",
       "    .dataframe tbody tr th {\n",
       "        vertical-align: top;\n",
       "    }\n",
       "\n",
       "    .dataframe thead th {\n",
       "        text-align: right;\n",
       "    }\n",
       "</style>\n",
       "<table border=\"1\" class=\"dataframe\">\n",
       "  <thead>\n",
       "    <tr style=\"text-align: right;\">\n",
       "      <th></th>\n",
       "      <th>filtered_text</th>\n",
       "      <th>filtered_headlines</th>\n",
       "    </tr>\n",
       "  </thead>\n",
       "  <tbody>\n",
       "    <tr>\n",
       "      <th>0</th>\n",
       "      <td>saurav kant alumnus upgrad iiit pg program mac...</td>\n",
       "      <td>upgrad learner switches to career in ml al wit...</td>\n",
       "    </tr>\n",
       "    <tr>\n",
       "      <th>2</th>\n",
       "      <td>new zealand defeated india wickets fourth odi ...</td>\n",
       "      <td>new zealand end rohit sharma led india match w...</td>\n",
       "    </tr>\n",
       "    <tr>\n",
       "      <th>3</th>\n",
       "      <td>aegon life iterm insurance plan customers enjo...</td>\n",
       "      <td>aegon life iterm insurance plan helps customer...</td>\n",
       "    </tr>\n",
       "    <tr>\n",
       "      <th>5</th>\n",
       "      <td>pakistani singer rahat fateh ali khan denied r...</td>\n",
       "      <td>rahat fateh ali khan denies getting notice for...</td>\n",
       "    </tr>\n",
       "    <tr>\n",
       "      <th>7</th>\n",
       "      <td>weeks ex cbi director alok verma told departme...</td>\n",
       "      <td>govt directs alok verma to join work day befor...</td>\n",
       "    </tr>\n",
       "  </tbody>\n",
       "</table>\n",
       "</div>"
      ],
      "text/plain": [
       "                                       filtered_text  \\\n",
       "0  saurav kant alumnus upgrad iiit pg program mac...   \n",
       "2  new zealand defeated india wickets fourth odi ...   \n",
       "3  aegon life iterm insurance plan customers enjo...   \n",
       "5  pakistani singer rahat fateh ali khan denied r...   \n",
       "7  weeks ex cbi director alok verma told departme...   \n",
       "\n",
       "                                  filtered_headlines  \n",
       "0  upgrad learner switches to career in ml al wit...  \n",
       "2  new zealand end rohit sharma led india match w...  \n",
       "3  aegon life iterm insurance plan helps customer...  \n",
       "5  rahat fateh ali khan denies getting notice for...  \n",
       "7  govt directs alok verma to join work day befor...  "
      ]
     },
     "execution_count": 31,
     "metadata": {},
     "output_type": "execute_result"
    }
   ],
   "source": [
    "filtered_data.head()"
   ]
  },
  {
   "cell_type": "markdown",
   "id": "ed640cd8",
   "metadata": {},
   "source": [
    "### 시작 토큰과 종료 토큰 추가하기"
   ]
  },
  {
   "cell_type": "code",
   "execution_count": 32,
   "id": "7d2332db",
   "metadata": {},
   "outputs": [
    {
     "data": {
      "text/html": [
       "<div>\n",
       "<style scoped>\n",
       "    .dataframe tbody tr th:only-of-type {\n",
       "        vertical-align: middle;\n",
       "    }\n",
       "\n",
       "    .dataframe tbody tr th {\n",
       "        vertical-align: top;\n",
       "    }\n",
       "\n",
       "    .dataframe thead th {\n",
       "        text-align: right;\n",
       "    }\n",
       "</style>\n",
       "<table border=\"1\" class=\"dataframe\">\n",
       "  <thead>\n",
       "    <tr style=\"text-align: right;\">\n",
       "      <th></th>\n",
       "      <th>filtered_text</th>\n",
       "      <th>filtered_headlines</th>\n",
       "      <th>decoder_input</th>\n",
       "      <th>decoder_target</th>\n",
       "    </tr>\n",
       "  </thead>\n",
       "  <tbody>\n",
       "    <tr>\n",
       "      <th>0</th>\n",
       "      <td>saurav kant alumnus upgrad iiit pg program mac...</td>\n",
       "      <td>upgrad learner switches to career in ml al wit...</td>\n",
       "      <td>sostoken upgrad learner switches to career in ...</td>\n",
       "      <td>upgrad learner switches to career in ml al wit...</td>\n",
       "    </tr>\n",
       "    <tr>\n",
       "      <th>2</th>\n",
       "      <td>new zealand defeated india wickets fourth odi ...</td>\n",
       "      <td>new zealand end rohit sharma led india match w...</td>\n",
       "      <td>sostoken new zealand end rohit sharma led indi...</td>\n",
       "      <td>new zealand end rohit sharma led india match w...</td>\n",
       "    </tr>\n",
       "    <tr>\n",
       "      <th>3</th>\n",
       "      <td>aegon life iterm insurance plan customers enjo...</td>\n",
       "      <td>aegon life iterm insurance plan helps customer...</td>\n",
       "      <td>sostoken aegon life iterm insurance plan helps...</td>\n",
       "      <td>aegon life iterm insurance plan helps customer...</td>\n",
       "    </tr>\n",
       "    <tr>\n",
       "      <th>5</th>\n",
       "      <td>pakistani singer rahat fateh ali khan denied r...</td>\n",
       "      <td>rahat fateh ali khan denies getting notice for...</td>\n",
       "      <td>sostoken rahat fateh ali khan denies getting n...</td>\n",
       "      <td>rahat fateh ali khan denies getting notice for...</td>\n",
       "    </tr>\n",
       "    <tr>\n",
       "      <th>7</th>\n",
       "      <td>weeks ex cbi director alok verma told departme...</td>\n",
       "      <td>govt directs alok verma to join work day befor...</td>\n",
       "      <td>sostoken govt directs alok verma to join work ...</td>\n",
       "      <td>govt directs alok verma to join work day befor...</td>\n",
       "    </tr>\n",
       "  </tbody>\n",
       "</table>\n",
       "</div>"
      ],
      "text/plain": [
       "                                       filtered_text  \\\n",
       "0  saurav kant alumnus upgrad iiit pg program mac...   \n",
       "2  new zealand defeated india wickets fourth odi ...   \n",
       "3  aegon life iterm insurance plan customers enjo...   \n",
       "5  pakistani singer rahat fateh ali khan denied r...   \n",
       "7  weeks ex cbi director alok verma told departme...   \n",
       "\n",
       "                                  filtered_headlines  \\\n",
       "0  upgrad learner switches to career in ml al wit...   \n",
       "2  new zealand end rohit sharma led india match w...   \n",
       "3  aegon life iterm insurance plan helps customer...   \n",
       "5  rahat fateh ali khan denies getting notice for...   \n",
       "7  govt directs alok verma to join work day befor...   \n",
       "\n",
       "                                       decoder_input  \\\n",
       "0  sostoken upgrad learner switches to career in ...   \n",
       "2  sostoken new zealand end rohit sharma led indi...   \n",
       "3  sostoken aegon life iterm insurance plan helps...   \n",
       "5  sostoken rahat fateh ali khan denies getting n...   \n",
       "7  sostoken govt directs alok verma to join work ...   \n",
       "\n",
       "                                      decoder_target  \n",
       "0  upgrad learner switches to career in ml al wit...  \n",
       "2  new zealand end rohit sharma led india match w...  \n",
       "3  aegon life iterm insurance plan helps customer...  \n",
       "5  rahat fateh ali khan denies getting notice for...  \n",
       "7  govt directs alok verma to join work day befor...  "
      ]
     },
     "execution_count": 32,
     "metadata": {},
     "output_type": "execute_result"
    }
   ],
   "source": [
    "# 요약 데이터에는 시작 토큰과 종료 토큰을 추가한다.\n",
    "filtered_data['decoder_input'] = filtered_data['filtered_headlines'].apply(lambda x : 'sostoken '+ x)\n",
    "filtered_data['decoder_target'] = filtered_data['filtered_headlines'].apply(lambda x : x + ' eostoken')\n",
    "filtered_data.head()"
   ]
  },
  {
   "cell_type": "code",
   "execution_count": 33,
   "id": "7f8d9ee9",
   "metadata": {},
   "outputs": [],
   "source": [
    "##  Numpy 타입으로 저장\n",
    "encoder_input = np.array(filtered_data['filtered_text']) # 인코더의 입력\n",
    "decoder_input = np.array(filtered_data['decoder_input']) # 디코더의 입력\n",
    "decoder_target = np.array(filtered_data['decoder_target']) # 디코더의 레이블"
   ]
  },
  {
   "cell_type": "markdown",
   "id": "815de638",
   "metadata": {},
   "source": [
    "### 훈련데이터와 테스트 데이터 분리하기"
   ]
  },
  {
   "cell_type": "code",
   "execution_count": 34,
   "id": "01aebc03",
   "metadata": {},
   "outputs": [
    {
     "name": "stdout",
     "output_type": "stream",
     "text": [
      "훈련 데이터의 개수 : 68675\n",
      "훈련 레이블의 개수 : 68675\n",
      "테스트 데이터의 개수 : 17168\n",
      "테스트 레이블의 개수 : 17168\n"
     ]
    }
   ],
   "source": [
    "indices = np.arange(encoder_input.shape[0])\n",
    "np.random.shuffle(indices)\n",
    "## 섞기\n",
    "encoder_input = encoder_input[indices]\n",
    "decoder_input = decoder_input[indices]\n",
    "decoder_target = decoder_target[indices]\n",
    "\n",
    "## 분리하기\n",
    "n_of_val = int(len(encoder_input)*0.2)\n",
    "\n",
    "encoder_input_train = encoder_input[:-n_of_val]\n",
    "decoder_input_train = decoder_input[:-n_of_val]\n",
    "decoder_target_train = decoder_target[:-n_of_val]\n",
    "\n",
    "encoder_input_test = encoder_input[-n_of_val:]\n",
    "decoder_input_test = decoder_input[-n_of_val:]\n",
    "decoder_target_test = decoder_target[-n_of_val:]\n",
    "\n",
    "print('훈련 데이터의 개수 :', len(encoder_input_train))\n",
    "print('훈련 레이블의 개수 :', len(decoder_input_train))\n",
    "print('테스트 데이터의 개수 :', len(encoder_input_test))\n",
    "print('테스트 레이블의 개수 :', len(decoder_input_test))"
   ]
  },
  {
   "cell_type": "markdown",
   "id": "2797b96e",
   "metadata": {},
   "source": [
    "### 단어 집합(vocabulary) 만들기 및 정수 인코딩"
   ]
  },
  {
   "cell_type": "code",
   "execution_count": 35,
   "id": "e663e730",
   "metadata": {},
   "outputs": [],
   "source": [
    "src_tokenizer = Tokenizer() # 토크나이저 정의\n",
    "src_tokenizer.fit_on_texts(encoder_input_train) # 입력된 데이터로부터 단어 집합 생성"
   ]
  },
  {
   "cell_type": "code",
   "execution_count": 36,
   "id": "955f0f38",
   "metadata": {},
   "outputs": [
    {
     "name": "stdout",
     "output_type": "stream",
     "text": [
      "단어 집합(vocabulary)의 크기 : 64669\n",
      "등장 빈도가 6번 이하인 희귀 단어의 수: 44156\n",
      "단어 집합에서 희귀 단어를 제외시킬 경우의 단어 집합의 크기 20513\n",
      "단어 집합에서 희귀 단어의 비율: 68.28001051508451\n",
      "전체 등장 빈도에서 희귀 단어 등장 빈도 비율: 3.7899504304194256\n"
     ]
    }
   ],
   "source": [
    "threshold = 7\n",
    "total_cnt = len(src_tokenizer.word_index) # 단어의 수\n",
    "rare_cnt = 0 # 등장 빈도수가 threshold보다 작은 단어의 개수를 카운트\n",
    "total_freq = 0 # 훈련 데이터의 전체 단어 빈도수 총 합\n",
    "rare_freq = 0 # 등장 빈도수가 threshold보다 작은 단어의 등장 빈도수의 총 합\n",
    "\n",
    "# 단어와 빈도수의 쌍(pair)을 key와 value로 받는다.\n",
    "for key, value in src_tokenizer.word_counts.items():\n",
    "    total_freq = total_freq + value\n",
    "\n",
    "    # 단어의 등장 빈도수가 threshold보다 작으면\n",
    "    if(value < threshold):\n",
    "        rare_cnt = rare_cnt + 1\n",
    "        rare_freq = rare_freq + value\n",
    "\n",
    "print('단어 집합(vocabulary)의 크기 :', total_cnt)\n",
    "print('등장 빈도가 %s번 이하인 희귀 단어의 수: %s'%(threshold - 1, rare_cnt))\n",
    "print('단어 집합에서 희귀 단어를 제외시킬 경우의 단어 집합의 크기 %s'%(total_cnt - rare_cnt))\n",
    "print(\"단어 집합에서 희귀 단어의 비율:\", (rare_cnt / total_cnt)*100)\n",
    "print(\"전체 등장 빈도에서 희귀 단어 등장 빈도 비율:\", (rare_freq / total_freq)*100)"
   ]
  },
  {
   "cell_type": "code",
   "execution_count": 37,
   "id": "681d0a82",
   "metadata": {},
   "outputs": [],
   "source": [
    "src_vocab = 10000\n",
    "src_tokenizer = Tokenizer(num_words=src_vocab) # 단어 집합의 크기를 8,000으로 제한\n",
    "src_tokenizer.fit_on_texts(encoder_input_train) # 단어 집합 재생성"
   ]
  },
  {
   "cell_type": "code",
   "execution_count": 38,
   "id": "9bd00096",
   "metadata": {},
   "outputs": [],
   "source": [
    "# 텍스트 시퀀스를 정수 시퀀스로 변환\n",
    "encoder_input_train = src_tokenizer.texts_to_sequences(encoder_input_train) \n",
    "encoder_input_test = src_tokenizer.texts_to_sequences(encoder_input_test)"
   ]
  },
  {
   "cell_type": "code",
   "execution_count": 39,
   "id": "c01c91e5",
   "metadata": {},
   "outputs": [],
   "source": [
    "tar_tokenizer = Tokenizer()\n",
    "tar_tokenizer.fit_on_texts(decoder_input_train)"
   ]
  },
  {
   "cell_type": "code",
   "execution_count": 40,
   "id": "7f989644",
   "metadata": {},
   "outputs": [
    {
     "name": "stdout",
     "output_type": "stream",
     "text": [
      "단어 집합(vocabulary)의 크기 : 28435\n",
      "등장 빈도가 5번 이하인 희귀 단어의 수: 18696\n",
      "단어 집합에서 희귀 단어를 제외시킬 경우의 단어 집합의 크기 9739\n",
      "단어 집합에서 희귀 단어의 비율: 65.74995604009143\n",
      "전체 등장 빈도에서 희귀 단어 등장 빈도 비율: 5.159438793849622\n"
     ]
    }
   ],
   "source": [
    "threshold = 6\n",
    "total_cnt = len(tar_tokenizer.word_index) # 단어의 수\n",
    "rare_cnt = 0 # 등장 빈도수가 threshold보다 작은 단어의 개수를 카운트\n",
    "total_freq = 0 # 훈련 데이터의 전체 단어 빈도수 총 합\n",
    "rare_freq = 0 # 등장 빈도수가 threshold보다 작은 단어의 등장 빈도수의 총 합\n",
    "\n",
    "# 단어와 빈도수의 쌍(pair)을 key와 value로 받는다.\n",
    "for key, value in tar_tokenizer.word_counts.items():\n",
    "    total_freq = total_freq + value\n",
    "\n",
    "    # 단어의 등장 빈도수가 threshold보다 작으면\n",
    "    if(value < threshold):\n",
    "        rare_cnt = rare_cnt + 1\n",
    "        rare_freq = rare_freq + value\n",
    "\n",
    "print('단어 집합(vocabulary)의 크기 :', total_cnt)\n",
    "print('등장 빈도가 %s번 이하인 희귀 단어의 수: %s'%(threshold - 1, rare_cnt))\n",
    "print('단어 집합에서 희귀 단어를 제외시킬 경우의 단어 집합의 크기 %s'%(total_cnt - rare_cnt))\n",
    "print(\"단어 집합에서 희귀 단어의 비율:\", (rare_cnt / total_cnt)*100)\n",
    "print(\"전체 등장 빈도에서 희귀 단어 등장 빈도 비율:\", (rare_freq / total_freq)*100)"
   ]
  },
  {
   "cell_type": "code",
   "execution_count": 41,
   "id": "0c41f958",
   "metadata": {},
   "outputs": [
    {
     "name": "stdout",
     "output_type": "stream",
     "text": [
      "input\n",
      "input  [[1, 125, 5637, 3422, 426, 5931, 3, 3049, 5, 24], [1, 4970, 3145, 44, 556, 14], [1, 3987, 74, 5, 103, 688, 4, 394], [1, 15, 886, 194, 4, 561, 571], [1, 250, 433, 613, 504, 3, 1822, 217, 2914, 3050]]\n",
      "target\n",
      "decoder  [[125, 5637, 3422, 426, 5931, 3, 3049, 5, 24, 2], [4970, 3145, 44, 556, 14, 2], [3987, 74, 5, 103, 688, 4, 394, 2], [15, 886, 194, 4, 561, 571, 2], [250, 433, 613, 504, 3, 1822, 217, 2914, 3050, 2]]\n"
     ]
    }
   ],
   "source": [
    "tar_vocab = 6000\n",
    "tar_tokenizer = Tokenizer(num_words=tar_vocab) \n",
    "tar_tokenizer.fit_on_texts(decoder_input_train)\n",
    "tar_tokenizer.fit_on_texts(decoder_target_train)\n",
    "\n",
    "# 텍스트 시퀀스를 정수 시퀀스로 변환\n",
    "decoder_input_train = tar_tokenizer.texts_to_sequences(decoder_input_train) \n",
    "decoder_target_train = tar_tokenizer.texts_to_sequences(decoder_target_train)\n",
    "decoder_input_test = tar_tokenizer.texts_to_sequences(decoder_input_test)\n",
    "decoder_target_test = tar_tokenizer.texts_to_sequences(decoder_target_test)\n",
    "\n",
    "# 잘 변환되었는지 확인\n",
    "print('input')\n",
    "print('input ',decoder_input_train[:5])\n",
    "print('target')\n",
    "print('decoder ',decoder_target_train[:5])"
   ]
  },
  {
   "cell_type": "code",
   "execution_count": 42,
   "id": "e1acd392",
   "metadata": {},
   "outputs": [
    {
     "name": "stdout",
     "output_type": "stream",
     "text": [
      "삭제할 훈련 데이터의 개수 : 1\n",
      "삭제할 테스트 데이터의 개수 : 0\n",
      "훈련 데이터의 개수 : 68674\n",
      "훈련 레이블의 개수 : 68674\n",
      "테스트 데이터의 개수 : 17168\n",
      "테스트 레이블의 개수 : 17168\n"
     ]
    }
   ],
   "source": [
    "drop_train = [index for index, sentence in enumerate(decoder_input_train) if len(sentence) == 1]\n",
    "drop_test = [index for index, sentence in enumerate(decoder_input_test) if len(sentence) == 1]\n",
    "\n",
    "print('삭제할 훈련 데이터의 개수 :', len(drop_train))\n",
    "print('삭제할 테스트 데이터의 개수 :', len(drop_test))\n",
    "\n",
    "encoder_input_train = [sentence for index, sentence in enumerate(encoder_input_train) if index not in drop_train]\n",
    "decoder_input_train = [sentence for index, sentence in enumerate(decoder_input_train) if index not in drop_train]\n",
    "decoder_target_train = [sentence for index, sentence in enumerate(decoder_target_train) if index not in drop_train]\n",
    "\n",
    "encoder_input_test = [sentence for index, sentence in enumerate(encoder_input_test) if index not in drop_test]\n",
    "decoder_input_test = [sentence for index, sentence in enumerate(decoder_input_test) if index not in drop_test]\n",
    "decoder_target_test = [sentence for index, sentence in enumerate(decoder_target_test) if index not in drop_test]\n",
    "\n",
    "print('훈련 데이터의 개수 :', len(encoder_input_train))\n",
    "print('훈련 레이블의 개수 :', len(decoder_input_train))\n",
    "print('테스트 데이터의 개수 :', len(encoder_input_test))\n",
    "print('테스트 레이블의 개수 :', len(decoder_input_test))"
   ]
  },
  {
   "cell_type": "markdown",
   "id": "a807afed",
   "metadata": {},
   "source": [
    "#### padding의 경우 pre로 설정한다! 어제 경험으로,, "
   ]
  },
  {
   "cell_type": "code",
   "execution_count": 58,
   "id": "65b93fe3",
   "metadata": {},
   "outputs": [],
   "source": [
    "encoder_input_train = pad_sequences(encoder_input_train, maxlen=text_max_len, padding='pre')\n",
    "encoder_input_test = pad_sequences(encoder_input_test, maxlen=text_max_len, padding='pre')\n",
    "\n",
    "decoder_input_train = pad_sequences(decoder_input_train, maxlen=headlines_max_len, padding='pre')\n",
    "decoder_target_train = pad_sequences(decoder_target_train, maxlen=headlines_max_len, padding='pre')\n",
    "\n",
    "decoder_input_test = pad_sequences(decoder_input_test, maxlen=headlines_max_len, padding='pre')\n",
    "decoder_target_test = pad_sequences(decoder_target_test, maxlen=headlines_max_len, padding='pre')"
   ]
  },
  {
   "cell_type": "markdown",
   "id": "61ce1023",
   "metadata": {},
   "source": [
    "## 3. 어텐션 메커니즘 사용하기 (추상적 요약)"
   ]
  },
  {
   "cell_type": "markdown",
   "id": "6400566c",
   "metadata": {},
   "source": [
    "### 학습 모델 설계하기 "
   ]
  },
  {
   "cell_type": "code",
   "execution_count": 59,
   "id": "42f8e70e",
   "metadata": {},
   "outputs": [
    {
     "name": "stdout",
     "output_type": "stream",
     "text": [
      "Model: \"model_3\"\n",
      "__________________________________________________________________________________________________\n",
      "Layer (type)                    Output Shape         Param #     Connected to                     \n",
      "==================================================================================================\n",
      "input_6 (InputLayer)            [(None, 40)]         0                                            \n",
      "__________________________________________________________________________________________________\n",
      "embedding_2 (Embedding)         (None, 40, 128)      1280000     input_6[0][0]                    \n",
      "__________________________________________________________________________________________________\n",
      "lstm_4 (LSTM)                   [(None, 40, 256), (N 394240      embedding_2[0][0]                \n",
      "__________________________________________________________________________________________________\n",
      "input_7 (InputLayer)            [(None, None)]       0                                            \n",
      "__________________________________________________________________________________________________\n",
      "lstm_5 (LSTM)                   [(None, 40, 256), (N 525312      lstm_4[0][0]                     \n",
      "__________________________________________________________________________________________________\n",
      "embedding_3 (Embedding)         (None, None, 128)    768000      input_7[0][0]                    \n",
      "__________________________________________________________________________________________________\n",
      "lstm_6 (LSTM)                   [(None, 40, 256), (N 525312      lstm_5[0][0]                     \n",
      "__________________________________________________________________________________________________\n",
      "lstm_7 (LSTM)                   [(None, None, 256),  394240      embedding_3[0][0]                \n",
      "                                                                 lstm_6[0][1]                     \n",
      "                                                                 lstm_6[0][2]                     \n",
      "__________________________________________________________________________________________________\n",
      "attention_layer (AdditiveAttent (None, None, 256)    256         lstm_7[0][0]                     \n",
      "                                                                 lstm_6[0][0]                     \n",
      "__________________________________________________________________________________________________\n",
      "concat_layer (Concatenate)      (None, None, 512)    0           lstm_7[0][0]                     \n",
      "                                                                 attention_layer[0][0]            \n",
      "__________________________________________________________________________________________________\n",
      "dense_1 (Dense)                 (None, None, 6000)   3078000     concat_layer[0][0]               \n",
      "==================================================================================================\n",
      "Total params: 6,965,360\n",
      "Trainable params: 6,965,360\n",
      "Non-trainable params: 0\n",
      "__________________________________________________________________________________________________\n"
     ]
    }
   ],
   "source": [
    "from tensorflow.keras.layers import Input, LSTM, Embedding, Dense, Concatenate, TimeDistributed, AdditiveAttention\n",
    "from tensorflow.keras.models import Model\n",
    "from tensorflow.keras.callbacks import EarlyStopping, ModelCheckpoint\n",
    "\n",
    "##### 훈련 모델 설계 시작 #####\n",
    "embedding_dim = 128\n",
    "hidden_size = 256\n",
    "\n",
    "##### 인코더 설계 시작 #####\n",
    "# 인코더 설계 시작\n",
    "embedding_dim = 128\n",
    "hidden_size = 256\n",
    "\n",
    "# 인코더\n",
    "encoder_inputs = Input(shape=(text_max_len,))\n",
    "\n",
    "# 인코더의 임베딩 층\n",
    "enc_emb = Embedding(src_vocab, embedding_dim)(encoder_inputs)\n",
    "\n",
    "# 인코더의 LSTM 1\n",
    "encoder_lstm1 = LSTM(hidden_size, return_sequences=True, return_state=True, dropout=0.4)\n",
    "encoder_output1, state_h1, state_c1 = encoder_lstm1(enc_emb)\n",
    "\n",
    "# encoder_output1, state_h1, state_c1 = LSTM(\n",
    "#     hidden_size, \n",
    "#     return_sequences=True, \n",
    "#     return_state=True ,\n",
    "#     dropout = 0.4)(enc_emb)\n",
    "\n",
    "# 인코더의 LSTM 2\n",
    "encoder_lstm2 = LSTM(hidden_size, return_sequences=True, return_state=True ,dropout = 0.4)\n",
    "encoder_output2, state_h2, state_c2 = encoder_lstm2(\n",
    "    encoder_output1, \n",
    "#     initial_state=[state_h1, state_c1]  \n",
    "    ## 이전 LSTM의 값들을 그대로 가져와서 쓴다.  \n",
    "    ## 병렬적 특징 학습  \n",
    ")\n",
    "\n",
    "# 인코더의 LSTM 3\n",
    "encoder_lstm3 = LSTM(hidden_size, return_sequences=True, return_state=True ,dropout = 0.4)\n",
    "encoder_outputs, state_h, state_c = encoder_lstm3(encoder_output2)\n",
    "\n",
    "##### 디코더 설계 시작 #####\n",
    "# 디코더 설계\n",
    "decoder_inputs = Input(shape=(None,))\n",
    "\n",
    "# 디코더의 임베딩 층\n",
    "dec_emb_layer = Embedding(tar_vocab, embedding_dim)\n",
    "dec_emb = dec_emb_layer(decoder_inputs)\n",
    "\n",
    "# 디코더의 LSTM\n",
    "decoder_lstm = LSTM(hidden_size, return_sequences=True, return_state=True, dropout=0.4)\n",
    "decoder_outputs, _, _ = decoder_lstm(dec_emb, initial_state=[state_h, state_c])\n",
    "\n",
    "# 어텐션 층(어텐션 함수)\n",
    "attn_layer = AdditiveAttention(name='attention_layer')\n",
    "\n",
    "# 인코더와 디코더의 모든 time step의 hidden state를 어텐션 층에 전달하고 결과를 리턴\n",
    "attn_out = attn_layer([decoder_outputs, encoder_outputs])\n",
    "\n",
    "# 어텐션의 결과와 디코더의 hidden state들을 연결\n",
    "decoder_concat_input = Concatenate(axis=-1, name='concat_layer')([decoder_outputs, attn_out])\n",
    "\n",
    "# 디코더의 출력층\n",
    "decoder_softmax_layer = Dense(tar_vocab, activation='softmax')\n",
    "decoder_softmax_outputs = decoder_softmax_layer(decoder_concat_input)\n",
    "\n",
    "# 모델 정의\n",
    "model = Model([encoder_inputs, decoder_inputs], decoder_softmax_outputs)\n",
    "model.summary()"
   ]
  },
  {
   "cell_type": "markdown",
   "id": "cb2e256b",
   "metadata": {},
   "source": [
    "### 학습 모델 훈련하기"
   ]
  },
  {
   "cell_type": "code",
   "execution_count": 60,
   "id": "70843d9e",
   "metadata": {
    "scrolled": false
   },
   "outputs": [
    {
     "name": "stdout",
     "output_type": "stream",
     "text": [
      "Epoch 1/50\n",
      "269/269 [==============================] - 27s 79ms/step - loss: 5.5488 - val_loss: 5.1831\n",
      "Epoch 2/50\n",
      "269/269 [==============================] - 20s 75ms/step - loss: 4.9905 - val_loss: 4.7794\n",
      "Epoch 3/50\n",
      "269/269 [==============================] - 21s 77ms/step - loss: 4.6520 - val_loss: 4.5353\n",
      "Epoch 4/50\n",
      "269/269 [==============================] - 21s 77ms/step - loss: 4.3864 - val_loss: 4.3415\n",
      "Epoch 5/50\n",
      "269/269 [==============================] - 21s 77ms/step - loss: 4.1708 - val_loss: 4.1943\n",
      "Epoch 6/50\n",
      "269/269 [==============================] - 21s 77ms/step - loss: 3.9983 - val_loss: 4.0675\n",
      "Epoch 7/50\n",
      "269/269 [==============================] - 21s 77ms/step - loss: 3.8519 - val_loss: 3.9846\n",
      "Epoch 8/50\n",
      "269/269 [==============================] - 21s 77ms/step - loss: 3.7242 - val_loss: 3.9163\n",
      "Epoch 9/50\n",
      "269/269 [==============================] - 21s 77ms/step - loss: 3.6087 - val_loss: 3.8506\n",
      "Epoch 10/50\n",
      "269/269 [==============================] - 21s 77ms/step - loss: 3.5058 - val_loss: 3.8030\n",
      "Epoch 11/50\n",
      "269/269 [==============================] - 21s 77ms/step - loss: 3.4126 - val_loss: 3.7650\n",
      "Epoch 12/50\n",
      "269/269 [==============================] - 21s 77ms/step - loss: 3.3277 - val_loss: 3.7317\n",
      "Epoch 13/50\n",
      "269/269 [==============================] - 21s 77ms/step - loss: 3.2500 - val_loss: 3.6969\n",
      "Epoch 14/50\n",
      "269/269 [==============================] - 21s 77ms/step - loss: 3.1781 - val_loss: 3.6818\n",
      "Epoch 15/50\n",
      "269/269 [==============================] - 21s 77ms/step - loss: 3.1123 - val_loss: 3.6569\n",
      "Epoch 16/50\n",
      "269/269 [==============================] - 21s 77ms/step - loss: 3.0505 - val_loss: 3.6465\n",
      "Epoch 17/50\n",
      "269/269 [==============================] - 21s 77ms/step - loss: 2.9920 - val_loss: 3.6381\n",
      "Epoch 18/50\n",
      "269/269 [==============================] - 21s 77ms/step - loss: 2.9374 - val_loss: 3.6261\n",
      "Epoch 19/50\n",
      "269/269 [==============================] - 21s 77ms/step - loss: 2.8860 - val_loss: 3.6146\n",
      "Epoch 20/50\n",
      "269/269 [==============================] - 21s 77ms/step - loss: 2.8383 - val_loss: 3.6080\n",
      "Epoch 21/50\n",
      "269/269 [==============================] - 21s 77ms/step - loss: 2.7922 - val_loss: 3.6074\n",
      "Epoch 22/50\n",
      "269/269 [==============================] - 21s 77ms/step - loss: 2.7496 - val_loss: 3.6033\n",
      "Epoch 23/50\n",
      "269/269 [==============================] - 21s 77ms/step - loss: 2.7085 - val_loss: 3.6058\n",
      "Epoch 24/50\n",
      "269/269 [==============================] - 21s 77ms/step - loss: 2.6701 - val_loss: 3.6046\n",
      "Epoch 00024: early stopping\n"
     ]
    }
   ],
   "source": [
    "model.compile(optimizer='rmsprop', loss='sparse_categorical_crossentropy')\n",
    "es = EarlyStopping(monitor='val_loss', patience=2, verbose=1)\n",
    "history = model.fit(x=[encoder_input_train, decoder_input_train], y=decoder_target_train, \\\n",
    "          validation_data=([encoder_input_test, decoder_input_test], decoder_target_test), \\\n",
    "          batch_size=256, callbacks=[es], epochs=50)"
   ]
  },
  {
   "cell_type": "markdown",
   "id": "ceb4c940",
   "metadata": {},
   "source": [
    "epoch 24에서 조기 종료되었다. \n",
    "loss의 경우 3.6 정도로 떨어졌다. "
   ]
  },
  {
   "cell_type": "markdown",
   "id": "2af146f4",
   "metadata": {},
   "source": [
    "### 학습 모델 훈련 결과 보기"
   ]
  },
  {
   "cell_type": "code",
   "execution_count": 67,
   "id": "d38927a7",
   "metadata": {},
   "outputs": [
    {
     "data": {
      "image/png": "[encoded data removed]",
      "text/plain": [
       "<Figure size 432x288 with 1 Axes>"
      ]
     },
     "metadata": {
      "needs_background": "light"
     },
     "output_type": "display_data"
    }
   ],
   "source": [
    "plt.plot(history.history['loss'], label='train')\n",
    "plt.plot(history.history['val_loss'], label='test')\n",
    "plt.legend()\n",
    "plt.show()"
   ]
  },
  {
   "cell_type": "markdown",
   "id": "d26c4481",
   "metadata": {},
   "source": [
    "훈련은 충분히 되었다고 보자."
   ]
  },
  {
   "cell_type": "markdown",
   "id": "7b9bda77",
   "metadata": {},
   "source": [
    "### 추론 모델 설계하기"
   ]
  },
  {
   "cell_type": "code",
   "execution_count": 68,
   "id": "c0803af3",
   "metadata": {},
   "outputs": [],
   "source": [
    "src_index_to_word = src_tokenizer.index_word # 원문 단어 집합에서 정수 -> 단어를 얻음\n",
    "tar_word_to_index = tar_tokenizer.word_index # 요약 단어 집합에서 단어 -> 정수를 얻음\n",
    "tar_index_to_word = tar_tokenizer.index_word # 요약 단어 집합에서 정수 -> 단어를 얻음"
   ]
  },
  {
   "cell_type": "code",
   "execution_count": 69,
   "id": "99ab8a34",
   "metadata": {},
   "outputs": [],
   "source": [
    "##### 추론 모델 설계 시작 #####\n",
    "# 학습 모델에서 사용한 층을 그대로 가져와야한다!\n",
    "##### 인코더 설계 시작 #####\n",
    "# 인코더 설계\n",
    "encoder_model = Model(\n",
    "    inputs=encoder_inputs, \n",
    "    outputs=[encoder_outputs, state_h, state_c]\n",
    ")\n",
    "\n",
    "# 이전 시점의 상태들을 저장하는 텐서\n",
    "decoder_state_input_h = Input(shape=(hidden_size,))\n",
    "decoder_state_input_c = Input(shape=(hidden_size,))\n",
    "\n",
    "dec_emb2 = dec_emb_layer(decoder_inputs)\n",
    "\n",
    "# 문장의 다음 단어를 예측하기 위해서 초기 상태(initial_state)를 이전 시점의 상태로 사용. 이는 뒤의 함수 decode_sequence()에 구현\n",
    "# 훈련 과정에서와 달리 LSTM의 리턴하는 은닉 상태와 셀 상태인 state_h와 state_c를 버리지 않음.\n",
    "decoder_outputs2, state_h2, state_c2 = decoder_lstm(\n",
    "    dec_emb2, \n",
    "    initial_state=[decoder_state_input_h, decoder_state_input_c]\n",
    ")\n",
    "\n",
    "# 어텐션 함수\n",
    "decoder_hidden_state_input = Input(shape=(text_max_len, hidden_size))\n",
    "attn_out_inf = attn_layer(\n",
    "    [decoder_outputs2, \n",
    "     decoder_hidden_state_input]\n",
    ")\n",
    "decoder_inf_concat = Concatenate(axis=-1, name='concat')([decoder_outputs2, attn_out_inf])\n",
    "\n",
    "# 디코더의 출력층\n",
    "decoder_outputs2 = decoder_softmax_layer(decoder_inf_concat) \n",
    "\n",
    "# 최종 디코더 모델\n",
    "decoder_model = Model(\n",
    "    [decoder_inputs] + [decoder_hidden_state_input,\n",
    "                        decoder_state_input_h, \n",
    "                        decoder_state_input_c],\n",
    "    [decoder_outputs2] + [state_h2, state_c2])"
   ]
  },
  {
   "cell_type": "code",
   "execution_count": 70,
   "id": "cdfcf42e",
   "metadata": {},
   "outputs": [],
   "source": [
    "def decode_sequence(input_seq):\n",
    "    # 입력으로부터 인코더의 상태를 얻음\n",
    "    e_out, e_h, e_c = encoder_model.predict(input_seq)\n",
    "\n",
    "     # <SOS>에 해당하는 토큰 생성\n",
    "    target_seq = np.zeros((1,1))\n",
    "    target_seq[0, 0] = tar_word_to_index['sostoken']\n",
    "\n",
    "    stop_condition = False\n",
    "    decoded_sentence = ''\n",
    "    while not stop_condition: # stop_condition이 True가 될 때까지 루프 반복\n",
    "\n",
    "        output_tokens, h, c = decoder_model.predict([target_seq] + [e_out, e_h, e_c])\n",
    "        sampled_token_index = np.argmax(output_tokens[0, -1, :])\n",
    "        sampled_token = tar_index_to_word[sampled_token_index]\n",
    "\n",
    "        if (sampled_token!='eostoken'):\n",
    "            decoded_sentence += ' '+sampled_token\n",
    "\n",
    "        #  <eos>에 도달하거나 최대 길이를 넘으면 중단.\n",
    "        if (sampled_token == 'eostoken'  or len(decoded_sentence.split()) >= (headlines_max_len-1)):\n",
    "            stop_condition = True\n",
    "\n",
    "        # 길이가 1인 타겟 시퀀스를 업데이트\n",
    "        target_seq = np.zeros((1,1))\n",
    "        target_seq[0, 0] = sampled_token_index\n",
    "\n",
    "        # 상태를 업데이트 합니다.\n",
    "        e_h, e_c = h, c\n",
    "\n",
    "    return decoded_sentence"
   ]
  },
  {
   "cell_type": "markdown",
   "id": "d56de730",
   "metadata": {},
   "source": [
    "## 4. 실제 결과와 요약문 비교하기 (추상적 요약)"
   ]
  },
  {
   "cell_type": "code",
   "execution_count": 71,
   "id": "f0e1716a",
   "metadata": {},
   "outputs": [],
   "source": [
    "# 원문의 정수 시퀀스를 텍스트 시퀀스로 변환\n",
    "def seq2text(input_seq):\n",
    "    temp=''\n",
    "    for i in input_seq:\n",
    "        if (i!=0):\n",
    "            temp = temp + src_index_to_word[i]+' '\n",
    "    return temp\n",
    "\n",
    "# 요약문의 정수 시퀀스를 텍스트 시퀀스로 변환\n",
    "def seq2headlines(input_seq):\n",
    "    temp=''\n",
    "    for i in input_seq:\n",
    "        if i not in [0, 1, 2]:    ## key error : if (i!=0) and (i!=1) 에서 변경       \n",
    "            temp = temp + tar_index_to_word[i]+' '\n",
    "    return temp"
   ]
  },
  {
   "cell_type": "code",
   "execution_count": 72,
   "id": "795b8a03",
   "metadata": {
    "scrolled": true
   },
   "outputs": [
    {
     "name": "stdout",
     "output_type": "stream",
     "text": [
      "원문 : two year old toddler allegedly kidnapped woman playing outside house year old sister gurugram tuesday morning woman took toddler home lying sister someone calling inside house meanwhile police rescued toddler within five hours arrested woman \n",
      "실제 요약 : yr old kidnapped by woman in gurugram rescued within hrs \n",
      "예측 요약 :  yr old woman raped by friend uncle in mumbai\n",
      "\n",
      "\n",
      "원문 : singer ed sheeran kissed british comedian greg lips charity show rob appeared stage following sheeran live performance said rules demand sheeran kiss tallest host night greg came stage kissed sheeran \n",
      "실제 요약 : ed sheeran british comedian during charity show \n",
      "예측 요약 :  ed sheeran to be auctioned for\n",
      "\n",
      "\n",
      "원문 : hollywood actress revealed oscar nominated writer director james invited hotel room workshop said times thinking since met added asked far willing go actress women accused sexual harassment \n",
      "실제 요약 : once told me he thinking of me \n",
      "예측 요약 :  was not in the best time actress\n",
      "\n",
      "\n",
      "원문 : indian rounder hardik pandya posted photo instagram recalling day made test debut india july pandya post caption read last year test debut sri lanka england memorable experience far pandya scored runs tests far \n",
      "실제 요약 : experience pandya on yr in test cricket \n",
      "예측 요약 :  pandya will not take test on the day hardik pandya\n",
      "\n",
      "\n",
      "원문 : australian senator isis work wearing country parliament part campaign ban public national security reasons senator sarah young said adding everyone knew young warned next attack australia head \n",
      "실제 요약 : senator did isis work by wearing aus \n",
      "예측 요약 :  french citizenship wears for immigrants\n",
      "\n",
      "\n"
     ]
    }
   ],
   "source": [
    "for i in range(10, 15):\n",
    "    print(\"원문 :\", seq2text(encoder_input_test[i]))\n",
    "    print(\"실제 요약 :\", seq2headlines(decoder_input_test[i]))\n",
    "    print(\"예측 요약 :\", decode_sequence(encoder_input_test[i].reshape(1, text_max_len)))\n",
    "    print(\"\\n\")"
   ]
  },
  {
   "cell_type": "markdown",
   "id": "c59b12bb",
   "metadata": {},
   "source": [
    "#### 에러 사항 해결\n",
    "```\n",
    "원문 : delhi chief minister arvind kejriwal tuesday said pm narendra modi led government fall begun kejriwal comment came assembly election results showed bjp trailing five states according latest trends counting votes assembly elections madhya pradesh close contest bjp congress \n",
    "실제 요약 : sostoken of pm modi government fall has kejriwal \n",
    "예측 요약 :  cook cook cook cook cook cook cook cook cook cook cook\n",
    "\n",
    "\n",
    "원문 : model turned actor pandya said get worked referred actress deepika padukone ex boyfriend much right added making acting debut upcoming kangana ranaut starrer manikarnika queen jhansi \n",
    "실제 요약 : sostoken do not get up on being called deepika ex \n",
    "예측 요약 :  cook cook cook cook cook cook cook cook cook cook cook\n",
    "```\n",
    "와 같이 오류가 생성됨\n",
    "-> 추론 모델 구현 과정에서 훈련된 layer를 사용하지 않고 새로 정의하였다. 그래서 학습이 되지 않은 layer들로 추론을 하여 이상한 결과가 나왔다!"
   ]
  },
  {
   "cell_type": "markdown",
   "id": "11a49737",
   "metadata": {},
   "source": [
    "## 5. Summa을 이용해서 추출적 요약해보기"
   ]
  },
  {
   "cell_type": "code",
   "execution_count": 76,
   "id": "55f48c61",
   "metadata": {},
   "outputs": [],
   "source": [
    "from summa.summarizer import summarize"
   ]
  },
  {
   "cell_type": "code",
   "execution_count": 92,
   "id": "bbd28fe9",
   "metadata": {},
   "outputs": [
    {
     "name": "stdout",
     "output_type": "stream",
     "text": [
      "원문 :  A two-year-old toddler was allegedly kidnapped by a woman while playing outside his house with his 11-year-old sister in Gurugram on Tuesday morning. The woman took the toddler to her home after lying to his sister that someone was calling her inside the house. Meanwhile, the police rescued the toddler within five hours and arrested the woman. \n",
      "실제 요약 :  2-yr-old kidnapped by woman in Gurugram, rescued within 5 hrs\n",
      "---------------------------------------------------------\n",
      "추상적 요약 :   yr old woman raped by friend uncle in mumbai\n",
      "추출적 요약 :  The woman took the toddler to her home after lying to his sister that someone was calling her inside the house.\n"
     ]
    }
   ],
   "source": [
    "print(\"원문 : \", data.loc[147, \"text\"])\n",
    "print(\"실제 요약 : \", data.loc[147, \"headlines\"])\n",
    "print(\"---------------------------------------------------------\")\n",
    "print(\"추상적 요약 : \", decode_sequence(encoder_input_test[10].reshape(1, text_max_len)))\n",
    "print(\"추출적 요약 : \", summarize(data.loc[147, \"text\"], words=20))"
   ]
  },
  {
   "cell_type": "markdown",
   "id": "d41ec7c1",
   "metadata": {},
   "source": [
    "#### 추상적 요약과 추출적 요약 결과 비교\n",
    "추상적 요약의 경우 단어를 생성하여 요약해준다. \n",
    "추출적 요약의 경우 문장을 그대로 추출하여 요약해준다. "
   ]
  },
  {
   "cell_type": "markdown",
   "id": "a0f9ac6a",
   "metadata": {},
   "source": [
    "## 회고\n",
    "훈련 과정에서 층을 객체로 선언하는 이유가 궁금했다. 그래서 객체로 선언하지 않고 바로 input값으로부터 output값을 얻는 코드를 작성하였다. 그 결과 예측 요약에 이상한 문구들이 작성되었다. \n",
    "\n",
    "훈련 과정에서 층을 객체로 선언하는 이유:\n",
    "추론 과정에서 훈련된 층을 그대로 가져와서 사용해야 하기 때문이다. \n",
    "\n",
    "또한 attention 층의 경우 첫번째 값이 쿼리, 두번째 값이 value 세번째 값이 key인데, 세번째 값이 결측치일 경우 key를 value와 동일하게 사용된다. "
   ]
  }
 ],
 "metadata": {
  "kernelspec": {
   "display_name": "Python 3 (ipykernel)",
   "language": "python",
   "name": "python3"
  },
  "language_info": {
   "codemirror_mode": {
    "name": "ipython",
    "version": 3
   },
   "file_extension": ".py",
   "mimetype": "text/x-python",
   "name": "python",
   "nbconvert_exporter": "python",
   "pygments_lexer": "ipython3",
   "version": "3.9.7"
  }
 },
 "nbformat": 4,
 "nbformat_minor": 5
}
